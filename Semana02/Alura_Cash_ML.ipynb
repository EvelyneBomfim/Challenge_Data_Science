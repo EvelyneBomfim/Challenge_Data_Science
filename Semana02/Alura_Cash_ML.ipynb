{
  "nbformat": 4,
  "nbformat_minor": 0,
  "metadata": {
    "colab": {
      "provenance": [],
      "collapsed_sections": [
        "v52ZB6KFgXOb",
        "tAv8rfAPsc2b",
        "p1old44hUF9C",
        "QWxwTLk7X44R",
        "8XiGCsjw9fxx"
      ]
    },
    "kernelspec": {
      "name": "python3",
      "display_name": "Python 3"
    },
    "language_info": {
      "name": "python"
    }
  },
  "cells": [
    {
      "cell_type": "markdown",
      "source": [
        "# Alura Cash"
      ],
      "metadata": {
        "id": "ay36e1dtzepY"
      }
    },
    {
      "cell_type": "markdown",
      "source": [
        "Construção de um modelo Machile Learning para identificar quais clientes são possíveis inadimplentes."
      ],
      "metadata": {
        "id": "O3jiFcMPXNIb"
      }
    },
    {
      "cell_type": "code",
      "execution_count": 145,
      "metadata": {
        "id": "5rbzTnbnT4_j"
      },
      "outputs": [],
      "source": [
        "import pandas as pd\n",
        "import numpy as np\n",
        "import seaborn as sns\n",
        "import matplotlib.pyplot as plt"
      ]
    },
    {
      "cell_type": "markdown",
      "source": [
        "## Importando o conjunto de dados"
      ],
      "metadata": {
        "id": "f-_v7xQbCir_"
      }
    },
    {
      "cell_type": "code",
      "source": [
        "url = 'https://raw.githubusercontent.com/EvelyneBomfim/Challenge_Data_Science/main/Dados/analise_risco.csv'\n",
        "dados = pd.read_csv(url)"
      ],
      "metadata": {
        "id": "YHEYUsNZT-Vv"
      },
      "execution_count": 146,
      "outputs": []
    },
    {
      "cell_type": "code",
      "source": [
        "dados.head()"
      ],
      "metadata": {
        "colab": {
          "base_uri": "https://localhost:8080/",
          "height": 339
        },
        "id": "rR3n18bPxY7H",
        "outputId": "e1010981-03ac-4c04-8584-bdf51c5c872b"
      },
      "execution_count": 147,
      "outputs": [
        {
          "output_type": "execute_result",
          "data": {
            "text/plain": [
              "  ID_SOLICITANTE  ID_EMPRESTIMO   ID_HISTORICO ID_SOLICITANTE.1  \\\n",
              "0  JAz2tRvQ-14cy  pjEu6snv-4t33  FIgNSkrG-wen7    JAz2tRvQ-14cy   \n",
              "1  MZSefq9m-loYS  Mfn0Csx4-LGM3  QPDJUQfQ-DJqK    MZSefq9m-loYS   \n",
              "2  cRItaaPB-pRvT  Ks4nz74P-z6Iq  hzAXqSDh-ay7Q    cRItaaPB-pRvT   \n",
              "3  5jTDCfXS-zaAq  ZFlwW08i-I3Al  LiAivrS4-J5DE    5jTDCfXS-zaAq   \n",
              "4  Hbz9PtI3-tOFs  bFMFchcv-UwQW  PkBixMJ3-3bad    Hbz9PtI3-tOFs   \n",
              "\n",
              "   IDADE_SOLICITANTE  SALARIO_ANUAL SITUACAO_PROPRIEDADE  ANOS_TRABALHADOS  \\\n",
              "0                NaN        41160.0              Alugada               2.0   \n",
              "1               22.0        29000.0           Hipotecada               5.0   \n",
              "2               31.0        19968.0              Alugada               1.0   \n",
              "3               29.0        73000.0              Alugada               1.0   \n",
              "4               29.0        42000.0              Alugada               4.0   \n",
              "\n",
              "  ID_EMPRESTIMO.1                MOTIVO PONTUACAO  VALOR_TOTAL_EMPRESTIMO  \\\n",
              "0   pjEu6snv-4t33  Pagamento de débitos         A                  6500.0   \n",
              "1   Mfn0Csx4-LGM3  Pagamento de débitos         B                  9000.0   \n",
              "2   Ks4nz74P-z6Iq             Educativo         B                  2500.0   \n",
              "3   ZFlwW08i-I3Al        Melhora do lar         B                  5000.0   \n",
              "4   bFMFchcv-UwQW        Empreendimento         G                  1600.0   \n",
              "\n",
              "   TAXA_JUROS  POSSIBILIDADE_INADIMPLENCIA  RENDA_PERCENTUAL ID_HISTORICO.1  \\\n",
              "0       13.57                          0.0               NaN  FIgNSkrG-wen7   \n",
              "1         NaN                          1.0              0.31  QPDJUQfQ-DJqK   \n",
              "2        9.62                          1.0              0.13  hzAXqSDh-ay7Q   \n",
              "3       12.42                          0.0               NaN  LiAivrS4-J5DE   \n",
              "4       19.16                          0.0              0.04  PkBixMJ3-3bad   \n",
              "\n",
              "   HISTORICO_INADIMPLENTE  ANOS_CARTAO_CREDITO  \n",
              "0                     1.0                    2  \n",
              "1                     0.0                    4  \n",
              "2                     0.0                    6  \n",
              "3                     NaN                   11  \n",
              "4                     1.0                    6  "
            ],
            "text/html": [
              "\n",
              "  <div id=\"df-382978ae-2bfa-41c3-9408-cf46b176d623\">\n",
              "    <div class=\"colab-df-container\">\n",
              "      <div>\n",
              "<style scoped>\n",
              "    .dataframe tbody tr th:only-of-type {\n",
              "        vertical-align: middle;\n",
              "    }\n",
              "\n",
              "    .dataframe tbody tr th {\n",
              "        vertical-align: top;\n",
              "    }\n",
              "\n",
              "    .dataframe thead th {\n",
              "        text-align: right;\n",
              "    }\n",
              "</style>\n",
              "<table border=\"1\" class=\"dataframe\">\n",
              "  <thead>\n",
              "    <tr style=\"text-align: right;\">\n",
              "      <th></th>\n",
              "      <th>ID_SOLICITANTE</th>\n",
              "      <th>ID_EMPRESTIMO</th>\n",
              "      <th>ID_HISTORICO</th>\n",
              "      <th>ID_SOLICITANTE.1</th>\n",
              "      <th>IDADE_SOLICITANTE</th>\n",
              "      <th>SALARIO_ANUAL</th>\n",
              "      <th>SITUACAO_PROPRIEDADE</th>\n",
              "      <th>ANOS_TRABALHADOS</th>\n",
              "      <th>ID_EMPRESTIMO.1</th>\n",
              "      <th>MOTIVO</th>\n",
              "      <th>PONTUACAO</th>\n",
              "      <th>VALOR_TOTAL_EMPRESTIMO</th>\n",
              "      <th>TAXA_JUROS</th>\n",
              "      <th>POSSIBILIDADE_INADIMPLENCIA</th>\n",
              "      <th>RENDA_PERCENTUAL</th>\n",
              "      <th>ID_HISTORICO.1</th>\n",
              "      <th>HISTORICO_INADIMPLENTE</th>\n",
              "      <th>ANOS_CARTAO_CREDITO</th>\n",
              "    </tr>\n",
              "  </thead>\n",
              "  <tbody>\n",
              "    <tr>\n",
              "      <th>0</th>\n",
              "      <td>JAz2tRvQ-14cy</td>\n",
              "      <td>pjEu6snv-4t33</td>\n",
              "      <td>FIgNSkrG-wen7</td>\n",
              "      <td>JAz2tRvQ-14cy</td>\n",
              "      <td>NaN</td>\n",
              "      <td>41160.0</td>\n",
              "      <td>Alugada</td>\n",
              "      <td>2.0</td>\n",
              "      <td>pjEu6snv-4t33</td>\n",
              "      <td>Pagamento de débitos</td>\n",
              "      <td>A</td>\n",
              "      <td>6500.0</td>\n",
              "      <td>13.57</td>\n",
              "      <td>0.0</td>\n",
              "      <td>NaN</td>\n",
              "      <td>FIgNSkrG-wen7</td>\n",
              "      <td>1.0</td>\n",
              "      <td>2</td>\n",
              "    </tr>\n",
              "    <tr>\n",
              "      <th>1</th>\n",
              "      <td>MZSefq9m-loYS</td>\n",
              "      <td>Mfn0Csx4-LGM3</td>\n",
              "      <td>QPDJUQfQ-DJqK</td>\n",
              "      <td>MZSefq9m-loYS</td>\n",
              "      <td>22.0</td>\n",
              "      <td>29000.0</td>\n",
              "      <td>Hipotecada</td>\n",
              "      <td>5.0</td>\n",
              "      <td>Mfn0Csx4-LGM3</td>\n",
              "      <td>Pagamento de débitos</td>\n",
              "      <td>B</td>\n",
              "      <td>9000.0</td>\n",
              "      <td>NaN</td>\n",
              "      <td>1.0</td>\n",
              "      <td>0.31</td>\n",
              "      <td>QPDJUQfQ-DJqK</td>\n",
              "      <td>0.0</td>\n",
              "      <td>4</td>\n",
              "    </tr>\n",
              "    <tr>\n",
              "      <th>2</th>\n",
              "      <td>cRItaaPB-pRvT</td>\n",
              "      <td>Ks4nz74P-z6Iq</td>\n",
              "      <td>hzAXqSDh-ay7Q</td>\n",
              "      <td>cRItaaPB-pRvT</td>\n",
              "      <td>31.0</td>\n",
              "      <td>19968.0</td>\n",
              "      <td>Alugada</td>\n",
              "      <td>1.0</td>\n",
              "      <td>Ks4nz74P-z6Iq</td>\n",
              "      <td>Educativo</td>\n",
              "      <td>B</td>\n",
              "      <td>2500.0</td>\n",
              "      <td>9.62</td>\n",
              "      <td>1.0</td>\n",
              "      <td>0.13</td>\n",
              "      <td>hzAXqSDh-ay7Q</td>\n",
              "      <td>0.0</td>\n",
              "      <td>6</td>\n",
              "    </tr>\n",
              "    <tr>\n",
              "      <th>3</th>\n",
              "      <td>5jTDCfXS-zaAq</td>\n",
              "      <td>ZFlwW08i-I3Al</td>\n",
              "      <td>LiAivrS4-J5DE</td>\n",
              "      <td>5jTDCfXS-zaAq</td>\n",
              "      <td>29.0</td>\n",
              "      <td>73000.0</td>\n",
              "      <td>Alugada</td>\n",
              "      <td>1.0</td>\n",
              "      <td>ZFlwW08i-I3Al</td>\n",
              "      <td>Melhora do lar</td>\n",
              "      <td>B</td>\n",
              "      <td>5000.0</td>\n",
              "      <td>12.42</td>\n",
              "      <td>0.0</td>\n",
              "      <td>NaN</td>\n",
              "      <td>LiAivrS4-J5DE</td>\n",
              "      <td>NaN</td>\n",
              "      <td>11</td>\n",
              "    </tr>\n",
              "    <tr>\n",
              "      <th>4</th>\n",
              "      <td>Hbz9PtI3-tOFs</td>\n",
              "      <td>bFMFchcv-UwQW</td>\n",
              "      <td>PkBixMJ3-3bad</td>\n",
              "      <td>Hbz9PtI3-tOFs</td>\n",
              "      <td>29.0</td>\n",
              "      <td>42000.0</td>\n",
              "      <td>Alugada</td>\n",
              "      <td>4.0</td>\n",
              "      <td>bFMFchcv-UwQW</td>\n",
              "      <td>Empreendimento</td>\n",
              "      <td>G</td>\n",
              "      <td>1600.0</td>\n",
              "      <td>19.16</td>\n",
              "      <td>0.0</td>\n",
              "      <td>0.04</td>\n",
              "      <td>PkBixMJ3-3bad</td>\n",
              "      <td>1.0</td>\n",
              "      <td>6</td>\n",
              "    </tr>\n",
              "  </tbody>\n",
              "</table>\n",
              "</div>\n",
              "      <button class=\"colab-df-convert\" onclick=\"convertToInteractive('df-382978ae-2bfa-41c3-9408-cf46b176d623')\"\n",
              "              title=\"Convert this dataframe to an interactive table.\"\n",
              "              style=\"display:none;\">\n",
              "        \n",
              "  <svg xmlns=\"http://www.w3.org/2000/svg\" height=\"24px\"viewBox=\"0 0 24 24\"\n",
              "       width=\"24px\">\n",
              "    <path d=\"M0 0h24v24H0V0z\" fill=\"none\"/>\n",
              "    <path d=\"M18.56 5.44l.94 2.06.94-2.06 2.06-.94-2.06-.94-.94-2.06-.94 2.06-2.06.94zm-11 1L8.5 8.5l.94-2.06 2.06-.94-2.06-.94L8.5 2.5l-.94 2.06-2.06.94zm10 10l.94 2.06.94-2.06 2.06-.94-2.06-.94-.94-2.06-.94 2.06-2.06.94z\"/><path d=\"M17.41 7.96l-1.37-1.37c-.4-.4-.92-.59-1.43-.59-.52 0-1.04.2-1.43.59L10.3 9.45l-7.72 7.72c-.78.78-.78 2.05 0 2.83L4 21.41c.39.39.9.59 1.41.59.51 0 1.02-.2 1.41-.59l7.78-7.78 2.81-2.81c.8-.78.8-2.07 0-2.86zM5.41 20L4 18.59l7.72-7.72 1.47 1.35L5.41 20z\"/>\n",
              "  </svg>\n",
              "      </button>\n",
              "      \n",
              "  <style>\n",
              "    .colab-df-container {\n",
              "      display:flex;\n",
              "      flex-wrap:wrap;\n",
              "      gap: 12px;\n",
              "    }\n",
              "\n",
              "    .colab-df-convert {\n",
              "      background-color: #E8F0FE;\n",
              "      border: none;\n",
              "      border-radius: 50%;\n",
              "      cursor: pointer;\n",
              "      display: none;\n",
              "      fill: #1967D2;\n",
              "      height: 32px;\n",
              "      padding: 0 0 0 0;\n",
              "      width: 32px;\n",
              "    }\n",
              "\n",
              "    .colab-df-convert:hover {\n",
              "      background-color: #E2EBFA;\n",
              "      box-shadow: 0px 1px 2px rgba(60, 64, 67, 0.3), 0px 1px 3px 1px rgba(60, 64, 67, 0.15);\n",
              "      fill: #174EA6;\n",
              "    }\n",
              "\n",
              "    [theme=dark] .colab-df-convert {\n",
              "      background-color: #3B4455;\n",
              "      fill: #D2E3FC;\n",
              "    }\n",
              "\n",
              "    [theme=dark] .colab-df-convert:hover {\n",
              "      background-color: #434B5C;\n",
              "      box-shadow: 0px 1px 3px 1px rgba(0, 0, 0, 0.15);\n",
              "      filter: drop-shadow(0px 1px 2px rgba(0, 0, 0, 0.3));\n",
              "      fill: #FFFFFF;\n",
              "    }\n",
              "  </style>\n",
              "\n",
              "      <script>\n",
              "        const buttonEl =\n",
              "          document.querySelector('#df-382978ae-2bfa-41c3-9408-cf46b176d623 button.colab-df-convert');\n",
              "        buttonEl.style.display =\n",
              "          google.colab.kernel.accessAllowed ? 'block' : 'none';\n",
              "\n",
              "        async function convertToInteractive(key) {\n",
              "          const element = document.querySelector('#df-382978ae-2bfa-41c3-9408-cf46b176d623');\n",
              "          const dataTable =\n",
              "            await google.colab.kernel.invokeFunction('convertToInteractive',\n",
              "                                                     [key], {});\n",
              "          if (!dataTable) return;\n",
              "\n",
              "          const docLinkHtml = 'Like what you see? Visit the ' +\n",
              "            '<a target=\"_blank\" href=https://colab.research.google.com/notebooks/data_table.ipynb>data table notebook</a>'\n",
              "            + ' to learn more about interactive tables.';\n",
              "          element.innerHTML = '';\n",
              "          dataTable['output_type'] = 'display_data';\n",
              "          await google.colab.output.renderOutput(dataTable, element);\n",
              "          const docLink = document.createElement('div');\n",
              "          docLink.innerHTML = docLinkHtml;\n",
              "          element.appendChild(docLink);\n",
              "        }\n",
              "      </script>\n",
              "    </div>\n",
              "  </div>\n",
              "  "
            ]
          },
          "metadata": {},
          "execution_count": 147
        }
      ]
    },
    {
      "cell_type": "code",
      "source": [
        "print('O conjunto de dados possui {0} linhas e {1} colunas'.format(dados.shape[0], dados.shape[1]))"
      ],
      "metadata": {
        "colab": {
          "base_uri": "https://localhost:8080/"
        },
        "id": "I2iYd86JsKiV",
        "outputId": "be622367-aa8d-4a66-910b-15f04e5250c6"
      },
      "execution_count": 148,
      "outputs": [
        {
          "output_type": "stream",
          "name": "stdout",
          "text": [
            "O conjunto de dados possui 14952 linhas e 18 colunas\n"
          ]
        }
      ]
    },
    {
      "cell_type": "code",
      "source": [
        "dados.info()"
      ],
      "metadata": {
        "colab": {
          "base_uri": "https://localhost:8080/"
        },
        "id": "A9K_TuNyUF9h",
        "outputId": "2ac3e1c1-3243-4017-e0a7-d5c68b3b2623"
      },
      "execution_count": 149,
      "outputs": [
        {
          "output_type": "stream",
          "name": "stdout",
          "text": [
            "<class 'pandas.core.frame.DataFrame'>\n",
            "RangeIndex: 14952 entries, 0 to 14951\n",
            "Data columns (total 18 columns):\n",
            " #   Column                       Non-Null Count  Dtype  \n",
            "---  ------                       --------------  -----  \n",
            " 0   ID_SOLICITANTE               14952 non-null  object \n",
            " 1   ID_EMPRESTIMO                14952 non-null  object \n",
            " 2   ID_HISTORICO                 14952 non-null  object \n",
            " 3   ID_SOLICITANTE.1             14952 non-null  object \n",
            " 4   IDADE_SOLICITANTE            14819 non-null  float64\n",
            " 5   SALARIO_ANUAL                14809 non-null  float64\n",
            " 6   SITUACAO_PROPRIEDADE         14800 non-null  object \n",
            " 7   ANOS_TRABALHADOS             14389 non-null  float64\n",
            " 8   ID_EMPRESTIMO.1              14952 non-null  object \n",
            " 9   MOTIVO                       14844 non-null  object \n",
            " 10  PONTUACAO                    14828 non-null  object \n",
            " 11  VALOR_TOTAL_EMPRESTIMO       14813 non-null  float64\n",
            " 12  TAXA_JUROS                   13384 non-null  float64\n",
            " 13  POSSIBILIDADE_INADIMPLENCIA  14795 non-null  float64\n",
            " 14  RENDA_PERCENTUAL             14812 non-null  float64\n",
            " 15  ID_HISTORICO.1               14952 non-null  object \n",
            " 16  HISTORICO_INADIMPLENTE       14791 non-null  float64\n",
            " 17  ANOS_CARTAO_CREDITO          14952 non-null  int64  \n",
            "dtypes: float64(8), int64(1), object(9)\n",
            "memory usage: 2.1+ MB\n"
          ]
        }
      ]
    },
    {
      "cell_type": "markdown",
      "source": [
        "## Tratando as colunas"
      ],
      "metadata": {
        "id": "40Ct33RS2GZp"
      }
    },
    {
      "cell_type": "markdown",
      "source": [
        "### Renomeando as colunas\n",
        "O nome das colunas está todo em maiusculo, irei alterar para ficar em minusculo"
      ],
      "metadata": {
        "id": "v52ZB6KFgXOb"
      }
    },
    {
      "cell_type": "code",
      "source": [
        "dados.columns = dados.columns.str.lower()\n",
        "dados.head()"
      ],
      "metadata": {
        "colab": {
          "base_uri": "https://localhost:8080/",
          "height": 0
        },
        "id": "iyxbrxmhgEYl",
        "outputId": "ddaee8f8-c13d-4261-ebc0-a35bf00fe346"
      },
      "execution_count": 150,
      "outputs": [
        {
          "output_type": "execute_result",
          "data": {
            "text/plain": [
              "  id_solicitante  id_emprestimo   id_historico id_solicitante.1  \\\n",
              "0  JAz2tRvQ-14cy  pjEu6snv-4t33  FIgNSkrG-wen7    JAz2tRvQ-14cy   \n",
              "1  MZSefq9m-loYS  Mfn0Csx4-LGM3  QPDJUQfQ-DJqK    MZSefq9m-loYS   \n",
              "2  cRItaaPB-pRvT  Ks4nz74P-z6Iq  hzAXqSDh-ay7Q    cRItaaPB-pRvT   \n",
              "3  5jTDCfXS-zaAq  ZFlwW08i-I3Al  LiAivrS4-J5DE    5jTDCfXS-zaAq   \n",
              "4  Hbz9PtI3-tOFs  bFMFchcv-UwQW  PkBixMJ3-3bad    Hbz9PtI3-tOFs   \n",
              "\n",
              "   idade_solicitante  salario_anual situacao_propriedade  anos_trabalhados  \\\n",
              "0                NaN        41160.0              Alugada               2.0   \n",
              "1               22.0        29000.0           Hipotecada               5.0   \n",
              "2               31.0        19968.0              Alugada               1.0   \n",
              "3               29.0        73000.0              Alugada               1.0   \n",
              "4               29.0        42000.0              Alugada               4.0   \n",
              "\n",
              "  id_emprestimo.1                motivo pontuacao  valor_total_emprestimo  \\\n",
              "0   pjEu6snv-4t33  Pagamento de débitos         A                  6500.0   \n",
              "1   Mfn0Csx4-LGM3  Pagamento de débitos         B                  9000.0   \n",
              "2   Ks4nz74P-z6Iq             Educativo         B                  2500.0   \n",
              "3   ZFlwW08i-I3Al        Melhora do lar         B                  5000.0   \n",
              "4   bFMFchcv-UwQW        Empreendimento         G                  1600.0   \n",
              "\n",
              "   taxa_juros  possibilidade_inadimplencia  renda_percentual id_historico.1  \\\n",
              "0       13.57                          0.0               NaN  FIgNSkrG-wen7   \n",
              "1         NaN                          1.0              0.31  QPDJUQfQ-DJqK   \n",
              "2        9.62                          1.0              0.13  hzAXqSDh-ay7Q   \n",
              "3       12.42                          0.0               NaN  LiAivrS4-J5DE   \n",
              "4       19.16                          0.0              0.04  PkBixMJ3-3bad   \n",
              "\n",
              "   historico_inadimplente  anos_cartao_credito  \n",
              "0                     1.0                    2  \n",
              "1                     0.0                    4  \n",
              "2                     0.0                    6  \n",
              "3                     NaN                   11  \n",
              "4                     1.0                    6  "
            ],
            "text/html": [
              "\n",
              "  <div id=\"df-a33b5f67-3625-48cd-b6f1-9984ef40e109\">\n",
              "    <div class=\"colab-df-container\">\n",
              "      <div>\n",
              "<style scoped>\n",
              "    .dataframe tbody tr th:only-of-type {\n",
              "        vertical-align: middle;\n",
              "    }\n",
              "\n",
              "    .dataframe tbody tr th {\n",
              "        vertical-align: top;\n",
              "    }\n",
              "\n",
              "    .dataframe thead th {\n",
              "        text-align: right;\n",
              "    }\n",
              "</style>\n",
              "<table border=\"1\" class=\"dataframe\">\n",
              "  <thead>\n",
              "    <tr style=\"text-align: right;\">\n",
              "      <th></th>\n",
              "      <th>id_solicitante</th>\n",
              "      <th>id_emprestimo</th>\n",
              "      <th>id_historico</th>\n",
              "      <th>id_solicitante.1</th>\n",
              "      <th>idade_solicitante</th>\n",
              "      <th>salario_anual</th>\n",
              "      <th>situacao_propriedade</th>\n",
              "      <th>anos_trabalhados</th>\n",
              "      <th>id_emprestimo.1</th>\n",
              "      <th>motivo</th>\n",
              "      <th>pontuacao</th>\n",
              "      <th>valor_total_emprestimo</th>\n",
              "      <th>taxa_juros</th>\n",
              "      <th>possibilidade_inadimplencia</th>\n",
              "      <th>renda_percentual</th>\n",
              "      <th>id_historico.1</th>\n",
              "      <th>historico_inadimplente</th>\n",
              "      <th>anos_cartao_credito</th>\n",
              "    </tr>\n",
              "  </thead>\n",
              "  <tbody>\n",
              "    <tr>\n",
              "      <th>0</th>\n",
              "      <td>JAz2tRvQ-14cy</td>\n",
              "      <td>pjEu6snv-4t33</td>\n",
              "      <td>FIgNSkrG-wen7</td>\n",
              "      <td>JAz2tRvQ-14cy</td>\n",
              "      <td>NaN</td>\n",
              "      <td>41160.0</td>\n",
              "      <td>Alugada</td>\n",
              "      <td>2.0</td>\n",
              "      <td>pjEu6snv-4t33</td>\n",
              "      <td>Pagamento de débitos</td>\n",
              "      <td>A</td>\n",
              "      <td>6500.0</td>\n",
              "      <td>13.57</td>\n",
              "      <td>0.0</td>\n",
              "      <td>NaN</td>\n",
              "      <td>FIgNSkrG-wen7</td>\n",
              "      <td>1.0</td>\n",
              "      <td>2</td>\n",
              "    </tr>\n",
              "    <tr>\n",
              "      <th>1</th>\n",
              "      <td>MZSefq9m-loYS</td>\n",
              "      <td>Mfn0Csx4-LGM3</td>\n",
              "      <td>QPDJUQfQ-DJqK</td>\n",
              "      <td>MZSefq9m-loYS</td>\n",
              "      <td>22.0</td>\n",
              "      <td>29000.0</td>\n",
              "      <td>Hipotecada</td>\n",
              "      <td>5.0</td>\n",
              "      <td>Mfn0Csx4-LGM3</td>\n",
              "      <td>Pagamento de débitos</td>\n",
              "      <td>B</td>\n",
              "      <td>9000.0</td>\n",
              "      <td>NaN</td>\n",
              "      <td>1.0</td>\n",
              "      <td>0.31</td>\n",
              "      <td>QPDJUQfQ-DJqK</td>\n",
              "      <td>0.0</td>\n",
              "      <td>4</td>\n",
              "    </tr>\n",
              "    <tr>\n",
              "      <th>2</th>\n",
              "      <td>cRItaaPB-pRvT</td>\n",
              "      <td>Ks4nz74P-z6Iq</td>\n",
              "      <td>hzAXqSDh-ay7Q</td>\n",
              "      <td>cRItaaPB-pRvT</td>\n",
              "      <td>31.0</td>\n",
              "      <td>19968.0</td>\n",
              "      <td>Alugada</td>\n",
              "      <td>1.0</td>\n",
              "      <td>Ks4nz74P-z6Iq</td>\n",
              "      <td>Educativo</td>\n",
              "      <td>B</td>\n",
              "      <td>2500.0</td>\n",
              "      <td>9.62</td>\n",
              "      <td>1.0</td>\n",
              "      <td>0.13</td>\n",
              "      <td>hzAXqSDh-ay7Q</td>\n",
              "      <td>0.0</td>\n",
              "      <td>6</td>\n",
              "    </tr>\n",
              "    <tr>\n",
              "      <th>3</th>\n",
              "      <td>5jTDCfXS-zaAq</td>\n",
              "      <td>ZFlwW08i-I3Al</td>\n",
              "      <td>LiAivrS4-J5DE</td>\n",
              "      <td>5jTDCfXS-zaAq</td>\n",
              "      <td>29.0</td>\n",
              "      <td>73000.0</td>\n",
              "      <td>Alugada</td>\n",
              "      <td>1.0</td>\n",
              "      <td>ZFlwW08i-I3Al</td>\n",
              "      <td>Melhora do lar</td>\n",
              "      <td>B</td>\n",
              "      <td>5000.0</td>\n",
              "      <td>12.42</td>\n",
              "      <td>0.0</td>\n",
              "      <td>NaN</td>\n",
              "      <td>LiAivrS4-J5DE</td>\n",
              "      <td>NaN</td>\n",
              "      <td>11</td>\n",
              "    </tr>\n",
              "    <tr>\n",
              "      <th>4</th>\n",
              "      <td>Hbz9PtI3-tOFs</td>\n",
              "      <td>bFMFchcv-UwQW</td>\n",
              "      <td>PkBixMJ3-3bad</td>\n",
              "      <td>Hbz9PtI3-tOFs</td>\n",
              "      <td>29.0</td>\n",
              "      <td>42000.0</td>\n",
              "      <td>Alugada</td>\n",
              "      <td>4.0</td>\n",
              "      <td>bFMFchcv-UwQW</td>\n",
              "      <td>Empreendimento</td>\n",
              "      <td>G</td>\n",
              "      <td>1600.0</td>\n",
              "      <td>19.16</td>\n",
              "      <td>0.0</td>\n",
              "      <td>0.04</td>\n",
              "      <td>PkBixMJ3-3bad</td>\n",
              "      <td>1.0</td>\n",
              "      <td>6</td>\n",
              "    </tr>\n",
              "  </tbody>\n",
              "</table>\n",
              "</div>\n",
              "      <button class=\"colab-df-convert\" onclick=\"convertToInteractive('df-a33b5f67-3625-48cd-b6f1-9984ef40e109')\"\n",
              "              title=\"Convert this dataframe to an interactive table.\"\n",
              "              style=\"display:none;\">\n",
              "        \n",
              "  <svg xmlns=\"http://www.w3.org/2000/svg\" height=\"24px\"viewBox=\"0 0 24 24\"\n",
              "       width=\"24px\">\n",
              "    <path d=\"M0 0h24v24H0V0z\" fill=\"none\"/>\n",
              "    <path d=\"M18.56 5.44l.94 2.06.94-2.06 2.06-.94-2.06-.94-.94-2.06-.94 2.06-2.06.94zm-11 1L8.5 8.5l.94-2.06 2.06-.94-2.06-.94L8.5 2.5l-.94 2.06-2.06.94zm10 10l.94 2.06.94-2.06 2.06-.94-2.06-.94-.94-2.06-.94 2.06-2.06.94z\"/><path d=\"M17.41 7.96l-1.37-1.37c-.4-.4-.92-.59-1.43-.59-.52 0-1.04.2-1.43.59L10.3 9.45l-7.72 7.72c-.78.78-.78 2.05 0 2.83L4 21.41c.39.39.9.59 1.41.59.51 0 1.02-.2 1.41-.59l7.78-7.78 2.81-2.81c.8-.78.8-2.07 0-2.86zM5.41 20L4 18.59l7.72-7.72 1.47 1.35L5.41 20z\"/>\n",
              "  </svg>\n",
              "      </button>\n",
              "      \n",
              "  <style>\n",
              "    .colab-df-container {\n",
              "      display:flex;\n",
              "      flex-wrap:wrap;\n",
              "      gap: 12px;\n",
              "    }\n",
              "\n",
              "    .colab-df-convert {\n",
              "      background-color: #E8F0FE;\n",
              "      border: none;\n",
              "      border-radius: 50%;\n",
              "      cursor: pointer;\n",
              "      display: none;\n",
              "      fill: #1967D2;\n",
              "      height: 32px;\n",
              "      padding: 0 0 0 0;\n",
              "      width: 32px;\n",
              "    }\n",
              "\n",
              "    .colab-df-convert:hover {\n",
              "      background-color: #E2EBFA;\n",
              "      box-shadow: 0px 1px 2px rgba(60, 64, 67, 0.3), 0px 1px 3px 1px rgba(60, 64, 67, 0.15);\n",
              "      fill: #174EA6;\n",
              "    }\n",
              "\n",
              "    [theme=dark] .colab-df-convert {\n",
              "      background-color: #3B4455;\n",
              "      fill: #D2E3FC;\n",
              "    }\n",
              "\n",
              "    [theme=dark] .colab-df-convert:hover {\n",
              "      background-color: #434B5C;\n",
              "      box-shadow: 0px 1px 3px 1px rgba(0, 0, 0, 0.15);\n",
              "      filter: drop-shadow(0px 1px 2px rgba(0, 0, 0, 0.3));\n",
              "      fill: #FFFFFF;\n",
              "    }\n",
              "  </style>\n",
              "\n",
              "      <script>\n",
              "        const buttonEl =\n",
              "          document.querySelector('#df-a33b5f67-3625-48cd-b6f1-9984ef40e109 button.colab-df-convert');\n",
              "        buttonEl.style.display =\n",
              "          google.colab.kernel.accessAllowed ? 'block' : 'none';\n",
              "\n",
              "        async function convertToInteractive(key) {\n",
              "          const element = document.querySelector('#df-a33b5f67-3625-48cd-b6f1-9984ef40e109');\n",
              "          const dataTable =\n",
              "            await google.colab.kernel.invokeFunction('convertToInteractive',\n",
              "                                                     [key], {});\n",
              "          if (!dataTable) return;\n",
              "\n",
              "          const docLinkHtml = 'Like what you see? Visit the ' +\n",
              "            '<a target=\"_blank\" href=https://colab.research.google.com/notebooks/data_table.ipynb>data table notebook</a>'\n",
              "            + ' to learn more about interactive tables.';\n",
              "          element.innerHTML = '';\n",
              "          dataTable['output_type'] = 'display_data';\n",
              "          await google.colab.output.renderOutput(dataTable, element);\n",
              "          const docLink = document.createElement('div');\n",
              "          docLink.innerHTML = docLinkHtml;\n",
              "          element.appendChild(docLink);\n",
              "        }\n",
              "      </script>\n",
              "    </div>\n",
              "  </div>\n",
              "  "
            ]
          },
          "metadata": {},
          "execution_count": 150
        }
      ]
    },
    {
      "cell_type": "markdown",
      "source": [
        "### Excluindo colunas\n",
        "Irei excluir as colunas ID e as repetidas (id_solicitante.1, id_emprestimo.1, id_historico.1)"
      ],
      "metadata": {
        "id": "tAv8rfAPsc2b"
      }
    },
    {
      "cell_type": "code",
      "source": [
        "dados.drop(columns=['id_solicitante', 'id_emprestimo', 'id_historico','id_solicitante.1', 'id_emprestimo.1', 'id_historico.1'], inplace=True)\n",
        "dados.head()"
      ],
      "metadata": {
        "colab": {
          "base_uri": "https://localhost:8080/",
          "height": 0
        },
        "id": "8Hmf7ncdsqae",
        "outputId": "6ff1891e-42fd-4a6b-913e-43f8c1d8f27a"
      },
      "execution_count": 151,
      "outputs": [
        {
          "output_type": "execute_result",
          "data": {
            "text/plain": [
              "   idade_solicitante  salario_anual situacao_propriedade  anos_trabalhados  \\\n",
              "0                NaN        41160.0              Alugada               2.0   \n",
              "1               22.0        29000.0           Hipotecada               5.0   \n",
              "2               31.0        19968.0              Alugada               1.0   \n",
              "3               29.0        73000.0              Alugada               1.0   \n",
              "4               29.0        42000.0              Alugada               4.0   \n",
              "\n",
              "                 motivo pontuacao  valor_total_emprestimo  taxa_juros  \\\n",
              "0  Pagamento de débitos         A                  6500.0       13.57   \n",
              "1  Pagamento de débitos         B                  9000.0         NaN   \n",
              "2             Educativo         B                  2500.0        9.62   \n",
              "3        Melhora do lar         B                  5000.0       12.42   \n",
              "4        Empreendimento         G                  1600.0       19.16   \n",
              "\n",
              "   possibilidade_inadimplencia  renda_percentual  historico_inadimplente  \\\n",
              "0                          0.0               NaN                     1.0   \n",
              "1                          1.0              0.31                     0.0   \n",
              "2                          1.0              0.13                     0.0   \n",
              "3                          0.0               NaN                     NaN   \n",
              "4                          0.0              0.04                     1.0   \n",
              "\n",
              "   anos_cartao_credito  \n",
              "0                    2  \n",
              "1                    4  \n",
              "2                    6  \n",
              "3                   11  \n",
              "4                    6  "
            ],
            "text/html": [
              "\n",
              "  <div id=\"df-4c39c28a-b97a-4797-9477-29e88c3a2156\">\n",
              "    <div class=\"colab-df-container\">\n",
              "      <div>\n",
              "<style scoped>\n",
              "    .dataframe tbody tr th:only-of-type {\n",
              "        vertical-align: middle;\n",
              "    }\n",
              "\n",
              "    .dataframe tbody tr th {\n",
              "        vertical-align: top;\n",
              "    }\n",
              "\n",
              "    .dataframe thead th {\n",
              "        text-align: right;\n",
              "    }\n",
              "</style>\n",
              "<table border=\"1\" class=\"dataframe\">\n",
              "  <thead>\n",
              "    <tr style=\"text-align: right;\">\n",
              "      <th></th>\n",
              "      <th>idade_solicitante</th>\n",
              "      <th>salario_anual</th>\n",
              "      <th>situacao_propriedade</th>\n",
              "      <th>anos_trabalhados</th>\n",
              "      <th>motivo</th>\n",
              "      <th>pontuacao</th>\n",
              "      <th>valor_total_emprestimo</th>\n",
              "      <th>taxa_juros</th>\n",
              "      <th>possibilidade_inadimplencia</th>\n",
              "      <th>renda_percentual</th>\n",
              "      <th>historico_inadimplente</th>\n",
              "      <th>anos_cartao_credito</th>\n",
              "    </tr>\n",
              "  </thead>\n",
              "  <tbody>\n",
              "    <tr>\n",
              "      <th>0</th>\n",
              "      <td>NaN</td>\n",
              "      <td>41160.0</td>\n",
              "      <td>Alugada</td>\n",
              "      <td>2.0</td>\n",
              "      <td>Pagamento de débitos</td>\n",
              "      <td>A</td>\n",
              "      <td>6500.0</td>\n",
              "      <td>13.57</td>\n",
              "      <td>0.0</td>\n",
              "      <td>NaN</td>\n",
              "      <td>1.0</td>\n",
              "      <td>2</td>\n",
              "    </tr>\n",
              "    <tr>\n",
              "      <th>1</th>\n",
              "      <td>22.0</td>\n",
              "      <td>29000.0</td>\n",
              "      <td>Hipotecada</td>\n",
              "      <td>5.0</td>\n",
              "      <td>Pagamento de débitos</td>\n",
              "      <td>B</td>\n",
              "      <td>9000.0</td>\n",
              "      <td>NaN</td>\n",
              "      <td>1.0</td>\n",
              "      <td>0.31</td>\n",
              "      <td>0.0</td>\n",
              "      <td>4</td>\n",
              "    </tr>\n",
              "    <tr>\n",
              "      <th>2</th>\n",
              "      <td>31.0</td>\n",
              "      <td>19968.0</td>\n",
              "      <td>Alugada</td>\n",
              "      <td>1.0</td>\n",
              "      <td>Educativo</td>\n",
              "      <td>B</td>\n",
              "      <td>2500.0</td>\n",
              "      <td>9.62</td>\n",
              "      <td>1.0</td>\n",
              "      <td>0.13</td>\n",
              "      <td>0.0</td>\n",
              "      <td>6</td>\n",
              "    </tr>\n",
              "    <tr>\n",
              "      <th>3</th>\n",
              "      <td>29.0</td>\n",
              "      <td>73000.0</td>\n",
              "      <td>Alugada</td>\n",
              "      <td>1.0</td>\n",
              "      <td>Melhora do lar</td>\n",
              "      <td>B</td>\n",
              "      <td>5000.0</td>\n",
              "      <td>12.42</td>\n",
              "      <td>0.0</td>\n",
              "      <td>NaN</td>\n",
              "      <td>NaN</td>\n",
              "      <td>11</td>\n",
              "    </tr>\n",
              "    <tr>\n",
              "      <th>4</th>\n",
              "      <td>29.0</td>\n",
              "      <td>42000.0</td>\n",
              "      <td>Alugada</td>\n",
              "      <td>4.0</td>\n",
              "      <td>Empreendimento</td>\n",
              "      <td>G</td>\n",
              "      <td>1600.0</td>\n",
              "      <td>19.16</td>\n",
              "      <td>0.0</td>\n",
              "      <td>0.04</td>\n",
              "      <td>1.0</td>\n",
              "      <td>6</td>\n",
              "    </tr>\n",
              "  </tbody>\n",
              "</table>\n",
              "</div>\n",
              "      <button class=\"colab-df-convert\" onclick=\"convertToInteractive('df-4c39c28a-b97a-4797-9477-29e88c3a2156')\"\n",
              "              title=\"Convert this dataframe to an interactive table.\"\n",
              "              style=\"display:none;\">\n",
              "        \n",
              "  <svg xmlns=\"http://www.w3.org/2000/svg\" height=\"24px\"viewBox=\"0 0 24 24\"\n",
              "       width=\"24px\">\n",
              "    <path d=\"M0 0h24v24H0V0z\" fill=\"none\"/>\n",
              "    <path d=\"M18.56 5.44l.94 2.06.94-2.06 2.06-.94-2.06-.94-.94-2.06-.94 2.06-2.06.94zm-11 1L8.5 8.5l.94-2.06 2.06-.94-2.06-.94L8.5 2.5l-.94 2.06-2.06.94zm10 10l.94 2.06.94-2.06 2.06-.94-2.06-.94-.94-2.06-.94 2.06-2.06.94z\"/><path d=\"M17.41 7.96l-1.37-1.37c-.4-.4-.92-.59-1.43-.59-.52 0-1.04.2-1.43.59L10.3 9.45l-7.72 7.72c-.78.78-.78 2.05 0 2.83L4 21.41c.39.39.9.59 1.41.59.51 0 1.02-.2 1.41-.59l7.78-7.78 2.81-2.81c.8-.78.8-2.07 0-2.86zM5.41 20L4 18.59l7.72-7.72 1.47 1.35L5.41 20z\"/>\n",
              "  </svg>\n",
              "      </button>\n",
              "      \n",
              "  <style>\n",
              "    .colab-df-container {\n",
              "      display:flex;\n",
              "      flex-wrap:wrap;\n",
              "      gap: 12px;\n",
              "    }\n",
              "\n",
              "    .colab-df-convert {\n",
              "      background-color: #E8F0FE;\n",
              "      border: none;\n",
              "      border-radius: 50%;\n",
              "      cursor: pointer;\n",
              "      display: none;\n",
              "      fill: #1967D2;\n",
              "      height: 32px;\n",
              "      padding: 0 0 0 0;\n",
              "      width: 32px;\n",
              "    }\n",
              "\n",
              "    .colab-df-convert:hover {\n",
              "      background-color: #E2EBFA;\n",
              "      box-shadow: 0px 1px 2px rgba(60, 64, 67, 0.3), 0px 1px 3px 1px rgba(60, 64, 67, 0.15);\n",
              "      fill: #174EA6;\n",
              "    }\n",
              "\n",
              "    [theme=dark] .colab-df-convert {\n",
              "      background-color: #3B4455;\n",
              "      fill: #D2E3FC;\n",
              "    }\n",
              "\n",
              "    [theme=dark] .colab-df-convert:hover {\n",
              "      background-color: #434B5C;\n",
              "      box-shadow: 0px 1px 3px 1px rgba(0, 0, 0, 0.15);\n",
              "      filter: drop-shadow(0px 1px 2px rgba(0, 0, 0, 0.3));\n",
              "      fill: #FFFFFF;\n",
              "    }\n",
              "  </style>\n",
              "\n",
              "      <script>\n",
              "        const buttonEl =\n",
              "          document.querySelector('#df-4c39c28a-b97a-4797-9477-29e88c3a2156 button.colab-df-convert');\n",
              "        buttonEl.style.display =\n",
              "          google.colab.kernel.accessAllowed ? 'block' : 'none';\n",
              "\n",
              "        async function convertToInteractive(key) {\n",
              "          const element = document.querySelector('#df-4c39c28a-b97a-4797-9477-29e88c3a2156');\n",
              "          const dataTable =\n",
              "            await google.colab.kernel.invokeFunction('convertToInteractive',\n",
              "                                                     [key], {});\n",
              "          if (!dataTable) return;\n",
              "\n",
              "          const docLinkHtml = 'Like what you see? Visit the ' +\n",
              "            '<a target=\"_blank\" href=https://colab.research.google.com/notebooks/data_table.ipynb>data table notebook</a>'\n",
              "            + ' to learn more about interactive tables.';\n",
              "          element.innerHTML = '';\n",
              "          dataTable['output_type'] = 'display_data';\n",
              "          await google.colab.output.renderOutput(dataTable, element);\n",
              "          const docLink = document.createElement('div');\n",
              "          docLink.innerHTML = docLinkHtml;\n",
              "          element.appendChild(docLink);\n",
              "        }\n",
              "      </script>\n",
              "    </div>\n",
              "  </div>\n",
              "  "
            ]
          },
          "metadata": {},
          "execution_count": 151
        }
      ]
    },
    {
      "cell_type": "markdown",
      "source": [
        "## Excluindo dados nulos\n",
        "Irei excluir as linhas que possuem campos nulos."
      ],
      "metadata": {
        "id": "p1old44hUF9C"
      }
    },
    {
      "cell_type": "code",
      "source": [
        "dados.isnull().sum()"
      ],
      "metadata": {
        "colab": {
          "base_uri": "https://localhost:8080/"
        },
        "id": "eZDuq2fFojjI",
        "outputId": "ee83bedf-a214-473b-eab1-aa4b0de58401"
      },
      "execution_count": 152,
      "outputs": [
        {
          "output_type": "execute_result",
          "data": {
            "text/plain": [
              "idade_solicitante               133\n",
              "salario_anual                   143\n",
              "situacao_propriedade            152\n",
              "anos_trabalhados                563\n",
              "motivo                          108\n",
              "pontuacao                       124\n",
              "valor_total_emprestimo          139\n",
              "taxa_juros                     1568\n",
              "possibilidade_inadimplencia     157\n",
              "renda_percentual                140\n",
              "historico_inadimplente          161\n",
              "anos_cartao_credito               0\n",
              "dtype: int64"
            ]
          },
          "metadata": {},
          "execution_count": 152
        }
      ]
    },
    {
      "cell_type": "code",
      "source": [
        "dados.dropna(axis=0, how='any', inplace=True)\n",
        "#dados.head()"
      ],
      "metadata": {
        "id": "boBPd-MWsqCE"
      },
      "execution_count": 153,
      "outputs": []
    },
    {
      "cell_type": "code",
      "source": [
        "# Resetando o index\n",
        "dados.reset_index(drop=True, inplace=True)\n",
        "dados.head()"
      ],
      "metadata": {
        "colab": {
          "base_uri": "https://localhost:8080/",
          "height": 0
        },
        "id": "YBai1aIXVlXb",
        "outputId": "b1ab83dd-bf75-4d98-98e0-0c1d1080939f"
      },
      "execution_count": 154,
      "outputs": [
        {
          "output_type": "execute_result",
          "data": {
            "text/plain": [
              "   idade_solicitante  salario_anual situacao_propriedade  anos_trabalhados  \\\n",
              "0               31.0        19968.0              Alugada               1.0   \n",
              "1               29.0        42000.0              Alugada               4.0   \n",
              "2               21.0        45000.0              Alugada               3.0   \n",
              "3               22.0        72000.0              Própria               1.0   \n",
              "4               24.0        81600.0              Alugada               5.0   \n",
              "\n",
              "           motivo pontuacao  valor_total_emprestimo  taxa_juros  \\\n",
              "0       Educativo         B                  2500.0        9.62   \n",
              "1  Empreendimento         G                  1600.0       19.16   \n",
              "2         Pessoal         A                  7200.0        9.38   \n",
              "3  Empreendimento         B                 15000.0       10.25   \n",
              "4  Empreendimento         C                  8000.0       12.84   \n",
              "\n",
              "   possibilidade_inadimplencia  renda_percentual  historico_inadimplente  \\\n",
              "0                          1.0              0.13                     0.0   \n",
              "1                          0.0              0.04                     1.0   \n",
              "2                          0.0              0.16                     0.0   \n",
              "3                          0.0              0.21                     0.0   \n",
              "4                          0.0              0.10                     1.0   \n",
              "\n",
              "   anos_cartao_credito  \n",
              "0                    6  \n",
              "1                    6  \n",
              "2                    4  \n",
              "3                    4  \n",
              "4                    2  "
            ],
            "text/html": [
              "\n",
              "  <div id=\"df-313c1915-df5c-4d35-828b-7f41dbc23ef7\">\n",
              "    <div class=\"colab-df-container\">\n",
              "      <div>\n",
              "<style scoped>\n",
              "    .dataframe tbody tr th:only-of-type {\n",
              "        vertical-align: middle;\n",
              "    }\n",
              "\n",
              "    .dataframe tbody tr th {\n",
              "        vertical-align: top;\n",
              "    }\n",
              "\n",
              "    .dataframe thead th {\n",
              "        text-align: right;\n",
              "    }\n",
              "</style>\n",
              "<table border=\"1\" class=\"dataframe\">\n",
              "  <thead>\n",
              "    <tr style=\"text-align: right;\">\n",
              "      <th></th>\n",
              "      <th>idade_solicitante</th>\n",
              "      <th>salario_anual</th>\n",
              "      <th>situacao_propriedade</th>\n",
              "      <th>anos_trabalhados</th>\n",
              "      <th>motivo</th>\n",
              "      <th>pontuacao</th>\n",
              "      <th>valor_total_emprestimo</th>\n",
              "      <th>taxa_juros</th>\n",
              "      <th>possibilidade_inadimplencia</th>\n",
              "      <th>renda_percentual</th>\n",
              "      <th>historico_inadimplente</th>\n",
              "      <th>anos_cartao_credito</th>\n",
              "    </tr>\n",
              "  </thead>\n",
              "  <tbody>\n",
              "    <tr>\n",
              "      <th>0</th>\n",
              "      <td>31.0</td>\n",
              "      <td>19968.0</td>\n",
              "      <td>Alugada</td>\n",
              "      <td>1.0</td>\n",
              "      <td>Educativo</td>\n",
              "      <td>B</td>\n",
              "      <td>2500.0</td>\n",
              "      <td>9.62</td>\n",
              "      <td>1.0</td>\n",
              "      <td>0.13</td>\n",
              "      <td>0.0</td>\n",
              "      <td>6</td>\n",
              "    </tr>\n",
              "    <tr>\n",
              "      <th>1</th>\n",
              "      <td>29.0</td>\n",
              "      <td>42000.0</td>\n",
              "      <td>Alugada</td>\n",
              "      <td>4.0</td>\n",
              "      <td>Empreendimento</td>\n",
              "      <td>G</td>\n",
              "      <td>1600.0</td>\n",
              "      <td>19.16</td>\n",
              "      <td>0.0</td>\n",
              "      <td>0.04</td>\n",
              "      <td>1.0</td>\n",
              "      <td>6</td>\n",
              "    </tr>\n",
              "    <tr>\n",
              "      <th>2</th>\n",
              "      <td>21.0</td>\n",
              "      <td>45000.0</td>\n",
              "      <td>Alugada</td>\n",
              "      <td>3.0</td>\n",
              "      <td>Pessoal</td>\n",
              "      <td>A</td>\n",
              "      <td>7200.0</td>\n",
              "      <td>9.38</td>\n",
              "      <td>0.0</td>\n",
              "      <td>0.16</td>\n",
              "      <td>0.0</td>\n",
              "      <td>4</td>\n",
              "    </tr>\n",
              "    <tr>\n",
              "      <th>3</th>\n",
              "      <td>22.0</td>\n",
              "      <td>72000.0</td>\n",
              "      <td>Própria</td>\n",
              "      <td>1.0</td>\n",
              "      <td>Empreendimento</td>\n",
              "      <td>B</td>\n",
              "      <td>15000.0</td>\n",
              "      <td>10.25</td>\n",
              "      <td>0.0</td>\n",
              "      <td>0.21</td>\n",
              "      <td>0.0</td>\n",
              "      <td>4</td>\n",
              "    </tr>\n",
              "    <tr>\n",
              "      <th>4</th>\n",
              "      <td>24.0</td>\n",
              "      <td>81600.0</td>\n",
              "      <td>Alugada</td>\n",
              "      <td>5.0</td>\n",
              "      <td>Empreendimento</td>\n",
              "      <td>C</td>\n",
              "      <td>8000.0</td>\n",
              "      <td>12.84</td>\n",
              "      <td>0.0</td>\n",
              "      <td>0.10</td>\n",
              "      <td>1.0</td>\n",
              "      <td>2</td>\n",
              "    </tr>\n",
              "  </tbody>\n",
              "</table>\n",
              "</div>\n",
              "      <button class=\"colab-df-convert\" onclick=\"convertToInteractive('df-313c1915-df5c-4d35-828b-7f41dbc23ef7')\"\n",
              "              title=\"Convert this dataframe to an interactive table.\"\n",
              "              style=\"display:none;\">\n",
              "        \n",
              "  <svg xmlns=\"http://www.w3.org/2000/svg\" height=\"24px\"viewBox=\"0 0 24 24\"\n",
              "       width=\"24px\">\n",
              "    <path d=\"M0 0h24v24H0V0z\" fill=\"none\"/>\n",
              "    <path d=\"M18.56 5.44l.94 2.06.94-2.06 2.06-.94-2.06-.94-.94-2.06-.94 2.06-2.06.94zm-11 1L8.5 8.5l.94-2.06 2.06-.94-2.06-.94L8.5 2.5l-.94 2.06-2.06.94zm10 10l.94 2.06.94-2.06 2.06-.94-2.06-.94-.94-2.06-.94 2.06-2.06.94z\"/><path d=\"M17.41 7.96l-1.37-1.37c-.4-.4-.92-.59-1.43-.59-.52 0-1.04.2-1.43.59L10.3 9.45l-7.72 7.72c-.78.78-.78 2.05 0 2.83L4 21.41c.39.39.9.59 1.41.59.51 0 1.02-.2 1.41-.59l7.78-7.78 2.81-2.81c.8-.78.8-2.07 0-2.86zM5.41 20L4 18.59l7.72-7.72 1.47 1.35L5.41 20z\"/>\n",
              "  </svg>\n",
              "      </button>\n",
              "      \n",
              "  <style>\n",
              "    .colab-df-container {\n",
              "      display:flex;\n",
              "      flex-wrap:wrap;\n",
              "      gap: 12px;\n",
              "    }\n",
              "\n",
              "    .colab-df-convert {\n",
              "      background-color: #E8F0FE;\n",
              "      border: none;\n",
              "      border-radius: 50%;\n",
              "      cursor: pointer;\n",
              "      display: none;\n",
              "      fill: #1967D2;\n",
              "      height: 32px;\n",
              "      padding: 0 0 0 0;\n",
              "      width: 32px;\n",
              "    }\n",
              "\n",
              "    .colab-df-convert:hover {\n",
              "      background-color: #E2EBFA;\n",
              "      box-shadow: 0px 1px 2px rgba(60, 64, 67, 0.3), 0px 1px 3px 1px rgba(60, 64, 67, 0.15);\n",
              "      fill: #174EA6;\n",
              "    }\n",
              "\n",
              "    [theme=dark] .colab-df-convert {\n",
              "      background-color: #3B4455;\n",
              "      fill: #D2E3FC;\n",
              "    }\n",
              "\n",
              "    [theme=dark] .colab-df-convert:hover {\n",
              "      background-color: #434B5C;\n",
              "      box-shadow: 0px 1px 3px 1px rgba(0, 0, 0, 0.15);\n",
              "      filter: drop-shadow(0px 1px 2px rgba(0, 0, 0, 0.3));\n",
              "      fill: #FFFFFF;\n",
              "    }\n",
              "  </style>\n",
              "\n",
              "      <script>\n",
              "        const buttonEl =\n",
              "          document.querySelector('#df-313c1915-df5c-4d35-828b-7f41dbc23ef7 button.colab-df-convert');\n",
              "        buttonEl.style.display =\n",
              "          google.colab.kernel.accessAllowed ? 'block' : 'none';\n",
              "\n",
              "        async function convertToInteractive(key) {\n",
              "          const element = document.querySelector('#df-313c1915-df5c-4d35-828b-7f41dbc23ef7');\n",
              "          const dataTable =\n",
              "            await google.colab.kernel.invokeFunction('convertToInteractive',\n",
              "                                                     [key], {});\n",
              "          if (!dataTable) return;\n",
              "\n",
              "          const docLinkHtml = 'Like what you see? Visit the ' +\n",
              "            '<a target=\"_blank\" href=https://colab.research.google.com/notebooks/data_table.ipynb>data table notebook</a>'\n",
              "            + ' to learn more about interactive tables.';\n",
              "          element.innerHTML = '';\n",
              "          dataTable['output_type'] = 'display_data';\n",
              "          await google.colab.output.renderOutput(dataTable, element);\n",
              "          const docLink = document.createElement('div');\n",
              "          docLink.innerHTML = docLinkHtml;\n",
              "          element.appendChild(docLink);\n",
              "        }\n",
              "      </script>\n",
              "    </div>\n",
              "  </div>\n",
              "  "
            ]
          },
          "metadata": {},
          "execution_count": 154
        }
      ]
    },
    {
      "cell_type": "markdown",
      "source": [
        "## Tratando outliers"
      ],
      "metadata": {
        "id": "QWxwTLk7X44R"
      }
    },
    {
      "cell_type": "code",
      "source": [
        "dados.describe().round(2)"
      ],
      "metadata": {
        "colab": {
          "base_uri": "https://localhost:8080/",
          "height": 0
        },
        "id": "QgxjqEGPyMwO",
        "outputId": "7c9b55a3-e70d-4106-963d-cf8369084375"
      },
      "execution_count": 155,
      "outputs": [
        {
          "output_type": "execute_result",
          "data": {
            "text/plain": [
              "       idade_solicitante  salario_anual  anos_trabalhados  \\\n",
              "count           12420.00       12420.00          12420.00   \n",
              "mean               27.71       65657.23              4.82   \n",
              "std                 6.26       47449.51              4.10   \n",
              "min                20.00        4000.00              0.00   \n",
              "25%                23.00       39000.00              2.00   \n",
              "50%                26.00       55600.00              4.00   \n",
              "75%                30.00       79386.00              7.00   \n",
              "max               144.00     1200000.00             34.00   \n",
              "\n",
              "       valor_total_emprestimo  taxa_juros  possibilidade_inadimplencia  \\\n",
              "count                12420.00    12420.00                     12420.00   \n",
              "mean                  9602.05       11.03                         0.22   \n",
              "std                   6311.77        3.23                         0.41   \n",
              "min                    700.00        5.42                         0.00   \n",
              "25%                   5000.00        7.90                         0.00   \n",
              "50%                   8000.00       10.99                         0.00   \n",
              "75%                  12250.00       13.48                         0.00   \n",
              "max                  35000.00       23.22                         1.00   \n",
              "\n",
              "       renda_percentual  historico_inadimplente  anos_cartao_credito  \n",
              "count          12420.00                12420.00             12420.00  \n",
              "mean               0.17                    0.18                 5.80  \n",
              "std                0.11                    0.38                 4.06  \n",
              "min                0.01                    0.00                 2.00  \n",
              "25%                0.09                    0.00                 3.00  \n",
              "50%                0.15                    0.00                 4.00  \n",
              "75%                0.23                    0.00                 8.00  \n",
              "max                0.76                    1.00                30.00  "
            ],
            "text/html": [
              "\n",
              "  <div id=\"df-b1d6a62f-6020-4f7c-80a6-2cd26e69ce52\">\n",
              "    <div class=\"colab-df-container\">\n",
              "      <div>\n",
              "<style scoped>\n",
              "    .dataframe tbody tr th:only-of-type {\n",
              "        vertical-align: middle;\n",
              "    }\n",
              "\n",
              "    .dataframe tbody tr th {\n",
              "        vertical-align: top;\n",
              "    }\n",
              "\n",
              "    .dataframe thead th {\n",
              "        text-align: right;\n",
              "    }\n",
              "</style>\n",
              "<table border=\"1\" class=\"dataframe\">\n",
              "  <thead>\n",
              "    <tr style=\"text-align: right;\">\n",
              "      <th></th>\n",
              "      <th>idade_solicitante</th>\n",
              "      <th>salario_anual</th>\n",
              "      <th>anos_trabalhados</th>\n",
              "      <th>valor_total_emprestimo</th>\n",
              "      <th>taxa_juros</th>\n",
              "      <th>possibilidade_inadimplencia</th>\n",
              "      <th>renda_percentual</th>\n",
              "      <th>historico_inadimplente</th>\n",
              "      <th>anos_cartao_credito</th>\n",
              "    </tr>\n",
              "  </thead>\n",
              "  <tbody>\n",
              "    <tr>\n",
              "      <th>count</th>\n",
              "      <td>12420.00</td>\n",
              "      <td>12420.00</td>\n",
              "      <td>12420.00</td>\n",
              "      <td>12420.00</td>\n",
              "      <td>12420.00</td>\n",
              "      <td>12420.00</td>\n",
              "      <td>12420.00</td>\n",
              "      <td>12420.00</td>\n",
              "      <td>12420.00</td>\n",
              "    </tr>\n",
              "    <tr>\n",
              "      <th>mean</th>\n",
              "      <td>27.71</td>\n",
              "      <td>65657.23</td>\n",
              "      <td>4.82</td>\n",
              "      <td>9602.05</td>\n",
              "      <td>11.03</td>\n",
              "      <td>0.22</td>\n",
              "      <td>0.17</td>\n",
              "      <td>0.18</td>\n",
              "      <td>5.80</td>\n",
              "    </tr>\n",
              "    <tr>\n",
              "      <th>std</th>\n",
              "      <td>6.26</td>\n",
              "      <td>47449.51</td>\n",
              "      <td>4.10</td>\n",
              "      <td>6311.77</td>\n",
              "      <td>3.23</td>\n",
              "      <td>0.41</td>\n",
              "      <td>0.11</td>\n",
              "      <td>0.38</td>\n",
              "      <td>4.06</td>\n",
              "    </tr>\n",
              "    <tr>\n",
              "      <th>min</th>\n",
              "      <td>20.00</td>\n",
              "      <td>4000.00</td>\n",
              "      <td>0.00</td>\n",
              "      <td>700.00</td>\n",
              "      <td>5.42</td>\n",
              "      <td>0.00</td>\n",
              "      <td>0.01</td>\n",
              "      <td>0.00</td>\n",
              "      <td>2.00</td>\n",
              "    </tr>\n",
              "    <tr>\n",
              "      <th>25%</th>\n",
              "      <td>23.00</td>\n",
              "      <td>39000.00</td>\n",
              "      <td>2.00</td>\n",
              "      <td>5000.00</td>\n",
              "      <td>7.90</td>\n",
              "      <td>0.00</td>\n",
              "      <td>0.09</td>\n",
              "      <td>0.00</td>\n",
              "      <td>3.00</td>\n",
              "    </tr>\n",
              "    <tr>\n",
              "      <th>50%</th>\n",
              "      <td>26.00</td>\n",
              "      <td>55600.00</td>\n",
              "      <td>4.00</td>\n",
              "      <td>8000.00</td>\n",
              "      <td>10.99</td>\n",
              "      <td>0.00</td>\n",
              "      <td>0.15</td>\n",
              "      <td>0.00</td>\n",
              "      <td>4.00</td>\n",
              "    </tr>\n",
              "    <tr>\n",
              "      <th>75%</th>\n",
              "      <td>30.00</td>\n",
              "      <td>79386.00</td>\n",
              "      <td>7.00</td>\n",
              "      <td>12250.00</td>\n",
              "      <td>13.48</td>\n",
              "      <td>0.00</td>\n",
              "      <td>0.23</td>\n",
              "      <td>0.00</td>\n",
              "      <td>8.00</td>\n",
              "    </tr>\n",
              "    <tr>\n",
              "      <th>max</th>\n",
              "      <td>144.00</td>\n",
              "      <td>1200000.00</td>\n",
              "      <td>34.00</td>\n",
              "      <td>35000.00</td>\n",
              "      <td>23.22</td>\n",
              "      <td>1.00</td>\n",
              "      <td>0.76</td>\n",
              "      <td>1.00</td>\n",
              "      <td>30.00</td>\n",
              "    </tr>\n",
              "  </tbody>\n",
              "</table>\n",
              "</div>\n",
              "      <button class=\"colab-df-convert\" onclick=\"convertToInteractive('df-b1d6a62f-6020-4f7c-80a6-2cd26e69ce52')\"\n",
              "              title=\"Convert this dataframe to an interactive table.\"\n",
              "              style=\"display:none;\">\n",
              "        \n",
              "  <svg xmlns=\"http://www.w3.org/2000/svg\" height=\"24px\"viewBox=\"0 0 24 24\"\n",
              "       width=\"24px\">\n",
              "    <path d=\"M0 0h24v24H0V0z\" fill=\"none\"/>\n",
              "    <path d=\"M18.56 5.44l.94 2.06.94-2.06 2.06-.94-2.06-.94-.94-2.06-.94 2.06-2.06.94zm-11 1L8.5 8.5l.94-2.06 2.06-.94-2.06-.94L8.5 2.5l-.94 2.06-2.06.94zm10 10l.94 2.06.94-2.06 2.06-.94-2.06-.94-.94-2.06-.94 2.06-2.06.94z\"/><path d=\"M17.41 7.96l-1.37-1.37c-.4-.4-.92-.59-1.43-.59-.52 0-1.04.2-1.43.59L10.3 9.45l-7.72 7.72c-.78.78-.78 2.05 0 2.83L4 21.41c.39.39.9.59 1.41.59.51 0 1.02-.2 1.41-.59l7.78-7.78 2.81-2.81c.8-.78.8-2.07 0-2.86zM5.41 20L4 18.59l7.72-7.72 1.47 1.35L5.41 20z\"/>\n",
              "  </svg>\n",
              "      </button>\n",
              "      \n",
              "  <style>\n",
              "    .colab-df-container {\n",
              "      display:flex;\n",
              "      flex-wrap:wrap;\n",
              "      gap: 12px;\n",
              "    }\n",
              "\n",
              "    .colab-df-convert {\n",
              "      background-color: #E8F0FE;\n",
              "      border: none;\n",
              "      border-radius: 50%;\n",
              "      cursor: pointer;\n",
              "      display: none;\n",
              "      fill: #1967D2;\n",
              "      height: 32px;\n",
              "      padding: 0 0 0 0;\n",
              "      width: 32px;\n",
              "    }\n",
              "\n",
              "    .colab-df-convert:hover {\n",
              "      background-color: #E2EBFA;\n",
              "      box-shadow: 0px 1px 2px rgba(60, 64, 67, 0.3), 0px 1px 3px 1px rgba(60, 64, 67, 0.15);\n",
              "      fill: #174EA6;\n",
              "    }\n",
              "\n",
              "    [theme=dark] .colab-df-convert {\n",
              "      background-color: #3B4455;\n",
              "      fill: #D2E3FC;\n",
              "    }\n",
              "\n",
              "    [theme=dark] .colab-df-convert:hover {\n",
              "      background-color: #434B5C;\n",
              "      box-shadow: 0px 1px 3px 1px rgba(0, 0, 0, 0.15);\n",
              "      filter: drop-shadow(0px 1px 2px rgba(0, 0, 0, 0.3));\n",
              "      fill: #FFFFFF;\n",
              "    }\n",
              "  </style>\n",
              "\n",
              "      <script>\n",
              "        const buttonEl =\n",
              "          document.querySelector('#df-b1d6a62f-6020-4f7c-80a6-2cd26e69ce52 button.colab-df-convert');\n",
              "        buttonEl.style.display =\n",
              "          google.colab.kernel.accessAllowed ? 'block' : 'none';\n",
              "\n",
              "        async function convertToInteractive(key) {\n",
              "          const element = document.querySelector('#df-b1d6a62f-6020-4f7c-80a6-2cd26e69ce52');\n",
              "          const dataTable =\n",
              "            await google.colab.kernel.invokeFunction('convertToInteractive',\n",
              "                                                     [key], {});\n",
              "          if (!dataTable) return;\n",
              "\n",
              "          const docLinkHtml = 'Like what you see? Visit the ' +\n",
              "            '<a target=\"_blank\" href=https://colab.research.google.com/notebooks/data_table.ipynb>data table notebook</a>'\n",
              "            + ' to learn more about interactive tables.';\n",
              "          element.innerHTML = '';\n",
              "          dataTable['output_type'] = 'display_data';\n",
              "          await google.colab.output.renderOutput(dataTable, element);\n",
              "          const docLink = document.createElement('div');\n",
              "          docLink.innerHTML = docLinkHtml;\n",
              "          element.appendChild(docLink);\n",
              "        }\n",
              "      </script>\n",
              "    </div>\n",
              "  </div>\n",
              "  "
            ]
          },
          "metadata": {},
          "execution_count": 155
        }
      ]
    },
    {
      "cell_type": "markdown",
      "source": [
        "Apenas olhando os dados, já percebe-se um erro na idade_solicitante."
      ],
      "metadata": {
        "id": "heuxdNrofieu"
      }
    },
    {
      "cell_type": "code",
      "source": [
        "plt.subplots(figsize=(14,7))\n",
        "\n",
        "plt.subplot(2,3,1)\n",
        "sns.boxplot(data=dados, x='idade_solicitante')\n",
        "\n",
        "plt.subplot(2,3,2)\n",
        "sns.boxplot(data=dados, x='salario_anual')\n",
        "\n",
        "plt.subplot(2,3,3)\n",
        "sns.boxplot(data=dados, x='anos_trabalhados')"
      ],
      "metadata": {
        "colab": {
          "base_uri": "https://localhost:8080/",
          "height": 0
        },
        "id": "W9zKQjpnT0zd",
        "outputId": "a0c68662-089c-4a33-c427-743d0e783868"
      },
      "execution_count": 156,
      "outputs": [
        {
          "output_type": "execute_result",
          "data": {
            "text/plain": [
              "<matplotlib.axes._subplots.AxesSubplot at 0x7f73420f27f0>"
            ]
          },
          "metadata": {},
          "execution_count": 156
        },
        {
          "output_type": "display_data",
          "data": {
            "text/plain": [
              "<Figure size 1008x504 with 3 Axes>"
            ],
            "image/png": "[encoded data removed]"
          },
          "metadata": {
            "needs_background": "light"
          }
        }
      ]
    },
    {
      "cell_type": "markdown",
      "source": [
        "Existe um campo em que a idade do solicitante é 144 anos.\n",
        "Irei excluir esta linha."
      ],
      "metadata": {
        "id": "r9Bltyvsydlx"
      }
    },
    {
      "cell_type": "code",
      "source": [
        "idade_out = dados.query('idade_solicitante > 100').index.values\n",
        "dados.drop(idade_out, inplace=True)"
      ],
      "metadata": {
        "id": "h7PiGUp66a32"
      },
      "execution_count": 157,
      "outputs": []
    },
    {
      "cell_type": "markdown",
      "source": [
        "## Correlação"
      ],
      "metadata": {
        "id": "8XiGCsjw9fxx"
      }
    },
    {
      "cell_type": "code",
      "source": [
        "corr = dados.corr()\n",
        "sns.heatmap(corr, cmap='Blues')"
      ],
      "metadata": {
        "colab": {
          "base_uri": "https://localhost:8080/",
          "height": 0
        },
        "id": "cPtwliYq9eMa",
        "outputId": "68be5d6a-5eb9-44d9-9219-3a15852f6502"
      },
      "execution_count": 158,
      "outputs": [
        {
          "output_type": "execute_result",
          "data": {
            "text/plain": [
              "<matplotlib.axes._subplots.AxesSubplot at 0x7f73420b1fd0>"
            ]
          },
          "metadata": {},
          "execution_count": 158
        },
        {
          "output_type": "display_data",
          "data": {
            "text/plain": [
              "<Figure size 432x288 with 2 Axes>"
            ],
            "image/png": "[encoded data removed]"
          },
          "metadata": {
            "needs_background": "light"
          }
        }
      ]
    },
    {
      "cell_type": "markdown",
      "source": [
        "No mapa de calor, vemos que há correlação entre as variáveis:\n",
        "- idade_solicitante x anos_cartao_credito\n",
        "- renda_percentual x valor_total_emprestimo"
      ],
      "metadata": {
        "id": "Eq7h2xmp-lZE"
      }
    },
    {
      "cell_type": "code",
      "source": [
        "sns.relplot(x=\"idade_solicitante\", y=\"anos_cartao_credito\", hue=\"possibilidade_inadimplencia\", col=\"possibilidade_inadimplencia\", data=dados)"
      ],
      "metadata": {
        "colab": {
          "base_uri": "https://localhost:8080/",
          "height": 0
        },
        "id": "J8ewQDy7ztml",
        "outputId": "52754d1e-5fa6-4678-8634-985a4ecc5174"
      },
      "execution_count": 159,
      "outputs": [
        {
          "output_type": "execute_result",
          "data": {
            "text/plain": [
              "<seaborn.axisgrid.FacetGrid at 0x7f734276c0d0>"
            ]
          },
          "metadata": {},
          "execution_count": 159
        },
        {
          "output_type": "display_data",
          "data": {
            "text/plain": [
              "<Figure size 868.875x360 with 2 Axes>"
            ],
            "image/png": "[encoded data removed]"
          },
          "metadata": {
            "needs_background": "light"
          }
        }
      ]
    },
    {
      "cell_type": "code",
      "source": [
        "sns.relplot(x=\"renda_percentual\", y=\"valor_total_emprestimo\", hue=\"possibilidade_inadimplencia\", col=\"possibilidade_inadimplencia\", data=dados)"
      ],
      "metadata": {
        "colab": {
          "base_uri": "https://localhost:8080/",
          "height": 0
        },
        "id": "XZEyyic_0Yjx",
        "outputId": "63cfd0cd-d02a-4b2a-8374-4a64f4df37ee"
      },
      "execution_count": 160,
      "outputs": [
        {
          "output_type": "execute_result",
          "data": {
            "text/plain": [
              "<seaborn.axisgrid.FacetGrid at 0x7f7341f7cdc0>"
            ]
          },
          "metadata": {},
          "execution_count": 160
        },
        {
          "output_type": "display_data",
          "data": {
            "text/plain": [
              "<Figure size 868.875x360 with 2 Axes>"
            ],
            "image/png": "[encoded data removed]"
          },
          "metadata": {
            "needs_background": "light"
          }
        }
      ]
    },
    {
      "cell_type": "markdown",
      "source": [
        "## Encoding\n",
        "Tratando variáveis categóricas. \n",
        "Convertendo uma variável \"string\" em inteiro."
      ],
      "metadata": {
        "id": "pGnd8oWTCelg"
      }
    },
    {
      "cell_type": "code",
      "source": [
        "dados.head()"
      ],
      "metadata": {
        "colab": {
          "base_uri": "https://localhost:8080/",
          "height": 270
        },
        "id": "UA64D4nWaq-a",
        "outputId": "71629f19-37c3-4748-de5a-dca20505881c"
      },
      "execution_count": 161,
      "outputs": [
        {
          "output_type": "execute_result",
          "data": {
            "text/plain": [
              "   idade_solicitante  salario_anual situacao_propriedade  anos_trabalhados  \\\n",
              "0               31.0        19968.0              Alugada               1.0   \n",
              "1               29.0        42000.0              Alugada               4.0   \n",
              "2               21.0        45000.0              Alugada               3.0   \n",
              "3               22.0        72000.0              Própria               1.0   \n",
              "4               24.0        81600.0              Alugada               5.0   \n",
              "\n",
              "           motivo pontuacao  valor_total_emprestimo  taxa_juros  \\\n",
              "0       Educativo         B                  2500.0        9.62   \n",
              "1  Empreendimento         G                  1600.0       19.16   \n",
              "2         Pessoal         A                  7200.0        9.38   \n",
              "3  Empreendimento         B                 15000.0       10.25   \n",
              "4  Empreendimento         C                  8000.0       12.84   \n",
              "\n",
              "   possibilidade_inadimplencia  renda_percentual  historico_inadimplente  \\\n",
              "0                          1.0              0.13                     0.0   \n",
              "1                          0.0              0.04                     1.0   \n",
              "2                          0.0              0.16                     0.0   \n",
              "3                          0.0              0.21                     0.0   \n",
              "4                          0.0              0.10                     1.0   \n",
              "\n",
              "   anos_cartao_credito  \n",
              "0                    6  \n",
              "1                    6  \n",
              "2                    4  \n",
              "3                    4  \n",
              "4                    2  "
            ],
            "text/html": [
              "\n",
              "  <div id=\"df-815dff70-df76-4786-be02-23d93b721c6e\">\n",
              "    <div class=\"colab-df-container\">\n",
              "      <div>\n",
              "<style scoped>\n",
              "    .dataframe tbody tr th:only-of-type {\n",
              "        vertical-align: middle;\n",
              "    }\n",
              "\n",
              "    .dataframe tbody tr th {\n",
              "        vertical-align: top;\n",
              "    }\n",
              "\n",
              "    .dataframe thead th {\n",
              "        text-align: right;\n",
              "    }\n",
              "</style>\n",
              "<table border=\"1\" class=\"dataframe\">\n",
              "  <thead>\n",
              "    <tr style=\"text-align: right;\">\n",
              "      <th></th>\n",
              "      <th>idade_solicitante</th>\n",
              "      <th>salario_anual</th>\n",
              "      <th>situacao_propriedade</th>\n",
              "      <th>anos_trabalhados</th>\n",
              "      <th>motivo</th>\n",
              "      <th>pontuacao</th>\n",
              "      <th>valor_total_emprestimo</th>\n",
              "      <th>taxa_juros</th>\n",
              "      <th>possibilidade_inadimplencia</th>\n",
              "      <th>renda_percentual</th>\n",
              "      <th>historico_inadimplente</th>\n",
              "      <th>anos_cartao_credito</th>\n",
              "    </tr>\n",
              "  </thead>\n",
              "  <tbody>\n",
              "    <tr>\n",
              "      <th>0</th>\n",
              "      <td>31.0</td>\n",
              "      <td>19968.0</td>\n",
              "      <td>Alugada</td>\n",
              "      <td>1.0</td>\n",
              "      <td>Educativo</td>\n",
              "      <td>B</td>\n",
              "      <td>2500.0</td>\n",
              "      <td>9.62</td>\n",
              "      <td>1.0</td>\n",
              "      <td>0.13</td>\n",
              "      <td>0.0</td>\n",
              "      <td>6</td>\n",
              "    </tr>\n",
              "    <tr>\n",
              "      <th>1</th>\n",
              "      <td>29.0</td>\n",
              "      <td>42000.0</td>\n",
              "      <td>Alugada</td>\n",
              "      <td>4.0</td>\n",
              "      <td>Empreendimento</td>\n",
              "      <td>G</td>\n",
              "      <td>1600.0</td>\n",
              "      <td>19.16</td>\n",
              "      <td>0.0</td>\n",
              "      <td>0.04</td>\n",
              "      <td>1.0</td>\n",
              "      <td>6</td>\n",
              "    </tr>\n",
              "    <tr>\n",
              "      <th>2</th>\n",
              "      <td>21.0</td>\n",
              "      <td>45000.0</td>\n",
              "      <td>Alugada</td>\n",
              "      <td>3.0</td>\n",
              "      <td>Pessoal</td>\n",
              "      <td>A</td>\n",
              "      <td>7200.0</td>\n",
              "      <td>9.38</td>\n",
              "      <td>0.0</td>\n",
              "      <td>0.16</td>\n",
              "      <td>0.0</td>\n",
              "      <td>4</td>\n",
              "    </tr>\n",
              "    <tr>\n",
              "      <th>3</th>\n",
              "      <td>22.0</td>\n",
              "      <td>72000.0</td>\n",
              "      <td>Própria</td>\n",
              "      <td>1.0</td>\n",
              "      <td>Empreendimento</td>\n",
              "      <td>B</td>\n",
              "      <td>15000.0</td>\n",
              "      <td>10.25</td>\n",
              "      <td>0.0</td>\n",
              "      <td>0.21</td>\n",
              "      <td>0.0</td>\n",
              "      <td>4</td>\n",
              "    </tr>\n",
              "    <tr>\n",
              "      <th>4</th>\n",
              "      <td>24.0</td>\n",
              "      <td>81600.0</td>\n",
              "      <td>Alugada</td>\n",
              "      <td>5.0</td>\n",
              "      <td>Empreendimento</td>\n",
              "      <td>C</td>\n",
              "      <td>8000.0</td>\n",
              "      <td>12.84</td>\n",
              "      <td>0.0</td>\n",
              "      <td>0.10</td>\n",
              "      <td>1.0</td>\n",
              "      <td>2</td>\n",
              "    </tr>\n",
              "  </tbody>\n",
              "</table>\n",
              "</div>\n",
              "      <button class=\"colab-df-convert\" onclick=\"convertToInteractive('df-815dff70-df76-4786-be02-23d93b721c6e')\"\n",
              "              title=\"Convert this dataframe to an interactive table.\"\n",
              "              style=\"display:none;\">\n",
              "        \n",
              "  <svg xmlns=\"http://www.w3.org/2000/svg\" height=\"24px\"viewBox=\"0 0 24 24\"\n",
              "       width=\"24px\">\n",
              "    <path d=\"M0 0h24v24H0V0z\" fill=\"none\"/>\n",
              "    <path d=\"M18.56 5.44l.94 2.06.94-2.06 2.06-.94-2.06-.94-.94-2.06-.94 2.06-2.06.94zm-11 1L8.5 8.5l.94-2.06 2.06-.94-2.06-.94L8.5 2.5l-.94 2.06-2.06.94zm10 10l.94 2.06.94-2.06 2.06-.94-2.06-.94-.94-2.06-.94 2.06-2.06.94z\"/><path d=\"M17.41 7.96l-1.37-1.37c-.4-.4-.92-.59-1.43-.59-.52 0-1.04.2-1.43.59L10.3 9.45l-7.72 7.72c-.78.78-.78 2.05 0 2.83L4 21.41c.39.39.9.59 1.41.59.51 0 1.02-.2 1.41-.59l7.78-7.78 2.81-2.81c.8-.78.8-2.07 0-2.86zM5.41 20L4 18.59l7.72-7.72 1.47 1.35L5.41 20z\"/>\n",
              "  </svg>\n",
              "      </button>\n",
              "      \n",
              "  <style>\n",
              "    .colab-df-container {\n",
              "      display:flex;\n",
              "      flex-wrap:wrap;\n",
              "      gap: 12px;\n",
              "    }\n",
              "\n",
              "    .colab-df-convert {\n",
              "      background-color: #E8F0FE;\n",
              "      border: none;\n",
              "      border-radius: 50%;\n",
              "      cursor: pointer;\n",
              "      display: none;\n",
              "      fill: #1967D2;\n",
              "      height: 32px;\n",
              "      padding: 0 0 0 0;\n",
              "      width: 32px;\n",
              "    }\n",
              "\n",
              "    .colab-df-convert:hover {\n",
              "      background-color: #E2EBFA;\n",
              "      box-shadow: 0px 1px 2px rgba(60, 64, 67, 0.3), 0px 1px 3px 1px rgba(60, 64, 67, 0.15);\n",
              "      fill: #174EA6;\n",
              "    }\n",
              "\n",
              "    [theme=dark] .colab-df-convert {\n",
              "      background-color: #3B4455;\n",
              "      fill: #D2E3FC;\n",
              "    }\n",
              "\n",
              "    [theme=dark] .colab-df-convert:hover {\n",
              "      background-color: #434B5C;\n",
              "      box-shadow: 0px 1px 3px 1px rgba(0, 0, 0, 0.15);\n",
              "      filter: drop-shadow(0px 1px 2px rgba(0, 0, 0, 0.3));\n",
              "      fill: #FFFFFF;\n",
              "    }\n",
              "  </style>\n",
              "\n",
              "      <script>\n",
              "        const buttonEl =\n",
              "          document.querySelector('#df-815dff70-df76-4786-be02-23d93b721c6e button.colab-df-convert');\n",
              "        buttonEl.style.display =\n",
              "          google.colab.kernel.accessAllowed ? 'block' : 'none';\n",
              "\n",
              "        async function convertToInteractive(key) {\n",
              "          const element = document.querySelector('#df-815dff70-df76-4786-be02-23d93b721c6e');\n",
              "          const dataTable =\n",
              "            await google.colab.kernel.invokeFunction('convertToInteractive',\n",
              "                                                     [key], {});\n",
              "          if (!dataTable) return;\n",
              "\n",
              "          const docLinkHtml = 'Like what you see? Visit the ' +\n",
              "            '<a target=\"_blank\" href=https://colab.research.google.com/notebooks/data_table.ipynb>data table notebook</a>'\n",
              "            + ' to learn more about interactive tables.';\n",
              "          element.innerHTML = '';\n",
              "          dataTable['output_type'] = 'display_data';\n",
              "          await google.colab.output.renderOutput(dataTable, element);\n",
              "          const docLink = document.createElement('div');\n",
              "          docLink.innerHTML = docLinkHtml;\n",
              "          element.appendChild(docLink);\n",
              "        }\n",
              "      </script>\n",
              "    </div>\n",
              "  </div>\n",
              "  "
            ]
          },
          "metadata": {},
          "execution_count": 161
        }
      ]
    },
    {
      "cell_type": "code",
      "source": [
        "x = dados.drop(['possibilidade_inadimplencia'], axis=1)\n",
        "y = dados['possibilidade_inadimplencia']"
      ],
      "metadata": {
        "id": "W-od3BecbMe6"
      },
      "execution_count": 162,
      "outputs": []
    },
    {
      "cell_type": "code",
      "source": [
        "from sklearn.compose import make_column_transformer\n",
        "from sklearn.preprocessing import OneHotEncoder"
      ],
      "metadata": {
        "id": "FraM-zPAZ4Br"
      },
      "execution_count": 163,
      "outputs": []
    },
    {
      "cell_type": "code",
      "source": [
        "colunas_categoricas = ['situacao_propriedade','motivo','pontuacao']\n",
        "\n",
        "one_hot_enc = make_column_transformer(\n",
        "    (OneHotEncoder(), colunas_categoricas),\n",
        "    remainder='passthrough')\n",
        "\n",
        "dados_enc = one_hot_enc.fit_transform(x)\n",
        "dados_enc = pd.DataFrame(dados_enc, columns=one_hot_enc.get_feature_names_out())"
      ],
      "metadata": {
        "id": "tfRfY-lCZ4qa"
      },
      "execution_count": 164,
      "outputs": []
    },
    {
      "cell_type": "markdown",
      "source": [
        "## Normalizando os dados"
      ],
      "metadata": {
        "id": "ITvKbt_h58LX"
      }
    },
    {
      "cell_type": "code",
      "source": [
        "dados_enc.head()"
      ],
      "metadata": {
        "colab": {
          "base_uri": "https://localhost:8080/",
          "height": 317
        },
        "id": "g8R2_AueslCu",
        "outputId": "7392ee13-55c7-4c45-d134-30ebf48e0fdf"
      },
      "execution_count": 165,
      "outputs": [
        {
          "output_type": "execute_result",
          "data": {
            "text/plain": [
              "   onehotencoder__situacao_propriedade_Alugada  \\\n",
              "0                                          1.0   \n",
              "1                                          1.0   \n",
              "2                                          1.0   \n",
              "3                                          0.0   \n",
              "4                                          1.0   \n",
              "\n",
              "   onehotencoder__situacao_propriedade_Hipotecada  \\\n",
              "0                                             0.0   \n",
              "1                                             0.0   \n",
              "2                                             0.0   \n",
              "3                                             0.0   \n",
              "4                                             0.0   \n",
              "\n",
              "   onehotencoder__situacao_propriedade_Outros  \\\n",
              "0                                         0.0   \n",
              "1                                         0.0   \n",
              "2                                         0.0   \n",
              "3                                         0.0   \n",
              "4                                         0.0   \n",
              "\n",
              "   onehotencoder__situacao_propriedade_Própria  \\\n",
              "0                                          0.0   \n",
              "1                                          0.0   \n",
              "2                                          0.0   \n",
              "3                                          1.0   \n",
              "4                                          0.0   \n",
              "\n",
              "   onehotencoder__motivo_Educativo  onehotencoder__motivo_Empreendimento  \\\n",
              "0                              1.0                                   0.0   \n",
              "1                              0.0                                   1.0   \n",
              "2                              0.0                                   0.0   \n",
              "3                              0.0                                   1.0   \n",
              "4                              0.0                                   1.0   \n",
              "\n",
              "   onehotencoder__motivo_Melhora do lar  onehotencoder__motivo_Médico  \\\n",
              "0                                   0.0                           0.0   \n",
              "1                                   0.0                           0.0   \n",
              "2                                   0.0                           0.0   \n",
              "3                                   0.0                           0.0   \n",
              "4                                   0.0                           0.0   \n",
              "\n",
              "   onehotencoder__motivo_Pagamento de débitos  onehotencoder__motivo_Pessoal  \\\n",
              "0                                         0.0                            0.0   \n",
              "1                                         0.0                            0.0   \n",
              "2                                         0.0                            1.0   \n",
              "3                                         0.0                            0.0   \n",
              "4                                         0.0                            0.0   \n",
              "\n",
              "   ...  onehotencoder__pontuacao_F  onehotencoder__pontuacao_G  \\\n",
              "0  ...                         0.0                         0.0   \n",
              "1  ...                         0.0                         1.0   \n",
              "2  ...                         0.0                         0.0   \n",
              "3  ...                         0.0                         0.0   \n",
              "4  ...                         0.0                         0.0   \n",
              "\n",
              "   remainder__idade_solicitante  remainder__salario_anual  \\\n",
              "0                          31.0                   19968.0   \n",
              "1                          29.0                   42000.0   \n",
              "2                          21.0                   45000.0   \n",
              "3                          22.0                   72000.0   \n",
              "4                          24.0                   81600.0   \n",
              "\n",
              "   remainder__anos_trabalhados  remainder__valor_total_emprestimo  \\\n",
              "0                          1.0                             2500.0   \n",
              "1                          4.0                             1600.0   \n",
              "2                          3.0                             7200.0   \n",
              "3                          1.0                            15000.0   \n",
              "4                          5.0                             8000.0   \n",
              "\n",
              "   remainder__taxa_juros  remainder__renda_percentual  \\\n",
              "0                   9.62                         0.13   \n",
              "1                  19.16                         0.04   \n",
              "2                   9.38                         0.16   \n",
              "3                  10.25                         0.21   \n",
              "4                  12.84                         0.10   \n",
              "\n",
              "   remainder__historico_inadimplente  remainder__anos_cartao_credito  \n",
              "0                                0.0                             6.0  \n",
              "1                                1.0                             6.0  \n",
              "2                                0.0                             4.0  \n",
              "3                                0.0                             4.0  \n",
              "4                                1.0                             2.0  \n",
              "\n",
              "[5 rows x 25 columns]"
            ],
            "text/html": [
              "\n",
              "  <div id=\"df-fdb7ea77-1d80-42cb-b25d-59dc90ec3000\">\n",
              "    <div class=\"colab-df-container\">\n",
              "      <div>\n",
              "<style scoped>\n",
              "    .dataframe tbody tr th:only-of-type {\n",
              "        vertical-align: middle;\n",
              "    }\n",
              "\n",
              "    .dataframe tbody tr th {\n",
              "        vertical-align: top;\n",
              "    }\n",
              "\n",
              "    .dataframe thead th {\n",
              "        text-align: right;\n",
              "    }\n",
              "</style>\n",
              "<table border=\"1\" class=\"dataframe\">\n",
              "  <thead>\n",
              "    <tr style=\"text-align: right;\">\n",
              "      <th></th>\n",
              "      <th>onehotencoder__situacao_propriedade_Alugada</th>\n",
              "      <th>onehotencoder__situacao_propriedade_Hipotecada</th>\n",
              "      <th>onehotencoder__situacao_propriedade_Outros</th>\n",
              "      <th>onehotencoder__situacao_propriedade_Própria</th>\n",
              "      <th>onehotencoder__motivo_Educativo</th>\n",
              "      <th>onehotencoder__motivo_Empreendimento</th>\n",
              "      <th>onehotencoder__motivo_Melhora do lar</th>\n",
              "      <th>onehotencoder__motivo_Médico</th>\n",
              "      <th>onehotencoder__motivo_Pagamento de débitos</th>\n",
              "      <th>onehotencoder__motivo_Pessoal</th>\n",
              "      <th>...</th>\n",
              "      <th>onehotencoder__pontuacao_F</th>\n",
              "      <th>onehotencoder__pontuacao_G</th>\n",
              "      <th>remainder__idade_solicitante</th>\n",
              "      <th>remainder__salario_anual</th>\n",
              "      <th>remainder__anos_trabalhados</th>\n",
              "      <th>remainder__valor_total_emprestimo</th>\n",
              "      <th>remainder__taxa_juros</th>\n",
              "      <th>remainder__renda_percentual</th>\n",
              "      <th>remainder__historico_inadimplente</th>\n",
              "      <th>remainder__anos_cartao_credito</th>\n",
              "    </tr>\n",
              "  </thead>\n",
              "  <tbody>\n",
              "    <tr>\n",
              "      <th>0</th>\n",
              "      <td>1.0</td>\n",
              "      <td>0.0</td>\n",
              "      <td>0.0</td>\n",
              "      <td>0.0</td>\n",
              "      <td>1.0</td>\n",
              "      <td>0.0</td>\n",
              "      <td>0.0</td>\n",
              "      <td>0.0</td>\n",
              "      <td>0.0</td>\n",
              "      <td>0.0</td>\n",
              "      <td>...</td>\n",
              "      <td>0.0</td>\n",
              "      <td>0.0</td>\n",
              "      <td>31.0</td>\n",
              "      <td>19968.0</td>\n",
              "      <td>1.0</td>\n",
              "      <td>2500.0</td>\n",
              "      <td>9.62</td>\n",
              "      <td>0.13</td>\n",
              "      <td>0.0</td>\n",
              "      <td>6.0</td>\n",
              "    </tr>\n",
              "    <tr>\n",
              "      <th>1</th>\n",
              "      <td>1.0</td>\n",
              "      <td>0.0</td>\n",
              "      <td>0.0</td>\n",
              "      <td>0.0</td>\n",
              "      <td>0.0</td>\n",
              "      <td>1.0</td>\n",
              "      <td>0.0</td>\n",
              "      <td>0.0</td>\n",
              "      <td>0.0</td>\n",
              "      <td>0.0</td>\n",
              "      <td>...</td>\n",
              "      <td>0.0</td>\n",
              "      <td>1.0</td>\n",
              "      <td>29.0</td>\n",
              "      <td>42000.0</td>\n",
              "      <td>4.0</td>\n",
              "      <td>1600.0</td>\n",
              "      <td>19.16</td>\n",
              "      <td>0.04</td>\n",
              "      <td>1.0</td>\n",
              "      <td>6.0</td>\n",
              "    </tr>\n",
              "    <tr>\n",
              "      <th>2</th>\n",
              "      <td>1.0</td>\n",
              "      <td>0.0</td>\n",
              "      <td>0.0</td>\n",
              "      <td>0.0</td>\n",
              "      <td>0.0</td>\n",
              "      <td>0.0</td>\n",
              "      <td>0.0</td>\n",
              "      <td>0.0</td>\n",
              "      <td>0.0</td>\n",
              "      <td>1.0</td>\n",
              "      <td>...</td>\n",
              "      <td>0.0</td>\n",
              "      <td>0.0</td>\n",
              "      <td>21.0</td>\n",
              "      <td>45000.0</td>\n",
              "      <td>3.0</td>\n",
              "      <td>7200.0</td>\n",
              "      <td>9.38</td>\n",
              "      <td>0.16</td>\n",
              "      <td>0.0</td>\n",
              "      <td>4.0</td>\n",
              "    </tr>\n",
              "    <tr>\n",
              "      <th>3</th>\n",
              "      <td>0.0</td>\n",
              "      <td>0.0</td>\n",
              "      <td>0.0</td>\n",
              "      <td>1.0</td>\n",
              "      <td>0.0</td>\n",
              "      <td>1.0</td>\n",
              "      <td>0.0</td>\n",
              "      <td>0.0</td>\n",
              "      <td>0.0</td>\n",
              "      <td>0.0</td>\n",
              "      <td>...</td>\n",
              "      <td>0.0</td>\n",
              "      <td>0.0</td>\n",
              "      <td>22.0</td>\n",
              "      <td>72000.0</td>\n",
              "      <td>1.0</td>\n",
              "      <td>15000.0</td>\n",
              "      <td>10.25</td>\n",
              "      <td>0.21</td>\n",
              "      <td>0.0</td>\n",
              "      <td>4.0</td>\n",
              "    </tr>\n",
              "    <tr>\n",
              "      <th>4</th>\n",
              "      <td>1.0</td>\n",
              "      <td>0.0</td>\n",
              "      <td>0.0</td>\n",
              "      <td>0.0</td>\n",
              "      <td>0.0</td>\n",
              "      <td>1.0</td>\n",
              "      <td>0.0</td>\n",
              "      <td>0.0</td>\n",
              "      <td>0.0</td>\n",
              "      <td>0.0</td>\n",
              "      <td>...</td>\n",
              "      <td>0.0</td>\n",
              "      <td>0.0</td>\n",
              "      <td>24.0</td>\n",
              "      <td>81600.0</td>\n",
              "      <td>5.0</td>\n",
              "      <td>8000.0</td>\n",
              "      <td>12.84</td>\n",
              "      <td>0.10</td>\n",
              "      <td>1.0</td>\n",
              "      <td>2.0</td>\n",
              "    </tr>\n",
              "  </tbody>\n",
              "</table>\n",
              "<p>5 rows × 25 columns</p>\n",
              "</div>\n",
              "      <button class=\"colab-df-convert\" onclick=\"convertToInteractive('df-fdb7ea77-1d80-42cb-b25d-59dc90ec3000')\"\n",
              "              title=\"Convert this dataframe to an interactive table.\"\n",
              "              style=\"display:none;\">\n",
              "        \n",
              "  <svg xmlns=\"http://www.w3.org/2000/svg\" height=\"24px\"viewBox=\"0 0 24 24\"\n",
              "       width=\"24px\">\n",
              "    <path d=\"M0 0h24v24H0V0z\" fill=\"none\"/>\n",
              "    <path d=\"M18.56 5.44l.94 2.06.94-2.06 2.06-.94-2.06-.94-.94-2.06-.94 2.06-2.06.94zm-11 1L8.5 8.5l.94-2.06 2.06-.94-2.06-.94L8.5 2.5l-.94 2.06-2.06.94zm10 10l.94 2.06.94-2.06 2.06-.94-2.06-.94-.94-2.06-.94 2.06-2.06.94z\"/><path d=\"M17.41 7.96l-1.37-1.37c-.4-.4-.92-.59-1.43-.59-.52 0-1.04.2-1.43.59L10.3 9.45l-7.72 7.72c-.78.78-.78 2.05 0 2.83L4 21.41c.39.39.9.59 1.41.59.51 0 1.02-.2 1.41-.59l7.78-7.78 2.81-2.81c.8-.78.8-2.07 0-2.86zM5.41 20L4 18.59l7.72-7.72 1.47 1.35L5.41 20z\"/>\n",
              "  </svg>\n",
              "      </button>\n",
              "      \n",
              "  <style>\n",
              "    .colab-df-container {\n",
              "      display:flex;\n",
              "      flex-wrap:wrap;\n",
              "      gap: 12px;\n",
              "    }\n",
              "\n",
              "    .colab-df-convert {\n",
              "      background-color: #E8F0FE;\n",
              "      border: none;\n",
              "      border-radius: 50%;\n",
              "      cursor: pointer;\n",
              "      display: none;\n",
              "      fill: #1967D2;\n",
              "      height: 32px;\n",
              "      padding: 0 0 0 0;\n",
              "      width: 32px;\n",
              "    }\n",
              "\n",
              "    .colab-df-convert:hover {\n",
              "      background-color: #E2EBFA;\n",
              "      box-shadow: 0px 1px 2px rgba(60, 64, 67, 0.3), 0px 1px 3px 1px rgba(60, 64, 67, 0.15);\n",
              "      fill: #174EA6;\n",
              "    }\n",
              "\n",
              "    [theme=dark] .colab-df-convert {\n",
              "      background-color: #3B4455;\n",
              "      fill: #D2E3FC;\n",
              "    }\n",
              "\n",
              "    [theme=dark] .colab-df-convert:hover {\n",
              "      background-color: #434B5C;\n",
              "      box-shadow: 0px 1px 3px 1px rgba(0, 0, 0, 0.15);\n",
              "      filter: drop-shadow(0px 1px 2px rgba(0, 0, 0, 0.3));\n",
              "      fill: #FFFFFF;\n",
              "    }\n",
              "  </style>\n",
              "\n",
              "      <script>\n",
              "        const buttonEl =\n",
              "          document.querySelector('#df-fdb7ea77-1d80-42cb-b25d-59dc90ec3000 button.colab-df-convert');\n",
              "        buttonEl.style.display =\n",
              "          google.colab.kernel.accessAllowed ? 'block' : 'none';\n",
              "\n",
              "        async function convertToInteractive(key) {\n",
              "          const element = document.querySelector('#df-fdb7ea77-1d80-42cb-b25d-59dc90ec3000');\n",
              "          const dataTable =\n",
              "            await google.colab.kernel.invokeFunction('convertToInteractive',\n",
              "                                                     [key], {});\n",
              "          if (!dataTable) return;\n",
              "\n",
              "          const docLinkHtml = 'Like what you see? Visit the ' +\n",
              "            '<a target=\"_blank\" href=https://colab.research.google.com/notebooks/data_table.ipynb>data table notebook</a>'\n",
              "            + ' to learn more about interactive tables.';\n",
              "          element.innerHTML = '';\n",
              "          dataTable['output_type'] = 'display_data';\n",
              "          await google.colab.output.renderOutput(dataTable, element);\n",
              "          const docLink = document.createElement('div');\n",
              "          docLink.innerHTML = docLinkHtml;\n",
              "          element.appendChild(docLink);\n",
              "        }\n",
              "      </script>\n",
              "    </div>\n",
              "  </div>\n",
              "  "
            ]
          },
          "metadata": {},
          "execution_count": 165
        }
      ]
    },
    {
      "cell_type": "code",
      "source": [
        "from sklearn.preprocessing import MinMaxScaler\n",
        "\n",
        "scaler = MinMaxScaler()\n",
        "scaler.fit(dados_enc)\n",
        "scaled_features = scaler.transform(dados_enc)\n",
        "\n",
        "\n",
        "x = pd.DataFrame (scaled_features, columns = one_hot_enc.get_feature_names_out())"
      ],
      "metadata": {
        "id": "JGKK5OBn17d7"
      },
      "execution_count": 166,
      "outputs": []
    },
    {
      "cell_type": "code",
      "source": [
        "x.head()"
      ],
      "metadata": {
        "id": "CZ2WtqJFEhY6",
        "colab": {
          "base_uri": "https://localhost:8080/",
          "height": 317
        },
        "outputId": "68f401a7-ff18-4a0e-afc5-45ccf493c42b"
      },
      "execution_count": 167,
      "outputs": [
        {
          "output_type": "execute_result",
          "data": {
            "text/plain": [
              "   onehotencoder__situacao_propriedade_Alugada  \\\n",
              "0                                          1.0   \n",
              "1                                          1.0   \n",
              "2                                          1.0   \n",
              "3                                          0.0   \n",
              "4                                          1.0   \n",
              "\n",
              "   onehotencoder__situacao_propriedade_Hipotecada  \\\n",
              "0                                             0.0   \n",
              "1                                             0.0   \n",
              "2                                             0.0   \n",
              "3                                             0.0   \n",
              "4                                             0.0   \n",
              "\n",
              "   onehotencoder__situacao_propriedade_Outros  \\\n",
              "0                                         0.0   \n",
              "1                                         0.0   \n",
              "2                                         0.0   \n",
              "3                                         0.0   \n",
              "4                                         0.0   \n",
              "\n",
              "   onehotencoder__situacao_propriedade_Própria  \\\n",
              "0                                          0.0   \n",
              "1                                          0.0   \n",
              "2                                          0.0   \n",
              "3                                          1.0   \n",
              "4                                          0.0   \n",
              "\n",
              "   onehotencoder__motivo_Educativo  onehotencoder__motivo_Empreendimento  \\\n",
              "0                              1.0                                   0.0   \n",
              "1                              0.0                                   1.0   \n",
              "2                              0.0                                   0.0   \n",
              "3                              0.0                                   1.0   \n",
              "4                              0.0                                   1.0   \n",
              "\n",
              "   onehotencoder__motivo_Melhora do lar  onehotencoder__motivo_Médico  \\\n",
              "0                                   0.0                           0.0   \n",
              "1                                   0.0                           0.0   \n",
              "2                                   0.0                           0.0   \n",
              "3                                   0.0                           0.0   \n",
              "4                                   0.0                           0.0   \n",
              "\n",
              "   onehotencoder__motivo_Pagamento de débitos  onehotencoder__motivo_Pessoal  \\\n",
              "0                                         0.0                            0.0   \n",
              "1                                         0.0                            0.0   \n",
              "2                                         0.0                            1.0   \n",
              "3                                         0.0                            0.0   \n",
              "4                                         0.0                            0.0   \n",
              "\n",
              "   ...  onehotencoder__pontuacao_F  onehotencoder__pontuacao_G  \\\n",
              "0  ...                         0.0                         0.0   \n",
              "1  ...                         0.0                         1.0   \n",
              "2  ...                         0.0                         0.0   \n",
              "3  ...                         0.0                         0.0   \n",
              "4  ...                         0.0                         0.0   \n",
              "\n",
              "   remainder__idade_solicitante  remainder__salario_anual  \\\n",
              "0                      0.207547                  0.013351   \n",
              "1                      0.169811                  0.031773   \n",
              "2                      0.018868                  0.034281   \n",
              "3                      0.037736                  0.056856   \n",
              "4                      0.075472                  0.064883   \n",
              "\n",
              "   remainder__anos_trabalhados  remainder__valor_total_emprestimo  \\\n",
              "0                     0.029412                           0.052478   \n",
              "1                     0.117647                           0.026239   \n",
              "2                     0.088235                           0.189504   \n",
              "3                     0.029412                           0.416910   \n",
              "4                     0.147059                           0.212828   \n",
              "\n",
              "   remainder__taxa_juros  remainder__renda_percentual  \\\n",
              "0               0.235955                     0.160000   \n",
              "1               0.771910                     0.040000   \n",
              "2               0.222472                     0.200000   \n",
              "3               0.271348                     0.266667   \n",
              "4               0.416854                     0.120000   \n",
              "\n",
              "   remainder__historico_inadimplente  remainder__anos_cartao_credito  \n",
              "0                                0.0                        0.142857  \n",
              "1                                1.0                        0.142857  \n",
              "2                                0.0                        0.071429  \n",
              "3                                0.0                        0.071429  \n",
              "4                                1.0                        0.000000  \n",
              "\n",
              "[5 rows x 25 columns]"
            ],
            "text/html": [
              "\n",
              "  <div id=\"df-c3c45108-ac8f-40fe-9606-9f8a14a3508e\">\n",
              "    <div class=\"colab-df-container\">\n",
              "      <div>\n",
              "<style scoped>\n",
              "    .dataframe tbody tr th:only-of-type {\n",
              "        vertical-align: middle;\n",
              "    }\n",
              "\n",
              "    .dataframe tbody tr th {\n",
              "        vertical-align: top;\n",
              "    }\n",
              "\n",
              "    .dataframe thead th {\n",
              "        text-align: right;\n",
              "    }\n",
              "</style>\n",
              "<table border=\"1\" class=\"dataframe\">\n",
              "  <thead>\n",
              "    <tr style=\"text-align: right;\">\n",
              "      <th></th>\n",
              "      <th>onehotencoder__situacao_propriedade_Alugada</th>\n",
              "      <th>onehotencoder__situacao_propriedade_Hipotecada</th>\n",
              "      <th>onehotencoder__situacao_propriedade_Outros</th>\n",
              "      <th>onehotencoder__situacao_propriedade_Própria</th>\n",
              "      <th>onehotencoder__motivo_Educativo</th>\n",
              "      <th>onehotencoder__motivo_Empreendimento</th>\n",
              "      <th>onehotencoder__motivo_Melhora do lar</th>\n",
              "      <th>onehotencoder__motivo_Médico</th>\n",
              "      <th>onehotencoder__motivo_Pagamento de débitos</th>\n",
              "      <th>onehotencoder__motivo_Pessoal</th>\n",
              "      <th>...</th>\n",
              "      <th>onehotencoder__pontuacao_F</th>\n",
              "      <th>onehotencoder__pontuacao_G</th>\n",
              "      <th>remainder__idade_solicitante</th>\n",
              "      <th>remainder__salario_anual</th>\n",
              "      <th>remainder__anos_trabalhados</th>\n",
              "      <th>remainder__valor_total_emprestimo</th>\n",
              "      <th>remainder__taxa_juros</th>\n",
              "      <th>remainder__renda_percentual</th>\n",
              "      <th>remainder__historico_inadimplente</th>\n",
              "      <th>remainder__anos_cartao_credito</th>\n",
              "    </tr>\n",
              "  </thead>\n",
              "  <tbody>\n",
              "    <tr>\n",
              "      <th>0</th>\n",
              "      <td>1.0</td>\n",
              "      <td>0.0</td>\n",
              "      <td>0.0</td>\n",
              "      <td>0.0</td>\n",
              "      <td>1.0</td>\n",
              "      <td>0.0</td>\n",
              "      <td>0.0</td>\n",
              "      <td>0.0</td>\n",
              "      <td>0.0</td>\n",
              "      <td>0.0</td>\n",
              "      <td>...</td>\n",
              "      <td>0.0</td>\n",
              "      <td>0.0</td>\n",
              "      <td>0.207547</td>\n",
              "      <td>0.013351</td>\n",
              "      <td>0.029412</td>\n",
              "      <td>0.052478</td>\n",
              "      <td>0.235955</td>\n",
              "      <td>0.160000</td>\n",
              "      <td>0.0</td>\n",
              "      <td>0.142857</td>\n",
              "    </tr>\n",
              "    <tr>\n",
              "      <th>1</th>\n",
              "      <td>1.0</td>\n",
              "      <td>0.0</td>\n",
              "      <td>0.0</td>\n",
              "      <td>0.0</td>\n",
              "      <td>0.0</td>\n",
              "      <td>1.0</td>\n",
              "      <td>0.0</td>\n",
              "      <td>0.0</td>\n",
              "      <td>0.0</td>\n",
              "      <td>0.0</td>\n",
              "      <td>...</td>\n",
              "      <td>0.0</td>\n",
              "      <td>1.0</td>\n",
              "      <td>0.169811</td>\n",
              "      <td>0.031773</td>\n",
              "      <td>0.117647</td>\n",
              "      <td>0.026239</td>\n",
              "      <td>0.771910</td>\n",
              "      <td>0.040000</td>\n",
              "      <td>1.0</td>\n",
              "      <td>0.142857</td>\n",
              "    </tr>\n",
              "    <tr>\n",
              "      <th>2</th>\n",
              "      <td>1.0</td>\n",
              "      <td>0.0</td>\n",
              "      <td>0.0</td>\n",
              "      <td>0.0</td>\n",
              "      <td>0.0</td>\n",
              "      <td>0.0</td>\n",
              "      <td>0.0</td>\n",
              "      <td>0.0</td>\n",
              "      <td>0.0</td>\n",
              "      <td>1.0</td>\n",
              "      <td>...</td>\n",
              "      <td>0.0</td>\n",
              "      <td>0.0</td>\n",
              "      <td>0.018868</td>\n",
              "      <td>0.034281</td>\n",
              "      <td>0.088235</td>\n",
              "      <td>0.189504</td>\n",
              "      <td>0.222472</td>\n",
              "      <td>0.200000</td>\n",
              "      <td>0.0</td>\n",
              "      <td>0.071429</td>\n",
              "    </tr>\n",
              "    <tr>\n",
              "      <th>3</th>\n",
              "      <td>0.0</td>\n",
              "      <td>0.0</td>\n",
              "      <td>0.0</td>\n",
              "      <td>1.0</td>\n",
              "      <td>0.0</td>\n",
              "      <td>1.0</td>\n",
              "      <td>0.0</td>\n",
              "      <td>0.0</td>\n",
              "      <td>0.0</td>\n",
              "      <td>0.0</td>\n",
              "      <td>...</td>\n",
              "      <td>0.0</td>\n",
              "      <td>0.0</td>\n",
              "      <td>0.037736</td>\n",
              "      <td>0.056856</td>\n",
              "      <td>0.029412</td>\n",
              "      <td>0.416910</td>\n",
              "      <td>0.271348</td>\n",
              "      <td>0.266667</td>\n",
              "      <td>0.0</td>\n",
              "      <td>0.071429</td>\n",
              "    </tr>\n",
              "    <tr>\n",
              "      <th>4</th>\n",
              "      <td>1.0</td>\n",
              "      <td>0.0</td>\n",
              "      <td>0.0</td>\n",
              "      <td>0.0</td>\n",
              "      <td>0.0</td>\n",
              "      <td>1.0</td>\n",
              "      <td>0.0</td>\n",
              "      <td>0.0</td>\n",
              "      <td>0.0</td>\n",
              "      <td>0.0</td>\n",
              "      <td>...</td>\n",
              "      <td>0.0</td>\n",
              "      <td>0.0</td>\n",
              "      <td>0.075472</td>\n",
              "      <td>0.064883</td>\n",
              "      <td>0.147059</td>\n",
              "      <td>0.212828</td>\n",
              "      <td>0.416854</td>\n",
              "      <td>0.120000</td>\n",
              "      <td>1.0</td>\n",
              "      <td>0.000000</td>\n",
              "    </tr>\n",
              "  </tbody>\n",
              "</table>\n",
              "<p>5 rows × 25 columns</p>\n",
              "</div>\n",
              "      <button class=\"colab-df-convert\" onclick=\"convertToInteractive('df-c3c45108-ac8f-40fe-9606-9f8a14a3508e')\"\n",
              "              title=\"Convert this dataframe to an interactive table.\"\n",
              "              style=\"display:none;\">\n",
              "        \n",
              "  <svg xmlns=\"http://www.w3.org/2000/svg\" height=\"24px\"viewBox=\"0 0 24 24\"\n",
              "       width=\"24px\">\n",
              "    <path d=\"M0 0h24v24H0V0z\" fill=\"none\"/>\n",
              "    <path d=\"M18.56 5.44l.94 2.06.94-2.06 2.06-.94-2.06-.94-.94-2.06-.94 2.06-2.06.94zm-11 1L8.5 8.5l.94-2.06 2.06-.94-2.06-.94L8.5 2.5l-.94 2.06-2.06.94zm10 10l.94 2.06.94-2.06 2.06-.94-2.06-.94-.94-2.06-.94 2.06-2.06.94z\"/><path d=\"M17.41 7.96l-1.37-1.37c-.4-.4-.92-.59-1.43-.59-.52 0-1.04.2-1.43.59L10.3 9.45l-7.72 7.72c-.78.78-.78 2.05 0 2.83L4 21.41c.39.39.9.59 1.41.59.51 0 1.02-.2 1.41-.59l7.78-7.78 2.81-2.81c.8-.78.8-2.07 0-2.86zM5.41 20L4 18.59l7.72-7.72 1.47 1.35L5.41 20z\"/>\n",
              "  </svg>\n",
              "      </button>\n",
              "      \n",
              "  <style>\n",
              "    .colab-df-container {\n",
              "      display:flex;\n",
              "      flex-wrap:wrap;\n",
              "      gap: 12px;\n",
              "    }\n",
              "\n",
              "    .colab-df-convert {\n",
              "      background-color: #E8F0FE;\n",
              "      border: none;\n",
              "      border-radius: 50%;\n",
              "      cursor: pointer;\n",
              "      display: none;\n",
              "      fill: #1967D2;\n",
              "      height: 32px;\n",
              "      padding: 0 0 0 0;\n",
              "      width: 32px;\n",
              "    }\n",
              "\n",
              "    .colab-df-convert:hover {\n",
              "      background-color: #E2EBFA;\n",
              "      box-shadow: 0px 1px 2px rgba(60, 64, 67, 0.3), 0px 1px 3px 1px rgba(60, 64, 67, 0.15);\n",
              "      fill: #174EA6;\n",
              "    }\n",
              "\n",
              "    [theme=dark] .colab-df-convert {\n",
              "      background-color: #3B4455;\n",
              "      fill: #D2E3FC;\n",
              "    }\n",
              "\n",
              "    [theme=dark] .colab-df-convert:hover {\n",
              "      background-color: #434B5C;\n",
              "      box-shadow: 0px 1px 3px 1px rgba(0, 0, 0, 0.15);\n",
              "      filter: drop-shadow(0px 1px 2px rgba(0, 0, 0, 0.3));\n",
              "      fill: #FFFFFF;\n",
              "    }\n",
              "  </style>\n",
              "\n",
              "      <script>\n",
              "        const buttonEl =\n",
              "          document.querySelector('#df-c3c45108-ac8f-40fe-9606-9f8a14a3508e button.colab-df-convert');\n",
              "        buttonEl.style.display =\n",
              "          google.colab.kernel.accessAllowed ? 'block' : 'none';\n",
              "\n",
              "        async function convertToInteractive(key) {\n",
              "          const element = document.querySelector('#df-c3c45108-ac8f-40fe-9606-9f8a14a3508e');\n",
              "          const dataTable =\n",
              "            await google.colab.kernel.invokeFunction('convertToInteractive',\n",
              "                                                     [key], {});\n",
              "          if (!dataTable) return;\n",
              "\n",
              "          const docLinkHtml = 'Like what you see? Visit the ' +\n",
              "            '<a target=\"_blank\" href=https://colab.research.google.com/notebooks/data_table.ipynb>data table notebook</a>'\n",
              "            + ' to learn more about interactive tables.';\n",
              "          element.innerHTML = '';\n",
              "          dataTable['output_type'] = 'display_data';\n",
              "          await google.colab.output.renderOutput(dataTable, element);\n",
              "          const docLink = document.createElement('div');\n",
              "          docLink.innerHTML = docLinkHtml;\n",
              "          element.appendChild(docLink);\n",
              "        }\n",
              "      </script>\n",
              "    </div>\n",
              "  </div>\n",
              "  "
            ]
          },
          "metadata": {},
          "execution_count": 167
        }
      ]
    },
    {
      "cell_type": "markdown",
      "source": [
        "## Modelos utilizando oversampling"
      ],
      "metadata": {
        "id": "Bx9R6xVY-cIp"
      }
    },
    {
      "cell_type": "markdown",
      "source": [
        "### Oversampling - SMOTE"
      ],
      "metadata": {
        "id": "kyRk2_ByIQ1E"
      }
    },
    {
      "cell_type": "markdown",
      "source": [
        "Será feito o oversampling com Smote, para igualar a quantidade de clientes possíveis inadimplentes *(y=1)* e não inadimplentes *(y=0)*."
      ],
      "metadata": {
        "id": "LMwAbO1qZcuR"
      }
    },
    {
      "cell_type": "code",
      "source": [
        "yi = y.astype(int)\n",
        "\n",
        "#Gráfico\n",
        "sns.countplot(yi)\n",
        "plt.title('Balanceamento com SMOTE')\n",
        "plt.xlabel('Possíveis inadimplentes')\n",
        "plt.ylabel('Quantidade')"
      ],
      "metadata": {
        "colab": {
          "base_uri": "https://localhost:8080/",
          "height": 371
        },
        "id": "L6axq-cKZ3LB",
        "outputId": "4d19c170-fde4-4062-8dec-aad2fbed6275"
      },
      "execution_count": 168,
      "outputs": [
        {
          "output_type": "stream",
          "name": "stderr",
          "text": [
            "/usr/local/lib/python3.8/dist-packages/seaborn/_decorators.py:36: FutureWarning: Pass the following variable as a keyword arg: x. From version 0.12, the only valid positional argument will be `data`, and passing other arguments without an explicit keyword will result in an error or misinterpretation.\n",
            "  warnings.warn(\n"
          ]
        },
        {
          "output_type": "execute_result",
          "data": {
            "text/plain": [
              "Text(0, 0.5, 'Quantidade')"
            ]
          },
          "metadata": {},
          "execution_count": 168
        },
        {
          "output_type": "display_data",
          "data": {
            "text/plain": [
              "<Figure size 432x288 with 1 Axes>"
            ],
            "image/png": "[encoded data removed]"
          },
          "metadata": {
            "needs_background": "light"
          }
        }
      ]
    },
    {
      "cell_type": "code",
      "source": [
        "from imblearn.over_sampling import SMOTE"
      ],
      "metadata": {
        "id": "ZMxOl2OMWiLr"
      },
      "execution_count": 169,
      "outputs": []
    },
    {
      "cell_type": "code",
      "source": [
        "SEED = 144"
      ],
      "metadata": {
        "id": "WnePuHef60GC"
      },
      "execution_count": 170,
      "outputs": []
    },
    {
      "cell_type": "code",
      "source": [
        "sm = SMOTE(random_state=SEED)\n",
        "x_sm, y_sm = sm.fit_resample(x, y)"
      ],
      "metadata": {
        "id": "BAO4BQh1EhKh"
      },
      "execution_count": 171,
      "outputs": []
    },
    {
      "cell_type": "code",
      "source": [
        "yi = y_sm.astype(int)\n",
        "\n",
        "#Gráfico\n",
        "sns.countplot(yi)\n",
        "plt.title('Balanceamento com SMOTE')\n",
        "plt.xlabel('Possíveis inadimplentes')\n",
        "plt.ylabel('Quantidade')"
      ],
      "metadata": {
        "id": "eW9GegwTEhIK",
        "colab": {
          "base_uri": "https://localhost:8080/",
          "height": 371
        },
        "outputId": "eff61863-812b-40b6-98e6-295d18ef8c3b"
      },
      "execution_count": 172,
      "outputs": [
        {
          "output_type": "stream",
          "name": "stderr",
          "text": [
            "/usr/local/lib/python3.8/dist-packages/seaborn/_decorators.py:36: FutureWarning: Pass the following variable as a keyword arg: x. From version 0.12, the only valid positional argument will be `data`, and passing other arguments without an explicit keyword will result in an error or misinterpretation.\n",
            "  warnings.warn(\n"
          ]
        },
        {
          "output_type": "execute_result",
          "data": {
            "text/plain": [
              "Text(0, 0.5, 'Quantidade')"
            ]
          },
          "metadata": {},
          "execution_count": 172
        },
        {
          "output_type": "display_data",
          "data": {
            "text/plain": [
              "<Figure size 432x288 with 1 Axes>"
            ],
            "image/png": "[encoded data removed]"
          },
          "metadata": {
            "needs_background": "light"
          }
        }
      ]
    },
    {
      "cell_type": "markdown",
      "source": [
        "### Separando os dados para treinamento"
      ],
      "metadata": {
        "id": "0NukK0e49xa2"
      }
    },
    {
      "cell_type": "code",
      "source": [
        "from sklearn.model_selection import train_test_split"
      ],
      "metadata": {
        "id": "LMwSVycYWsbi"
      },
      "execution_count": 173,
      "outputs": []
    },
    {
      "cell_type": "code",
      "source": [
        "x_treino_sm, x_teste_sm, y_treino_sm, y_teste_sm = train_test_split(x_sm, y_sm, test_size = 0.25, random_state = SEED, stratify = y_sm)\n",
        "print('Smote - Treinaremos com {} elementos e testaremos com {} elementos.'.format(len(x_treino_sm), len(x_teste_sm)))"
      ],
      "metadata": {
        "id": "lVk9VIUEnm9C",
        "colab": {
          "base_uri": "https://localhost:8080/"
        },
        "outputId": "3ab4501e-e661-4231-be9b-714dfb181ce9"
      },
      "execution_count": 174,
      "outputs": [
        {
          "output_type": "stream",
          "name": "stdout",
          "text": [
            "Smote - Treinaremos com 14562 elementos e testaremos com 4854 elementos.\n"
          ]
        }
      ]
    },
    {
      "cell_type": "markdown",
      "source": [
        "### DecisionTreeClassifier"
      ],
      "metadata": {
        "id": "RVODgwDAmzPJ"
      }
    },
    {
      "cell_type": "code",
      "source": [
        "from sklearn.tree import DecisionTreeClassifier"
      ],
      "metadata": {
        "id": "ch10MDLVWwUD"
      },
      "execution_count": 175,
      "outputs": []
    },
    {
      "cell_type": "code",
      "source": [
        "arvore_sm = DecisionTreeClassifier(random_state=SEED)\n",
        "arvore_sm.fit(x_treino_sm, y_treino_sm)\n",
        "previsao_arvore_sm = arvore_sm.predict(x_teste_sm)"
      ],
      "metadata": {
        "id": "arHsf_tOlH84"
      },
      "execution_count": 176,
      "outputs": []
    },
    {
      "cell_type": "code",
      "source": [
        "from sklearn.metrics import classification_report\n",
        "print(classification_report(y_teste_sm, previsao_arvore_sm))"
      ],
      "metadata": {
        "colab": {
          "base_uri": "https://localhost:8080/"
        },
        "id": "3WfQPa6jlH6g",
        "outputId": "4bf020b3-802f-4634-e185-52405aa972f8"
      },
      "execution_count": 177,
      "outputs": [
        {
          "output_type": "stream",
          "name": "stdout",
          "text": [
            "              precision    recall  f1-score   support\n",
            "\n",
            "         0.0       0.90      0.87      0.88      2427\n",
            "         1.0       0.87      0.90      0.89      2427\n",
            "\n",
            "    accuracy                           0.88      4854\n",
            "   macro avg       0.88      0.88      0.88      4854\n",
            "weighted avg       0.88      0.88      0.88      4854\n",
            "\n"
          ]
        }
      ]
    },
    {
      "cell_type": "code",
      "source": [
        "from sklearn.metrics import confusion_matrix, ConfusionMatrixDisplay\n",
        "ConfusionMatrixDisplay.from_estimator(arvore_sm, x_teste_sm, y_teste_sm, cmap = 'Blues')\n",
        "plt.grid(False)\n",
        "plt.show()"
      ],
      "metadata": {
        "id": "dgN5LMX4lUco",
        "colab": {
          "base_uri": "https://localhost:8080/",
          "height": 279
        },
        "outputId": "ca5bdbe8-43f7-4291-d5b1-e832e5098a3a"
      },
      "execution_count": 178,
      "outputs": [
        {
          "output_type": "display_data",
          "data": {
            "text/plain": [
              "<Figure size 432x288 with 2 Axes>"
            ],
            "image/png": "[encoded data removed]"
          },
          "metadata": {
            "needs_background": "light"
          }
        }
      ]
    },
    {
      "cell_type": "markdown",
      "source": [
        "### GradientBoostingClassifier"
      ],
      "metadata": {
        "id": "7fxS2gX_-LL0"
      }
    },
    {
      "cell_type": "code",
      "source": [
        "from sklearn.ensemble import GradientBoostingClassifier"
      ],
      "metadata": {
        "id": "SxJPBbgsWyTL"
      },
      "execution_count": 179,
      "outputs": []
    },
    {
      "cell_type": "code",
      "source": [
        "gboost_sm = GradientBoostingClassifier(random_state=SEED)\n",
        "gboost_sm.fit(x_treino_sm, y_treino_sm)\n",
        "previsao_gboost_sm = gboost_sm.predict(x_teste_sm)"
      ],
      "metadata": {
        "id": "HGZI3Cb_-K8b"
      },
      "execution_count": 180,
      "outputs": []
    },
    {
      "cell_type": "code",
      "source": [
        "print(classification_report(y_teste_sm, previsao_gboost_sm))"
      ],
      "metadata": {
        "colab": {
          "base_uri": "https://localhost:8080/"
        },
        "id": "E3TOCYJx93ir",
        "outputId": "8789e445-1663-4640-9d3d-c6dc517ca2d3"
      },
      "execution_count": 181,
      "outputs": [
        {
          "output_type": "stream",
          "name": "stdout",
          "text": [
            "              precision    recall  f1-score   support\n",
            "\n",
            "         0.0       0.87      0.94      0.90      2427\n",
            "         1.0       0.93      0.86      0.89      2427\n",
            "\n",
            "    accuracy                           0.90      4854\n",
            "   macro avg       0.90      0.90      0.90      4854\n",
            "weighted avg       0.90      0.90      0.90      4854\n",
            "\n"
          ]
        }
      ]
    },
    {
      "cell_type": "code",
      "source": [
        "ConfusionMatrixDisplay.from_estimator(gboost_sm, x_teste_sm, y_teste_sm, cmap = 'Blues')\n",
        "plt.grid(False)\n",
        "plt.show()"
      ],
      "metadata": {
        "colab": {
          "base_uri": "https://localhost:8080/",
          "height": 281
        },
        "id": "C0y8p84c_NlL",
        "outputId": "870c97d0-8906-4257-a273-2c22dd4a30d2"
      },
      "execution_count": 182,
      "outputs": [
        {
          "output_type": "display_data",
          "data": {
            "text/plain": [
              "<Figure size 432x288 with 2 Axes>"
            ],
            "image/png": "[encoded data removed]"
          },
          "metadata": {
            "needs_background": "light"
          }
        }
      ]
    },
    {
      "cell_type": "markdown",
      "source": [
        "### LogisticRegression"
      ],
      "metadata": {
        "id": "g8KkD_j2_OH8"
      }
    },
    {
      "cell_type": "code",
      "source": [
        "from sklearn.linear_model import LogisticRegression"
      ],
      "metadata": {
        "id": "s1m6YzfbW0C7"
      },
      "execution_count": 183,
      "outputs": []
    },
    {
      "cell_type": "code",
      "source": [
        "regressao_sm = LogisticRegression(random_state=SEED)\n",
        "regressao_sm.fit(x_treino_sm, y_treino_sm)\n",
        "previsao_regressao_sm = regressao_sm.predict(x_teste_sm)"
      ],
      "metadata": {
        "colab": {
          "base_uri": "https://localhost:8080/"
        },
        "id": "zAd9MjIb_N1z",
        "outputId": "7e70123b-ce57-47fc-c151-49da4c30e8bc"
      },
      "execution_count": 184,
      "outputs": [
        {
          "output_type": "stream",
          "name": "stderr",
          "text": [
            "/usr/local/lib/python3.8/dist-packages/sklearn/linear_model/_logistic.py:814: ConvergenceWarning: lbfgs failed to converge (status=1):\n",
            "STOP: TOTAL NO. of ITERATIONS REACHED LIMIT.\n",
            "\n",
            "Increase the number of iterations (max_iter) or scale the data as shown in:\n",
            "    https://scikit-learn.org/stable/modules/preprocessing.html\n",
            "Please also refer to the documentation for alternative solver options:\n",
            "    https://scikit-learn.org/stable/modules/linear_model.html#logistic-regression\n",
            "  n_iter_i = _check_optimize_result(\n"
          ]
        }
      ]
    },
    {
      "cell_type": "code",
      "source": [
        "print(classification_report(y_teste_sm, previsao_regressao_sm))"
      ],
      "metadata": {
        "colab": {
          "base_uri": "https://localhost:8080/"
        },
        "id": "gdAUn9V593ga",
        "outputId": "51d79390-10b2-4071-ffb2-a22daa64d6cd"
      },
      "execution_count": 185,
      "outputs": [
        {
          "output_type": "stream",
          "name": "stdout",
          "text": [
            "              precision    recall  f1-score   support\n",
            "\n",
            "         0.0       0.79      0.82      0.81      2427\n",
            "         1.0       0.81      0.79      0.80      2427\n",
            "\n",
            "    accuracy                           0.80      4854\n",
            "   macro avg       0.80      0.80      0.80      4854\n",
            "weighted avg       0.80      0.80      0.80      4854\n",
            "\n"
          ]
        }
      ]
    },
    {
      "cell_type": "code",
      "source": [
        "ConfusionMatrixDisplay.from_estimator(regressao_sm, x_teste_sm, y_teste_sm, cmap = 'Blues')\n",
        "plt.grid(False)\n",
        "plt.show()"
      ],
      "metadata": {
        "colab": {
          "base_uri": "https://localhost:8080/",
          "height": 279
        },
        "id": "eUwwCKza93d7",
        "outputId": "bb02866a-de23-4a3c-94a5-2f8f762d37b2"
      },
      "execution_count": 186,
      "outputs": [
        {
          "output_type": "display_data",
          "data": {
            "text/plain": [
              "<Figure size 432x288 with 2 Axes>"
            ],
            "image/png": "[encoded data removed]"
          },
          "metadata": {
            "needs_background": "light"
          }
        }
      ]
    },
    {
      "cell_type": "markdown",
      "source": [
        "## Modelos utilizando undersampling"
      ],
      "metadata": {
        "id": "O01hN4Si6YPD"
      }
    },
    {
      "cell_type": "markdown",
      "source": [
        "Será feito o undersampling com NerMiss, para igualar a quantidade de clientes possíveis inadimplentes *(y=1)* e não inadimplentes *(y=0)*."
      ],
      "metadata": {
        "id": "EOtRtYxnaKSx"
      }
    },
    {
      "cell_type": "markdown",
      "source": [
        "### Undersampling - NearMiss"
      ],
      "metadata": {
        "id": "flxrbkjM-fN8"
      }
    },
    {
      "cell_type": "code",
      "source": [
        "yi = y.astype(int)\n",
        "\n",
        "#Gráfico\n",
        "sns.countplot(yi)\n",
        "plt.title('Balanceamento com SMOTE')\n",
        "plt.xlabel('Possíveis inadimplentes')\n",
        "plt.ylabel('Quantidade')"
      ],
      "metadata": {
        "colab": {
          "base_uri": "https://localhost:8080/",
          "height": 371
        },
        "id": "bJygPbVPaOUx",
        "outputId": "339ccdf7-f856-4b97-ddda-6c06ab830305"
      },
      "execution_count": 187,
      "outputs": [
        {
          "output_type": "stream",
          "name": "stderr",
          "text": [
            "/usr/local/lib/python3.8/dist-packages/seaborn/_decorators.py:36: FutureWarning: Pass the following variable as a keyword arg: x. From version 0.12, the only valid positional argument will be `data`, and passing other arguments without an explicit keyword will result in an error or misinterpretation.\n",
            "  warnings.warn(\n"
          ]
        },
        {
          "output_type": "execute_result",
          "data": {
            "text/plain": [
              "Text(0, 0.5, 'Quantidade')"
            ]
          },
          "metadata": {},
          "execution_count": 187
        },
        {
          "output_type": "display_data",
          "data": {
            "text/plain": [
              "<Figure size 432x288 with 1 Axes>"
            ],
            "image/png": "[encoded data removed]"
          },
          "metadata": {
            "needs_background": "light"
          }
        }
      ]
    },
    {
      "cell_type": "code",
      "source": [
        "from imblearn.under_sampling import NearMiss"
      ],
      "metadata": {
        "id": "DGWkP9vaWkyq"
      },
      "execution_count": 188,
      "outputs": []
    },
    {
      "cell_type": "code",
      "source": [
        "SEED = 144"
      ],
      "metadata": {
        "id": "iI4uJ9LAjqEC"
      },
      "execution_count": 189,
      "outputs": []
    },
    {
      "cell_type": "code",
      "source": [
        "nm = NearMiss()\n",
        "x_nm, y_nm = nm.fit_resample(x, y)"
      ],
      "metadata": {
        "id": "DxHqG6IWI56n"
      },
      "execution_count": 190,
      "outputs": []
    },
    {
      "cell_type": "code",
      "source": [
        "yi = y_nm.astype(int)\n",
        "\n",
        "#Gráfico\n",
        "sns.countplot(yi)\n",
        "plt.title('Balanceamento com NearMiss')\n",
        "plt.xlabel('Possíveis inadimplentes')\n",
        "plt.ylabel('Quantidade')"
      ],
      "metadata": {
        "colab": {
          "base_uri": "https://localhost:8080/",
          "height": 371
        },
        "id": "UsmbP07hI54J",
        "outputId": "953f33a5-82ac-484f-d2bc-51059b86c623"
      },
      "execution_count": 191,
      "outputs": [
        {
          "output_type": "stream",
          "name": "stderr",
          "text": [
            "/usr/local/lib/python3.8/dist-packages/seaborn/_decorators.py:36: FutureWarning: Pass the following variable as a keyword arg: x. From version 0.12, the only valid positional argument will be `data`, and passing other arguments without an explicit keyword will result in an error or misinterpretation.\n",
            "  warnings.warn(\n"
          ]
        },
        {
          "output_type": "execute_result",
          "data": {
            "text/plain": [
              "Text(0, 0.5, 'Quantidade')"
            ]
          },
          "metadata": {},
          "execution_count": 191
        },
        {
          "output_type": "display_data",
          "data": {
            "text/plain": [
              "<Figure size 432x288 with 1 Axes>"
            ],
            "image/png": "[encoded data removed]"
          },
          "metadata": {
            "needs_background": "light"
          }
        }
      ]
    },
    {
      "cell_type": "markdown",
      "source": [
        "### Separando os dados para treinamento"
      ],
      "metadata": {
        "id": "vYBhGvPDoDpt"
      }
    },
    {
      "cell_type": "code",
      "source": [
        "x_treino_nm, x_teste_nm, y_treino_nm, y_teste_nm =  train_test_split(x_nm, y_nm, random_state=SEED, test_size = 0.25, stratify = y_nm)  \n",
        "print('NearMiss - Treinaremos com {} elementos e testaremos com {} elementos.'.format(len(x_treino_nm), len(x_teste_nm)))"
      ],
      "metadata": {
        "id": "DY_jOWach7r5",
        "colab": {
          "base_uri": "https://localhost:8080/"
        },
        "outputId": "8f996cd3-c90a-4adc-c9b7-86e16b5dfff7"
      },
      "execution_count": 192,
      "outputs": [
        {
          "output_type": "stream",
          "name": "stdout",
          "text": [
            "NearMiss - Treinaremos com 4066 elementos e testaremos com 1356 elementos.\n"
          ]
        }
      ]
    },
    {
      "cell_type": "markdown",
      "source": [
        "### DecisionTreeClassifier"
      ],
      "metadata": {
        "id": "ufFGbPCL7stT"
      }
    },
    {
      "cell_type": "code",
      "source": [
        "arvore_nm = DecisionTreeClassifier()\n",
        "arvore_nm.fit(x_treino_nm, y_treino_nm) \n",
        "previsao_arvore_nm = arvore_nm.predict(x_teste_nm)"
      ],
      "metadata": {
        "id": "-KvubVQfHQcw"
      },
      "execution_count": 193,
      "outputs": []
    },
    {
      "cell_type": "code",
      "source": [
        "print(classification_report(y_teste_nm, previsao_arvore_nm))"
      ],
      "metadata": {
        "colab": {
          "base_uri": "https://localhost:8080/"
        },
        "id": "GDpGiH0sNJeD",
        "outputId": "f123945c-fd28-44c9-a00c-9394dc86e60d"
      },
      "execution_count": 194,
      "outputs": [
        {
          "output_type": "stream",
          "name": "stdout",
          "text": [
            "              precision    recall  f1-score   support\n",
            "\n",
            "         0.0       0.83      0.83      0.83       678\n",
            "         1.0       0.83      0.83      0.83       678\n",
            "\n",
            "    accuracy                           0.83      1356\n",
            "   macro avg       0.83      0.83      0.83      1356\n",
            "weighted avg       0.83      0.83      0.83      1356\n",
            "\n"
          ]
        }
      ]
    },
    {
      "cell_type": "code",
      "source": [
        "ConfusionMatrixDisplay.from_estimator(arvore_nm, x_teste_nm, y_teste_nm, cmap='Blues')\n",
        "plt.grid(False)\n",
        "plt.show()"
      ],
      "metadata": {
        "colab": {
          "base_uri": "https://localhost:8080/",
          "height": 279
        },
        "id": "4U-cIh1ENJbK",
        "outputId": "ca7122e3-0d60-4b4f-b733-cea32b32eda1"
      },
      "execution_count": 195,
      "outputs": [
        {
          "output_type": "display_data",
          "data": {
            "text/plain": [
              "<Figure size 432x288 with 2 Axes>"
            ],
            "image/png": "[encoded data removed]"
          },
          "metadata": {
            "needs_background": "light"
          }
        }
      ]
    },
    {
      "cell_type": "markdown",
      "source": [
        "### GradientBoostingClassifier"
      ],
      "metadata": {
        "id": "UL4573E-_EQL"
      }
    },
    {
      "cell_type": "code",
      "source": [
        "gboost_nm = GradientBoostingClassifier(random_state=SEED)\n",
        "gboost_nm.fit(x_treino_nm, y_treino_nm)\n",
        "previsao_gboost_nm = gboost_nm.predict(x_teste_nm)"
      ],
      "metadata": {
        "id": "jp3gqvzZ_FU8"
      },
      "execution_count": 196,
      "outputs": []
    },
    {
      "cell_type": "code",
      "source": [
        "print(classification_report(y_teste_nm, previsao_gboost_nm))"
      ],
      "metadata": {
        "colab": {
          "base_uri": "https://localhost:8080/"
        },
        "id": "NcX_pVvq_FSW",
        "outputId": "9ff8177a-df32-416e-e252-bab46a6d1002"
      },
      "execution_count": 197,
      "outputs": [
        {
          "output_type": "stream",
          "name": "stdout",
          "text": [
            "              precision    recall  f1-score   support\n",
            "\n",
            "         0.0       0.87      0.94      0.90       678\n",
            "         1.0       0.93      0.86      0.90       678\n",
            "\n",
            "    accuracy                           0.90      1356\n",
            "   macro avg       0.90      0.90      0.90      1356\n",
            "weighted avg       0.90      0.90      0.90      1356\n",
            "\n"
          ]
        }
      ]
    },
    {
      "cell_type": "code",
      "source": [
        "ConfusionMatrixDisplay.from_estimator(gboost_nm, x_teste_nm, y_teste_nm, cmap = 'Blues')\n",
        "plt.grid(False)\n",
        "plt.show()"
      ],
      "metadata": {
        "colab": {
          "base_uri": "https://localhost:8080/",
          "height": 279
        },
        "id": "YC1Czvm9_FPw",
        "outputId": "1c3d4618-517e-4f30-d1cd-703413b6affe"
      },
      "execution_count": 198,
      "outputs": [
        {
          "output_type": "display_data",
          "data": {
            "text/plain": [
              "<Figure size 432x288 with 2 Axes>"
            ],
            "image/png": "[encoded data removed]"
          },
          "metadata": {
            "needs_background": "light"
          }
        }
      ]
    },
    {
      "cell_type": "markdown",
      "source": [
        "### LogisticRegression"
      ],
      "metadata": {
        "id": "c-jo-sAz_KIl"
      }
    },
    {
      "cell_type": "code",
      "source": [
        "regressao_nm = LogisticRegression(random_state=SEED)\n",
        "regressao_nm.fit(x_treino_nm, y_treino_nm)\n",
        "previsao_regressao_nm = regressao_nm.predict(x_teste_nm)"
      ],
      "metadata": {
        "id": "ZA8yYpNk_FIy"
      },
      "execution_count": 199,
      "outputs": []
    },
    {
      "cell_type": "code",
      "source": [
        "print(classification_report(y_teste_nm, previsao_regressao_nm))"
      ],
      "metadata": {
        "colab": {
          "base_uri": "https://localhost:8080/"
        },
        "id": "pGwqytti_FGb",
        "outputId": "c5c77730-d0bb-4127-945e-fc795e25e6e2"
      },
      "execution_count": 200,
      "outputs": [
        {
          "output_type": "stream",
          "name": "stdout",
          "text": [
            "              precision    recall  f1-score   support\n",
            "\n",
            "         0.0       0.84      0.88      0.86       678\n",
            "         1.0       0.88      0.83      0.85       678\n",
            "\n",
            "    accuracy                           0.86      1356\n",
            "   macro avg       0.86      0.86      0.86      1356\n",
            "weighted avg       0.86      0.86      0.86      1356\n",
            "\n"
          ]
        }
      ]
    },
    {
      "cell_type": "code",
      "source": [
        "ConfusionMatrixDisplay.from_estimator(regressao_nm, x_teste_nm, y_teste_nm, cmap = 'Blues')\n",
        "plt.grid(False)\n",
        "plt.show()"
      ],
      "metadata": {
        "colab": {
          "base_uri": "https://localhost:8080/",
          "height": 279
        },
        "id": "NG79keVC_EpD",
        "outputId": "76e54dbe-f33d-46fb-b1db-fea71ce19be5"
      },
      "execution_count": 201,
      "outputs": [
        {
          "output_type": "display_data",
          "data": {
            "text/plain": [
              "<Figure size 432x288 with 2 Axes>"
            ],
            "image/png": "[encoded data removed]"
          },
          "metadata": {
            "needs_background": "light"
          }
        }
      ]
    },
    {
      "cell_type": "markdown",
      "source": [
        "## Comparando os modelos"
      ],
      "metadata": {
        "id": "wKz5QzRACXDW"
      }
    },
    {
      "cell_type": "code",
      "source": [
        "from sklearn.metrics import recall_score"
      ],
      "metadata": {
        "id": "nHD7IukNHjJ0"
      },
      "execution_count": 202,
      "outputs": []
    },
    {
      "cell_type": "code",
      "source": [
        "# Modelos com Smote\n",
        "metricas_over = pd.DataFrame({\n",
        "            'Acurácia treino':[arvore_sm.score(x_treino_sm, y_treino_sm), \n",
        "                                gboost_sm.score(x_treino_sm, y_treino_sm), \n",
        "                                regressao_sm.score(x_treino_sm, y_treino_sm)], \n",
        "                              \n",
        "            'Acurácia teste': [arvore_sm.score(x_teste_sm, y_teste_sm), \n",
        "                                gboost_sm.score(x_teste_sm, y_teste_sm), \n",
        "                                regressao_sm.score(x_teste_sm, y_teste_sm)], \n",
        "                              \n",
        "            'Recall': [recall_score(y_teste_sm, previsao_arvore_sm),\n",
        "                       recall_score(y_teste_sm, previsao_gboost_sm),\n",
        "                       recall_score(y_teste_sm, previsao_regressao_sm)]},\n",
        "\n",
        "  index = ['Decision Tree Classifier Oversampling', 'Gradient Boosting Oversampling', 'Logistic Regression Oversampling'])"
      ],
      "metadata": {
        "id": "amQpSWuvCWVh"
      },
      "execution_count": 203,
      "outputs": []
    },
    {
      "cell_type": "code",
      "source": [
        "# Modelos com NearMiss\n",
        "metricas_under = pd.DataFrame({\n",
        "            'Acurácia treino':[arvore_nm.score(x_treino_nm, y_treino_nm), \n",
        "                                gboost_nm.score(x_treino_nm, y_treino_nm), \n",
        "                                regressao_nm.score(x_treino_nm, y_treino_nm)], \n",
        "                              \n",
        "            'Acurácia teste': [arvore_nm.score(x_teste_nm, y_teste_nm), \n",
        "                                gboost_nm.score(x_teste_nm, y_teste_nm), \n",
        "                                regressao_nm.score(x_teste_nm, y_teste_nm)], \n",
        "                              \n",
        "            'Recall': [recall_score(y_teste_nm, previsao_arvore_nm),\n",
        "                       recall_score(y_teste_nm, previsao_gboost_nm),\n",
        "                       recall_score(y_teste_nm, previsao_regressao_nm)]},\n",
        "\n",
        "  index = ['Decision Tree Classifier Undersampling', 'Gradient Boosting Undersampling', 'Logistic Regression Undersampling'])"
      ],
      "metadata": {
        "id": "1hyKHmd5Ihzv"
      },
      "execution_count": 204,
      "outputs": []
    },
    {
      "cell_type": "code",
      "source": [
        "display(metricas_over,metricas_under)"
      ],
      "metadata": {
        "colab": {
          "base_uri": "https://localhost:8080/",
          "height": 270
        },
        "id": "7La5KpLBJL6V",
        "outputId": "dc63c384-2d67-46ec-d1db-07dcf57f0502"
      },
      "execution_count": 205,
      "outputs": [
        {
          "output_type": "display_data",
          "data": {
            "text/plain": [
              "                                       Acurácia treino  Acurácia teste  \\\n",
              "Decision Tree Classifier Oversampling         1.000000        0.883395   \n",
              "Gradient Boosting Oversampling                0.903585        0.897610   \n",
              "Logistic Regression Oversampling              0.799890        0.803667   \n",
              "\n",
              "                                         Recall  \n",
              "Decision Tree Classifier Oversampling  0.899052  \n",
              "Gradient Boosting Oversampling         0.857437  \n",
              "Logistic Regression Oversampling       0.785744  "
            ],
            "text/html": [
              "\n",
              "  <div id=\"df-edaac46c-06e6-40bb-a2f5-83bd322f61ef\">\n",
              "    <div class=\"colab-df-container\">\n",
              "      <div>\n",
              "<style scoped>\n",
              "    .dataframe tbody tr th:only-of-type {\n",
              "        vertical-align: middle;\n",
              "    }\n",
              "\n",
              "    .dataframe tbody tr th {\n",
              "        vertical-align: top;\n",
              "    }\n",
              "\n",
              "    .dataframe thead th {\n",
              "        text-align: right;\n",
              "    }\n",
              "</style>\n",
              "<table border=\"1\" class=\"dataframe\">\n",
              "  <thead>\n",
              "    <tr style=\"text-align: right;\">\n",
              "      <th></th>\n",
              "      <th>Acurácia treino</th>\n",
              "      <th>Acurácia teste</th>\n",
              "      <th>Recall</th>\n",
              "    </tr>\n",
              "  </thead>\n",
              "  <tbody>\n",
              "    <tr>\n",
              "      <th>Decision Tree Classifier Oversampling</th>\n",
              "      <td>1.000000</td>\n",
              "      <td>0.883395</td>\n",
              "      <td>0.899052</td>\n",
              "    </tr>\n",
              "    <tr>\n",
              "      <th>Gradient Boosting Oversampling</th>\n",
              "      <td>0.903585</td>\n",
              "      <td>0.897610</td>\n",
              "      <td>0.857437</td>\n",
              "    </tr>\n",
              "    <tr>\n",
              "      <th>Logistic Regression Oversampling</th>\n",
              "      <td>0.799890</td>\n",
              "      <td>0.803667</td>\n",
              "      <td>0.785744</td>\n",
              "    </tr>\n",
              "  </tbody>\n",
              "</table>\n",
              "</div>\n",
              "      <button class=\"colab-df-convert\" onclick=\"convertToInteractive('df-edaac46c-06e6-40bb-a2f5-83bd322f61ef')\"\n",
              "              title=\"Convert this dataframe to an interactive table.\"\n",
              "              style=\"display:none;\">\n",
              "        \n",
              "  <svg xmlns=\"http://www.w3.org/2000/svg\" height=\"24px\"viewBox=\"0 0 24 24\"\n",
              "       width=\"24px\">\n",
              "    <path d=\"M0 0h24v24H0V0z\" fill=\"none\"/>\n",
              "    <path d=\"M18.56 5.44l.94 2.06.94-2.06 2.06-.94-2.06-.94-.94-2.06-.94 2.06-2.06.94zm-11 1L8.5 8.5l.94-2.06 2.06-.94-2.06-.94L8.5 2.5l-.94 2.06-2.06.94zm10 10l.94 2.06.94-2.06 2.06-.94-2.06-.94-.94-2.06-.94 2.06-2.06.94z\"/><path d=\"M17.41 7.96l-1.37-1.37c-.4-.4-.92-.59-1.43-.59-.52 0-1.04.2-1.43.59L10.3 9.45l-7.72 7.72c-.78.78-.78 2.05 0 2.83L4 21.41c.39.39.9.59 1.41.59.51 0 1.02-.2 1.41-.59l7.78-7.78 2.81-2.81c.8-.78.8-2.07 0-2.86zM5.41 20L4 18.59l7.72-7.72 1.47 1.35L5.41 20z\"/>\n",
              "  </svg>\n",
              "      </button>\n",
              "      \n",
              "  <style>\n",
              "    .colab-df-container {\n",
              "      display:flex;\n",
              "      flex-wrap:wrap;\n",
              "      gap: 12px;\n",
              "    }\n",
              "\n",
              "    .colab-df-convert {\n",
              "      background-color: #E8F0FE;\n",
              "      border: none;\n",
              "      border-radius: 50%;\n",
              "      cursor: pointer;\n",
              "      display: none;\n",
              "      fill: #1967D2;\n",
              "      height: 32px;\n",
              "      padding: 0 0 0 0;\n",
              "      width: 32px;\n",
              "    }\n",
              "\n",
              "    .colab-df-convert:hover {\n",
              "      background-color: #E2EBFA;\n",
              "      box-shadow: 0px 1px 2px rgba(60, 64, 67, 0.3), 0px 1px 3px 1px rgba(60, 64, 67, 0.15);\n",
              "      fill: #174EA6;\n",
              "    }\n",
              "\n",
              "    [theme=dark] .colab-df-convert {\n",
              "      background-color: #3B4455;\n",
              "      fill: #D2E3FC;\n",
              "    }\n",
              "\n",
              "    [theme=dark] .colab-df-convert:hover {\n",
              "      background-color: #434B5C;\n",
              "      box-shadow: 0px 1px 3px 1px rgba(0, 0, 0, 0.15);\n",
              "      filter: drop-shadow(0px 1px 2px rgba(0, 0, 0, 0.3));\n",
              "      fill: #FFFFFF;\n",
              "    }\n",
              "  </style>\n",
              "\n",
              "      <script>\n",
              "        const buttonEl =\n",
              "          document.querySelector('#df-edaac46c-06e6-40bb-a2f5-83bd322f61ef button.colab-df-convert');\n",
              "        buttonEl.style.display =\n",
              "          google.colab.kernel.accessAllowed ? 'block' : 'none';\n",
              "\n",
              "        async function convertToInteractive(key) {\n",
              "          const element = document.querySelector('#df-edaac46c-06e6-40bb-a2f5-83bd322f61ef');\n",
              "          const dataTable =\n",
              "            await google.colab.kernel.invokeFunction('convertToInteractive',\n",
              "                                                     [key], {});\n",
              "          if (!dataTable) return;\n",
              "\n",
              "          const docLinkHtml = 'Like what you see? Visit the ' +\n",
              "            '<a target=\"_blank\" href=https://colab.research.google.com/notebooks/data_table.ipynb>data table notebook</a>'\n",
              "            + ' to learn more about interactive tables.';\n",
              "          element.innerHTML = '';\n",
              "          dataTable['output_type'] = 'display_data';\n",
              "          await google.colab.output.renderOutput(dataTable, element);\n",
              "          const docLink = document.createElement('div');\n",
              "          docLink.innerHTML = docLinkHtml;\n",
              "          element.appendChild(docLink);\n",
              "        }\n",
              "      </script>\n",
              "    </div>\n",
              "  </div>\n",
              "  "
            ]
          },
          "metadata": {}
        },
        {
          "output_type": "display_data",
          "data": {
            "text/plain": [
              "                                        Acurácia treino  Acurácia teste  \\\n",
              "Decision Tree Classifier Undersampling         1.000000        0.834071   \n",
              "Gradient Boosting Undersampling                0.905066        0.898968   \n",
              "Logistic Regression Undersampling              0.836449        0.858407   \n",
              "\n",
              "                                          Recall  \n",
              "Decision Tree Classifier Undersampling  0.834808  \n",
              "Gradient Boosting Undersampling         0.862832  \n",
              "Logistic Regression Undersampling       0.833333  "
            ],
            "text/html": [
              "\n",
              "  <div id=\"df-63ed3d1c-9890-4d4d-b70c-464676764d6d\">\n",
              "    <div class=\"colab-df-container\">\n",
              "      <div>\n",
              "<style scoped>\n",
              "    .dataframe tbody tr th:only-of-type {\n",
              "        vertical-align: middle;\n",
              "    }\n",
              "\n",
              "    .dataframe tbody tr th {\n",
              "        vertical-align: top;\n",
              "    }\n",
              "\n",
              "    .dataframe thead th {\n",
              "        text-align: right;\n",
              "    }\n",
              "</style>\n",
              "<table border=\"1\" class=\"dataframe\">\n",
              "  <thead>\n",
              "    <tr style=\"text-align: right;\">\n",
              "      <th></th>\n",
              "      <th>Acurácia treino</th>\n",
              "      <th>Acurácia teste</th>\n",
              "      <th>Recall</th>\n",
              "    </tr>\n",
              "  </thead>\n",
              "  <tbody>\n",
              "    <tr>\n",
              "      <th>Decision Tree Classifier Undersampling</th>\n",
              "      <td>1.000000</td>\n",
              "      <td>0.834071</td>\n",
              "      <td>0.834808</td>\n",
              "    </tr>\n",
              "    <tr>\n",
              "      <th>Gradient Boosting Undersampling</th>\n",
              "      <td>0.905066</td>\n",
              "      <td>0.898968</td>\n",
              "      <td>0.862832</td>\n",
              "    </tr>\n",
              "    <tr>\n",
              "      <th>Logistic Regression Undersampling</th>\n",
              "      <td>0.836449</td>\n",
              "      <td>0.858407</td>\n",
              "      <td>0.833333</td>\n",
              "    </tr>\n",
              "  </tbody>\n",
              "</table>\n",
              "</div>\n",
              "      <button class=\"colab-df-convert\" onclick=\"convertToInteractive('df-63ed3d1c-9890-4d4d-b70c-464676764d6d')\"\n",
              "              title=\"Convert this dataframe to an interactive table.\"\n",
              "              style=\"display:none;\">\n",
              "        \n",
              "  <svg xmlns=\"http://www.w3.org/2000/svg\" height=\"24px\"viewBox=\"0 0 24 24\"\n",
              "       width=\"24px\">\n",
              "    <path d=\"M0 0h24v24H0V0z\" fill=\"none\"/>\n",
              "    <path d=\"M18.56 5.44l.94 2.06.94-2.06 2.06-.94-2.06-.94-.94-2.06-.94 2.06-2.06.94zm-11 1L8.5 8.5l.94-2.06 2.06-.94-2.06-.94L8.5 2.5l-.94 2.06-2.06.94zm10 10l.94 2.06.94-2.06 2.06-.94-2.06-.94-.94-2.06-.94 2.06-2.06.94z\"/><path d=\"M17.41 7.96l-1.37-1.37c-.4-.4-.92-.59-1.43-.59-.52 0-1.04.2-1.43.59L10.3 9.45l-7.72 7.72c-.78.78-.78 2.05 0 2.83L4 21.41c.39.39.9.59 1.41.59.51 0 1.02-.2 1.41-.59l7.78-7.78 2.81-2.81c.8-.78.8-2.07 0-2.86zM5.41 20L4 18.59l7.72-7.72 1.47 1.35L5.41 20z\"/>\n",
              "  </svg>\n",
              "      </button>\n",
              "      \n",
              "  <style>\n",
              "    .colab-df-container {\n",
              "      display:flex;\n",
              "      flex-wrap:wrap;\n",
              "      gap: 12px;\n",
              "    }\n",
              "\n",
              "    .colab-df-convert {\n",
              "      background-color: #E8F0FE;\n",
              "      border: none;\n",
              "      border-radius: 50%;\n",
              "      cursor: pointer;\n",
              "      display: none;\n",
              "      fill: #1967D2;\n",
              "      height: 32px;\n",
              "      padding: 0 0 0 0;\n",
              "      width: 32px;\n",
              "    }\n",
              "\n",
              "    .colab-df-convert:hover {\n",
              "      background-color: #E2EBFA;\n",
              "      box-shadow: 0px 1px 2px rgba(60, 64, 67, 0.3), 0px 1px 3px 1px rgba(60, 64, 67, 0.15);\n",
              "      fill: #174EA6;\n",
              "    }\n",
              "\n",
              "    [theme=dark] .colab-df-convert {\n",
              "      background-color: #3B4455;\n",
              "      fill: #D2E3FC;\n",
              "    }\n",
              "\n",
              "    [theme=dark] .colab-df-convert:hover {\n",
              "      background-color: #434B5C;\n",
              "      box-shadow: 0px 1px 3px 1px rgba(0, 0, 0, 0.15);\n",
              "      filter: drop-shadow(0px 1px 2px rgba(0, 0, 0, 0.3));\n",
              "      fill: #FFFFFF;\n",
              "    }\n",
              "  </style>\n",
              "\n",
              "      <script>\n",
              "        const buttonEl =\n",
              "          document.querySelector('#df-63ed3d1c-9890-4d4d-b70c-464676764d6d button.colab-df-convert');\n",
              "        buttonEl.style.display =\n",
              "          google.colab.kernel.accessAllowed ? 'block' : 'none';\n",
              "\n",
              "        async function convertToInteractive(key) {\n",
              "          const element = document.querySelector('#df-63ed3d1c-9890-4d4d-b70c-464676764d6d');\n",
              "          const dataTable =\n",
              "            await google.colab.kernel.invokeFunction('convertToInteractive',\n",
              "                                                     [key], {});\n",
              "          if (!dataTable) return;\n",
              "\n",
              "          const docLinkHtml = 'Like what you see? Visit the ' +\n",
              "            '<a target=\"_blank\" href=https://colab.research.google.com/notebooks/data_table.ipynb>data table notebook</a>'\n",
              "            + ' to learn more about interactive tables.';\n",
              "          element.innerHTML = '';\n",
              "          dataTable['output_type'] = 'display_data';\n",
              "          await google.colab.output.renderOutput(dataTable, element);\n",
              "          const docLink = document.createElement('div');\n",
              "          docLink.innerHTML = docLinkHtml;\n",
              "          element.appendChild(docLink);\n",
              "        }\n",
              "      </script>\n",
              "    </div>\n",
              "  </div>\n",
              "  "
            ]
          },
          "metadata": {}
        }
      ]
    },
    {
      "cell_type": "markdown",
      "source": [
        "- **Decision Tree Classifier**\n",
        "\n",
        "  Percebe-se que tanto no oversampling quanto undersampling, o treinamento foi muito bem (até demais). O que pode ter ocasionado um overfiting.\n",
        "\n",
        "\n",
        "- **Gradient Boosting**\n",
        "\n",
        "  Neste modelo o treino e o teste tiveram uma acurácia bem coerente. Não apresentando overfiting.\n",
        "\n",
        "\n",
        "- **Logistic Regression**\n",
        "\n",
        "  Este apresentou um menor desempenho, em ambos casos, comparado aos demais modelos.\n",
        "\n",
        "\n",
        "**Conclusão**\n",
        "\n",
        "O melhor modelo foi o _Gradient Boosting undersampling_."
      ],
      "metadata": {
        "id": "qi5YDR5HaJQb"
      }
    },
    {
      "cell_type": "markdown",
      "source": [
        "## Otimizando hiperparâmetros"
      ],
      "metadata": {
        "id": "nNT8c6FCkcpP"
      }
    },
    {
      "cell_type": "markdown",
      "source": [
        "Com o GridSearchCV serão testados os parâmetros de treinamento para melhorar o modelo Gradient Boosting treinado."
      ],
      "metadata": {
        "id": "TFPvLv95SYHK"
      }
    },
    {
      "cell_type": "code",
      "source": [
        "from sklearn.model_selection import GridSearchCV"
      ],
      "metadata": {
        "id": "9l9wJ_S3JNZU"
      },
      "execution_count": 206,
      "outputs": []
    },
    {
      "cell_type": "code",
      "source": [
        "parameters = {\n",
        "    \"loss\":[\"deviance\"],\n",
        "    \"max_depth\":[3,5,8],\n",
        "    \"max_features\":[\"log2\",\"sqrt\"],\n",
        "    \"criterion\": [\"friedman_mse\",  \"absolute_error\"],\n",
        "    \"subsample\":[0.5, 0.618, 0.8, 0.85, 0.9],\n",
        "    \"n_estimators\":[10,100]\n",
        "    }"
      ],
      "metadata": {
        "id": "RHK_S5kPmh1I"
      },
      "execution_count": 207,
      "outputs": []
    },
    {
      "cell_type": "code",
      "source": [
        "grid_search = GridSearchCV(GradientBoostingClassifier(random_state = SEED), parameters,scoring='recall',cv=3,verbose = 1)\n",
        "grid_search.fit(x_nm, y_nm)"
      ],
      "metadata": {
        "colab": {
          "base_uri": "https://localhost:8080/"
        },
        "id": "-gvIQobtUr95",
        "outputId": "c503633a-748c-4e4a-e313-4442438a2927"
      },
      "execution_count": 208,
      "outputs": [
        {
          "output_type": "stream",
          "name": "stdout",
          "text": [
            "Fitting 3 folds for each of 120 candidates, totalling 360 fits\n"
          ]
        },
        {
          "output_type": "stream",
          "name": "stderr",
          "text": [
            "/usr/local/lib/python3.8/dist-packages/sklearn/ensemble/_gb.py:1284: FutureWarning: criterion='mae' was deprecated in version 0.24 and will be removed in version 1.1 (renaming of 0.26). Use criterion='friedman_mse' or 'squared_error' instead, as trees should use a squared error criterion in Gradient Boosting.\n",
            "  warnings.warn(\n",
            "/usr/local/lib/python3.8/dist-packages/sklearn/ensemble/_gb.py:1284: FutureWarning: criterion='mae' was deprecated in version 0.24 and will be removed in version 1.1 (renaming of 0.26). Use criterion='friedman_mse' or 'squared_error' instead, as trees should use a squared error criterion in Gradient Boosting.\n",
            "  warnings.warn(\n",
            "/usr/local/lib/python3.8/dist-packages/sklearn/ensemble/_gb.py:1284: FutureWarning: criterion='mae' was deprecated in version 0.24 and will be removed in version 1.1 (renaming of 0.26). Use criterion='friedman_mse' or 'squared_error' instead, as trees should use a squared error criterion in Gradient Boosting.\n",
            "  warnings.warn(\n",
            "/usr/local/lib/python3.8/dist-packages/sklearn/ensemble/_gb.py:1284: FutureWarning: criterion='mae' was deprecated in version 0.24 and will be removed in version 1.1 (renaming of 0.26). Use criterion='friedman_mse' or 'squared_error' instead, as trees should use a squared error criterion in Gradient Boosting.\n",
            "  warnings.warn(\n",
            "/usr/local/lib/python3.8/dist-packages/sklearn/ensemble/_gb.py:1284: FutureWarning: criterion='mae' was deprecated in version 0.24 and will be removed in version 1.1 (renaming of 0.26). Use criterion='friedman_mse' or 'squared_error' instead, as trees should use a squared error criterion in Gradient Boosting.\n",
            "  warnings.warn(\n",
            "/usr/local/lib/python3.8/dist-packages/sklearn/ensemble/_gb.py:1284: FutureWarning: criterion='mae' was deprecated in version 0.24 and will be removed in version 1.1 (renaming of 0.26). Use criterion='friedman_mse' or 'squared_error' instead, as trees should use a squared error criterion in Gradient Boosting.\n",
            "  warnings.warn(\n",
            "/usr/local/lib/python3.8/dist-packages/sklearn/ensemble/_gb.py:1284: FutureWarning: criterion='mae' was deprecated in version 0.24 and will be removed in version 1.1 (renaming of 0.26). Use criterion='friedman_mse' or 'squared_error' instead, as trees should use a squared error criterion in Gradient Boosting.\n",
            "  warnings.warn(\n",
            "/usr/local/lib/python3.8/dist-packages/sklearn/ensemble/_gb.py:1284: FutureWarning: criterion='mae' was deprecated in version 0.24 and will be removed in version 1.1 (renaming of 0.26). Use criterion='friedman_mse' or 'squared_error' instead, as trees should use a squared error criterion in Gradient Boosting.\n",
            "  warnings.warn(\n",
            "/usr/local/lib/python3.8/dist-packages/sklearn/ensemble/_gb.py:1284: FutureWarning: criterion='mae' was deprecated in version 0.24 and will be removed in version 1.1 (renaming of 0.26). Use criterion='friedman_mse' or 'squared_error' instead, as trees should use a squared error criterion in Gradient Boosting.\n",
            "  warnings.warn(\n",
            "/usr/local/lib/python3.8/dist-packages/sklearn/ensemble/_gb.py:1284: FutureWarning: criterion='mae' was deprecated in version 0.24 and will be removed in version 1.1 (renaming of 0.26). Use criterion='friedman_mse' or 'squared_error' instead, as trees should use a squared error criterion in Gradient Boosting.\n",
            "  warnings.warn(\n",
            "/usr/local/lib/python3.8/dist-packages/sklearn/ensemble/_gb.py:1284: FutureWarning: criterion='mae' was deprecated in version 0.24 and will be removed in version 1.1 (renaming of 0.26). Use criterion='friedman_mse' or 'squared_error' instead, as trees should use a squared error criterion in Gradient Boosting.\n",
            "  warnings.warn(\n",
            "/usr/local/lib/python3.8/dist-packages/sklearn/ensemble/_gb.py:1284: FutureWarning: criterion='mae' was deprecated in version 0.24 and will be removed in version 1.1 (renaming of 0.26). Use criterion='friedman_mse' or 'squared_error' instead, as trees should use a squared error criterion in Gradient Boosting.\n",
            "  warnings.warn(\n",
            "/usr/local/lib/python3.8/dist-packages/sklearn/ensemble/_gb.py:1284: FutureWarning: criterion='mae' was deprecated in version 0.24 and will be removed in version 1.1 (renaming of 0.26). Use criterion='friedman_mse' or 'squared_error' instead, as trees should use a squared error criterion in Gradient Boosting.\n",
            "  warnings.warn(\n",
            "/usr/local/lib/python3.8/dist-packages/sklearn/ensemble/_gb.py:1284: FutureWarning: criterion='mae' was deprecated in version 0.24 and will be removed in version 1.1 (renaming of 0.26). Use criterion='friedman_mse' or 'squared_error' instead, as trees should use a squared error criterion in Gradient Boosting.\n",
            "  warnings.warn(\n",
            "/usr/local/lib/python3.8/dist-packages/sklearn/ensemble/_gb.py:1284: FutureWarning: criterion='mae' was deprecated in version 0.24 and will be removed in version 1.1 (renaming of 0.26). Use criterion='friedman_mse' or 'squared_error' instead, as trees should use a squared error criterion in Gradient Boosting.\n",
            "  warnings.warn(\n",
            "/usr/local/lib/python3.8/dist-packages/sklearn/ensemble/_gb.py:1284: FutureWarning: criterion='mae' was deprecated in version 0.24 and will be removed in version 1.1 (renaming of 0.26). Use criterion='friedman_mse' or 'squared_error' instead, as trees should use a squared error criterion in Gradient Boosting.\n",
            "  warnings.warn(\n",
            "/usr/local/lib/python3.8/dist-packages/sklearn/ensemble/_gb.py:1284: FutureWarning: criterion='mae' was deprecated in version 0.24 and will be removed in version 1.1 (renaming of 0.26). Use criterion='friedman_mse' or 'squared_error' instead, as trees should use a squared error criterion in Gradient Boosting.\n",
            "  warnings.warn(\n",
            "/usr/local/lib/python3.8/dist-packages/sklearn/ensemble/_gb.py:1284: FutureWarning: criterion='mae' was deprecated in version 0.24 and will be removed in version 1.1 (renaming of 0.26). Use criterion='friedman_mse' or 'squared_error' instead, as trees should use a squared error criterion in Gradient Boosting.\n",
            "  warnings.warn(\n",
            "/usr/local/lib/python3.8/dist-packages/sklearn/ensemble/_gb.py:1284: FutureWarning: criterion='mae' was deprecated in version 0.24 and will be removed in version 1.1 (renaming of 0.26). Use criterion='friedman_mse' or 'squared_error' instead, as trees should use a squared error criterion in Gradient Boosting.\n",
            "  warnings.warn(\n",
            "/usr/local/lib/python3.8/dist-packages/sklearn/ensemble/_gb.py:1284: FutureWarning: criterion='mae' was deprecated in version 0.24 and will be removed in version 1.1 (renaming of 0.26). Use criterion='friedman_mse' or 'squared_error' instead, as trees should use a squared error criterion in Gradient Boosting.\n",
            "  warnings.warn(\n",
            "/usr/local/lib/python3.8/dist-packages/sklearn/ensemble/_gb.py:1284: FutureWarning: criterion='mae' was deprecated in version 0.24 and will be removed in version 1.1 (renaming of 0.26). Use criterion='friedman_mse' or 'squared_error' instead, as trees should use a squared error criterion in Gradient Boosting.\n",
            "  warnings.warn(\n",
            "/usr/local/lib/python3.8/dist-packages/sklearn/ensemble/_gb.py:1284: FutureWarning: criterion='mae' was deprecated in version 0.24 and will be removed in version 1.1 (renaming of 0.26). Use criterion='friedman_mse' or 'squared_error' instead, as trees should use a squared error criterion in Gradient Boosting.\n",
            "  warnings.warn(\n",
            "/usr/local/lib/python3.8/dist-packages/sklearn/ensemble/_gb.py:1284: FutureWarning: criterion='mae' was deprecated in version 0.24 and will be removed in version 1.1 (renaming of 0.26). Use criterion='friedman_mse' or 'squared_error' instead, as trees should use a squared error criterion in Gradient Boosting.\n",
            "  warnings.warn(\n",
            "/usr/local/lib/python3.8/dist-packages/sklearn/ensemble/_gb.py:1284: FutureWarning: criterion='mae' was deprecated in version 0.24 and will be removed in version 1.1 (renaming of 0.26). Use criterion='friedman_mse' or 'squared_error' instead, as trees should use a squared error criterion in Gradient Boosting.\n",
            "  warnings.warn(\n",
            "/usr/local/lib/python3.8/dist-packages/sklearn/ensemble/_gb.py:1284: FutureWarning: criterion='mae' was deprecated in version 0.24 and will be removed in version 1.1 (renaming of 0.26). Use criterion='friedman_mse' or 'squared_error' instead, as trees should use a squared error criterion in Gradient Boosting.\n",
            "  warnings.warn(\n",
            "/usr/local/lib/python3.8/dist-packages/sklearn/ensemble/_gb.py:1284: FutureWarning: criterion='mae' was deprecated in version 0.24 and will be removed in version 1.1 (renaming of 0.26). Use criterion='friedman_mse' or 'squared_error' instead, as trees should use a squared error criterion in Gradient Boosting.\n",
            "  warnings.warn(\n",
            "/usr/local/lib/python3.8/dist-packages/sklearn/ensemble/_gb.py:1284: FutureWarning: criterion='mae' was deprecated in version 0.24 and will be removed in version 1.1 (renaming of 0.26). Use criterion='friedman_mse' or 'squared_error' instead, as trees should use a squared error criterion in Gradient Boosting.\n",
            "  warnings.warn(\n",
            "/usr/local/lib/python3.8/dist-packages/sklearn/ensemble/_gb.py:1284: FutureWarning: criterion='mae' was deprecated in version 0.24 and will be removed in version 1.1 (renaming of 0.26). Use criterion='friedman_mse' or 'squared_error' instead, as trees should use a squared error criterion in Gradient Boosting.\n",
            "  warnings.warn(\n",
            "/usr/local/lib/python3.8/dist-packages/sklearn/ensemble/_gb.py:1284: FutureWarning: criterion='mae' was deprecated in version 0.24 and will be removed in version 1.1 (renaming of 0.26). Use criterion='friedman_mse' or 'squared_error' instead, as trees should use a squared error criterion in Gradient Boosting.\n",
            "  warnings.warn(\n",
            "/usr/local/lib/python3.8/dist-packages/sklearn/ensemble/_gb.py:1284: FutureWarning: criterion='mae' was deprecated in version 0.24 and will be removed in version 1.1 (renaming of 0.26). Use criterion='friedman_mse' or 'squared_error' instead, as trees should use a squared error criterion in Gradient Boosting.\n",
            "  warnings.warn(\n",
            "/usr/local/lib/python3.8/dist-packages/sklearn/ensemble/_gb.py:1284: FutureWarning: criterion='mae' was deprecated in version 0.24 and will be removed in version 1.1 (renaming of 0.26). Use criterion='friedman_mse' or 'squared_error' instead, as trees should use a squared error criterion in Gradient Boosting.\n",
            "  warnings.warn(\n",
            "/usr/local/lib/python3.8/dist-packages/sklearn/ensemble/_gb.py:1284: FutureWarning: criterion='mae' was deprecated in version 0.24 and will be removed in version 1.1 (renaming of 0.26). Use criterion='friedman_mse' or 'squared_error' instead, as trees should use a squared error criterion in Gradient Boosting.\n",
            "  warnings.warn(\n",
            "/usr/local/lib/python3.8/dist-packages/sklearn/ensemble/_gb.py:1284: FutureWarning: criterion='mae' was deprecated in version 0.24 and will be removed in version 1.1 (renaming of 0.26). Use criterion='friedman_mse' or 'squared_error' instead, as trees should use a squared error criterion in Gradient Boosting.\n",
            "  warnings.warn(\n",
            "/usr/local/lib/python3.8/dist-packages/sklearn/ensemble/_gb.py:1284: FutureWarning: criterion='mae' was deprecated in version 0.24 and will be removed in version 1.1 (renaming of 0.26). Use criterion='friedman_mse' or 'squared_error' instead, as trees should use a squared error criterion in Gradient Boosting.\n",
            "  warnings.warn(\n",
            "/usr/local/lib/python3.8/dist-packages/sklearn/ensemble/_gb.py:1284: FutureWarning: criterion='mae' was deprecated in version 0.24 and will be removed in version 1.1 (renaming of 0.26). Use criterion='friedman_mse' or 'squared_error' instead, as trees should use a squared error criterion in Gradient Boosting.\n",
            "  warnings.warn(\n",
            "/usr/local/lib/python3.8/dist-packages/sklearn/ensemble/_gb.py:1284: FutureWarning: criterion='mae' was deprecated in version 0.24 and will be removed in version 1.1 (renaming of 0.26). Use criterion='friedman_mse' or 'squared_error' instead, as trees should use a squared error criterion in Gradient Boosting.\n",
            "  warnings.warn(\n",
            "/usr/local/lib/python3.8/dist-packages/sklearn/ensemble/_gb.py:1284: FutureWarning: criterion='mae' was deprecated in version 0.24 and will be removed in version 1.1 (renaming of 0.26). Use criterion='friedman_mse' or 'squared_error' instead, as trees should use a squared error criterion in Gradient Boosting.\n",
            "  warnings.warn(\n",
            "/usr/local/lib/python3.8/dist-packages/sklearn/ensemble/_gb.py:1284: FutureWarning: criterion='mae' was deprecated in version 0.24 and will be removed in version 1.1 (renaming of 0.26). Use criterion='friedman_mse' or 'squared_error' instead, as trees should use a squared error criterion in Gradient Boosting.\n",
            "  warnings.warn(\n",
            "/usr/local/lib/python3.8/dist-packages/sklearn/ensemble/_gb.py:1284: FutureWarning: criterion='mae' was deprecated in version 0.24 and will be removed in version 1.1 (renaming of 0.26). Use criterion='friedman_mse' or 'squared_error' instead, as trees should use a squared error criterion in Gradient Boosting.\n",
            "  warnings.warn(\n",
            "/usr/local/lib/python3.8/dist-packages/sklearn/ensemble/_gb.py:1284: FutureWarning: criterion='mae' was deprecated in version 0.24 and will be removed in version 1.1 (renaming of 0.26). Use criterion='friedman_mse' or 'squared_error' instead, as trees should use a squared error criterion in Gradient Boosting.\n",
            "  warnings.warn(\n",
            "/usr/local/lib/python3.8/dist-packages/sklearn/ensemble/_gb.py:1284: FutureWarning: criterion='mae' was deprecated in version 0.24 and will be removed in version 1.1 (renaming of 0.26). Use criterion='friedman_mse' or 'squared_error' instead, as trees should use a squared error criterion in Gradient Boosting.\n",
            "  warnings.warn(\n",
            "/usr/local/lib/python3.8/dist-packages/sklearn/ensemble/_gb.py:1284: FutureWarning: criterion='mae' was deprecated in version 0.24 and will be removed in version 1.1 (renaming of 0.26). Use criterion='friedman_mse' or 'squared_error' instead, as trees should use a squared error criterion in Gradient Boosting.\n",
            "  warnings.warn(\n",
            "/usr/local/lib/python3.8/dist-packages/sklearn/ensemble/_gb.py:1284: FutureWarning: criterion='mae' was deprecated in version 0.24 and will be removed in version 1.1 (renaming of 0.26). Use criterion='friedman_mse' or 'squared_error' instead, as trees should use a squared error criterion in Gradient Boosting.\n",
            "  warnings.warn(\n",
            "/usr/local/lib/python3.8/dist-packages/sklearn/ensemble/_gb.py:1284: FutureWarning: criterion='mae' was deprecated in version 0.24 and will be removed in version 1.1 (renaming of 0.26). Use criterion='friedman_mse' or 'squared_error' instead, as trees should use a squared error criterion in Gradient Boosting.\n",
            "  warnings.warn(\n",
            "/usr/local/lib/python3.8/dist-packages/sklearn/ensemble/_gb.py:1284: FutureWarning: criterion='mae' was deprecated in version 0.24 and will be removed in version 1.1 (renaming of 0.26). Use criterion='friedman_mse' or 'squared_error' instead, as trees should use a squared error criterion in Gradient Boosting.\n",
            "  warnings.warn(\n",
            "/usr/local/lib/python3.8/dist-packages/sklearn/ensemble/_gb.py:1284: FutureWarning: criterion='mae' was deprecated in version 0.24 and will be removed in version 1.1 (renaming of 0.26). Use criterion='friedman_mse' or 'squared_error' instead, as trees should use a squared error criterion in Gradient Boosting.\n",
            "  warnings.warn(\n",
            "/usr/local/lib/python3.8/dist-packages/sklearn/ensemble/_gb.py:1284: FutureWarning: criterion='mae' was deprecated in version 0.24 and will be removed in version 1.1 (renaming of 0.26). Use criterion='friedman_mse' or 'squared_error' instead, as trees should use a squared error criterion in Gradient Boosting.\n",
            "  warnings.warn(\n",
            "/usr/local/lib/python3.8/dist-packages/sklearn/ensemble/_gb.py:1284: FutureWarning: criterion='mae' was deprecated in version 0.24 and will be removed in version 1.1 (renaming of 0.26). Use criterion='friedman_mse' or 'squared_error' instead, as trees should use a squared error criterion in Gradient Boosting.\n",
            "  warnings.warn(\n",
            "/usr/local/lib/python3.8/dist-packages/sklearn/ensemble/_gb.py:1284: FutureWarning: criterion='mae' was deprecated in version 0.24 and will be removed in version 1.1 (renaming of 0.26). Use criterion='friedman_mse' or 'squared_error' instead, as trees should use a squared error criterion in Gradient Boosting.\n",
            "  warnings.warn(\n",
            "/usr/local/lib/python3.8/dist-packages/sklearn/ensemble/_gb.py:1284: FutureWarning: criterion='mae' was deprecated in version 0.24 and will be removed in version 1.1 (renaming of 0.26). Use criterion='friedman_mse' or 'squared_error' instead, as trees should use a squared error criterion in Gradient Boosting.\n",
            "  warnings.warn(\n",
            "/usr/local/lib/python3.8/dist-packages/sklearn/ensemble/_gb.py:1284: FutureWarning: criterion='mae' was deprecated in version 0.24 and will be removed in version 1.1 (renaming of 0.26). Use criterion='friedman_mse' or 'squared_error' instead, as trees should use a squared error criterion in Gradient Boosting.\n",
            "  warnings.warn(\n",
            "/usr/local/lib/python3.8/dist-packages/sklearn/ensemble/_gb.py:1284: FutureWarning: criterion='mae' was deprecated in version 0.24 and will be removed in version 1.1 (renaming of 0.26). Use criterion='friedman_mse' or 'squared_error' instead, as trees should use a squared error criterion in Gradient Boosting.\n",
            "  warnings.warn(\n",
            "/usr/local/lib/python3.8/dist-packages/sklearn/ensemble/_gb.py:1284: FutureWarning: criterion='mae' was deprecated in version 0.24 and will be removed in version 1.1 (renaming of 0.26). Use criterion='friedman_mse' or 'squared_error' instead, as trees should use a squared error criterion in Gradient Boosting.\n",
            "  warnings.warn(\n",
            "/usr/local/lib/python3.8/dist-packages/sklearn/ensemble/_gb.py:1284: FutureWarning: criterion='mae' was deprecated in version 0.24 and will be removed in version 1.1 (renaming of 0.26). Use criterion='friedman_mse' or 'squared_error' instead, as trees should use a squared error criterion in Gradient Boosting.\n",
            "  warnings.warn(\n",
            "/usr/local/lib/python3.8/dist-packages/sklearn/ensemble/_gb.py:1284: FutureWarning: criterion='mae' was deprecated in version 0.24 and will be removed in version 1.1 (renaming of 0.26). Use criterion='friedman_mse' or 'squared_error' instead, as trees should use a squared error criterion in Gradient Boosting.\n",
            "  warnings.warn(\n",
            "/usr/local/lib/python3.8/dist-packages/sklearn/ensemble/_gb.py:1284: FutureWarning: criterion='mae' was deprecated in version 0.24 and will be removed in version 1.1 (renaming of 0.26). Use criterion='friedman_mse' or 'squared_error' instead, as trees should use a squared error criterion in Gradient Boosting.\n",
            "  warnings.warn(\n",
            "/usr/local/lib/python3.8/dist-packages/sklearn/ensemble/_gb.py:1284: FutureWarning: criterion='mae' was deprecated in version 0.24 and will be removed in version 1.1 (renaming of 0.26). Use criterion='friedman_mse' or 'squared_error' instead, as trees should use a squared error criterion in Gradient Boosting.\n",
            "  warnings.warn(\n",
            "/usr/local/lib/python3.8/dist-packages/sklearn/ensemble/_gb.py:1284: FutureWarning: criterion='mae' was deprecated in version 0.24 and will be removed in version 1.1 (renaming of 0.26). Use criterion='friedman_mse' or 'squared_error' instead, as trees should use a squared error criterion in Gradient Boosting.\n",
            "  warnings.warn(\n",
            "/usr/local/lib/python3.8/dist-packages/sklearn/ensemble/_gb.py:1284: FutureWarning: criterion='mae' was deprecated in version 0.24 and will be removed in version 1.1 (renaming of 0.26). Use criterion='friedman_mse' or 'squared_error' instead, as trees should use a squared error criterion in Gradient Boosting.\n",
            "  warnings.warn(\n",
            "/usr/local/lib/python3.8/dist-packages/sklearn/ensemble/_gb.py:1284: FutureWarning: criterion='mae' was deprecated in version 0.24 and will be removed in version 1.1 (renaming of 0.26). Use criterion='friedman_mse' or 'squared_error' instead, as trees should use a squared error criterion in Gradient Boosting.\n",
            "  warnings.warn(\n",
            "/usr/local/lib/python3.8/dist-packages/sklearn/ensemble/_gb.py:1284: FutureWarning: criterion='mae' was deprecated in version 0.24 and will be removed in version 1.1 (renaming of 0.26). Use criterion='friedman_mse' or 'squared_error' instead, as trees should use a squared error criterion in Gradient Boosting.\n",
            "  warnings.warn(\n",
            "/usr/local/lib/python3.8/dist-packages/sklearn/ensemble/_gb.py:1284: FutureWarning: criterion='mae' was deprecated in version 0.24 and will be removed in version 1.1 (renaming of 0.26). Use criterion='friedman_mse' or 'squared_error' instead, as trees should use a squared error criterion in Gradient Boosting.\n",
            "  warnings.warn(\n",
            "/usr/local/lib/python3.8/dist-packages/sklearn/ensemble/_gb.py:1284: FutureWarning: criterion='mae' was deprecated in version 0.24 and will be removed in version 1.1 (renaming of 0.26). Use criterion='friedman_mse' or 'squared_error' instead, as trees should use a squared error criterion in Gradient Boosting.\n",
            "  warnings.warn(\n",
            "/usr/local/lib/python3.8/dist-packages/sklearn/ensemble/_gb.py:1284: FutureWarning: criterion='mae' was deprecated in version 0.24 and will be removed in version 1.1 (renaming of 0.26). Use criterion='friedman_mse' or 'squared_error' instead, as trees should use a squared error criterion in Gradient Boosting.\n",
            "  warnings.warn(\n",
            "/usr/local/lib/python3.8/dist-packages/sklearn/ensemble/_gb.py:1284: FutureWarning: criterion='mae' was deprecated in version 0.24 and will be removed in version 1.1 (renaming of 0.26). Use criterion='friedman_mse' or 'squared_error' instead, as trees should use a squared error criterion in Gradient Boosting.\n",
            "  warnings.warn(\n",
            "/usr/local/lib/python3.8/dist-packages/sklearn/ensemble/_gb.py:1284: FutureWarning: criterion='mae' was deprecated in version 0.24 and will be removed in version 1.1 (renaming of 0.26). Use criterion='friedman_mse' or 'squared_error' instead, as trees should use a squared error criterion in Gradient Boosting.\n",
            "  warnings.warn(\n",
            "/usr/local/lib/python3.8/dist-packages/sklearn/ensemble/_gb.py:1284: FutureWarning: criterion='mae' was deprecated in version 0.24 and will be removed in version 1.1 (renaming of 0.26). Use criterion='friedman_mse' or 'squared_error' instead, as trees should use a squared error criterion in Gradient Boosting.\n",
            "  warnings.warn(\n",
            "/usr/local/lib/python3.8/dist-packages/sklearn/ensemble/_gb.py:1284: FutureWarning: criterion='mae' was deprecated in version 0.24 and will be removed in version 1.1 (renaming of 0.26). Use criterion='friedman_mse' or 'squared_error' instead, as trees should use a squared error criterion in Gradient Boosting.\n",
            "  warnings.warn(\n",
            "/usr/local/lib/python3.8/dist-packages/sklearn/ensemble/_gb.py:1284: FutureWarning: criterion='mae' was deprecated in version 0.24 and will be removed in version 1.1 (renaming of 0.26). Use criterion='friedman_mse' or 'squared_error' instead, as trees should use a squared error criterion in Gradient Boosting.\n",
            "  warnings.warn(\n",
            "/usr/local/lib/python3.8/dist-packages/sklearn/ensemble/_gb.py:1284: FutureWarning: criterion='mae' was deprecated in version 0.24 and will be removed in version 1.1 (renaming of 0.26). Use criterion='friedman_mse' or 'squared_error' instead, as trees should use a squared error criterion in Gradient Boosting.\n",
            "  warnings.warn(\n",
            "/usr/local/lib/python3.8/dist-packages/sklearn/ensemble/_gb.py:1284: FutureWarning: criterion='mae' was deprecated in version 0.24 and will be removed in version 1.1 (renaming of 0.26). Use criterion='friedman_mse' or 'squared_error' instead, as trees should use a squared error criterion in Gradient Boosting.\n",
            "  warnings.warn(\n",
            "/usr/local/lib/python3.8/dist-packages/sklearn/ensemble/_gb.py:1284: FutureWarning: criterion='mae' was deprecated in version 0.24 and will be removed in version 1.1 (renaming of 0.26). Use criterion='friedman_mse' or 'squared_error' instead, as trees should use a squared error criterion in Gradient Boosting.\n",
            "  warnings.warn(\n",
            "/usr/local/lib/python3.8/dist-packages/sklearn/ensemble/_gb.py:1284: FutureWarning: criterion='mae' was deprecated in version 0.24 and will be removed in version 1.1 (renaming of 0.26). Use criterion='friedman_mse' or 'squared_error' instead, as trees should use a squared error criterion in Gradient Boosting.\n",
            "  warnings.warn(\n",
            "/usr/local/lib/python3.8/dist-packages/sklearn/ensemble/_gb.py:1284: FutureWarning: criterion='mae' was deprecated in version 0.24 and will be removed in version 1.1 (renaming of 0.26). Use criterion='friedman_mse' or 'squared_error' instead, as trees should use a squared error criterion in Gradient Boosting.\n",
            "  warnings.warn(\n",
            "/usr/local/lib/python3.8/dist-packages/sklearn/ensemble/_gb.py:1284: FutureWarning: criterion='mae' was deprecated in version 0.24 and will be removed in version 1.1 (renaming of 0.26). Use criterion='friedman_mse' or 'squared_error' instead, as trees should use a squared error criterion in Gradient Boosting.\n",
            "  warnings.warn(\n",
            "/usr/local/lib/python3.8/dist-packages/sklearn/ensemble/_gb.py:1284: FutureWarning: criterion='mae' was deprecated in version 0.24 and will be removed in version 1.1 (renaming of 0.26). Use criterion='friedman_mse' or 'squared_error' instead, as trees should use a squared error criterion in Gradient Boosting.\n",
            "  warnings.warn(\n",
            "/usr/local/lib/python3.8/dist-packages/sklearn/ensemble/_gb.py:1284: FutureWarning: criterion='mae' was deprecated in version 0.24 and will be removed in version 1.1 (renaming of 0.26). Use criterion='friedman_mse' or 'squared_error' instead, as trees should use a squared error criterion in Gradient Boosting.\n",
            "  warnings.warn(\n",
            "/usr/local/lib/python3.8/dist-packages/sklearn/ensemble/_gb.py:1284: FutureWarning: criterion='mae' was deprecated in version 0.24 and will be removed in version 1.1 (renaming of 0.26). Use criterion='friedman_mse' or 'squared_error' instead, as trees should use a squared error criterion in Gradient Boosting.\n",
            "  warnings.warn(\n",
            "/usr/local/lib/python3.8/dist-packages/sklearn/ensemble/_gb.py:1284: FutureWarning: criterion='mae' was deprecated in version 0.24 and will be removed in version 1.1 (renaming of 0.26). Use criterion='friedman_mse' or 'squared_error' instead, as trees should use a squared error criterion in Gradient Boosting.\n",
            "  warnings.warn(\n",
            "/usr/local/lib/python3.8/dist-packages/sklearn/ensemble/_gb.py:1284: FutureWarning: criterion='mae' was deprecated in version 0.24 and will be removed in version 1.1 (renaming of 0.26). Use criterion='friedman_mse' or 'squared_error' instead, as trees should use a squared error criterion in Gradient Boosting.\n",
            "  warnings.warn(\n",
            "/usr/local/lib/python3.8/dist-packages/sklearn/ensemble/_gb.py:1284: FutureWarning: criterion='mae' was deprecated in version 0.24 and will be removed in version 1.1 (renaming of 0.26). Use criterion='friedman_mse' or 'squared_error' instead, as trees should use a squared error criterion in Gradient Boosting.\n",
            "  warnings.warn(\n",
            "/usr/local/lib/python3.8/dist-packages/sklearn/ensemble/_gb.py:1284: FutureWarning: criterion='mae' was deprecated in version 0.24 and will be removed in version 1.1 (renaming of 0.26). Use criterion='friedman_mse' or 'squared_error' instead, as trees should use a squared error criterion in Gradient Boosting.\n",
            "  warnings.warn(\n",
            "/usr/local/lib/python3.8/dist-packages/sklearn/ensemble/_gb.py:1284: FutureWarning: criterion='mae' was deprecated in version 0.24 and will be removed in version 1.1 (renaming of 0.26). Use criterion='friedman_mse' or 'squared_error' instead, as trees should use a squared error criterion in Gradient Boosting.\n",
            "  warnings.warn(\n",
            "/usr/local/lib/python3.8/dist-packages/sklearn/ensemble/_gb.py:1284: FutureWarning: criterion='mae' was deprecated in version 0.24 and will be removed in version 1.1 (renaming of 0.26). Use criterion='friedman_mse' or 'squared_error' instead, as trees should use a squared error criterion in Gradient Boosting.\n",
            "  warnings.warn(\n",
            "/usr/local/lib/python3.8/dist-packages/sklearn/ensemble/_gb.py:1284: FutureWarning: criterion='mae' was deprecated in version 0.24 and will be removed in version 1.1 (renaming of 0.26). Use criterion='friedman_mse' or 'squared_error' instead, as trees should use a squared error criterion in Gradient Boosting.\n",
            "  warnings.warn(\n",
            "/usr/local/lib/python3.8/dist-packages/sklearn/ensemble/_gb.py:1284: FutureWarning: criterion='mae' was deprecated in version 0.24 and will be removed in version 1.1 (renaming of 0.26). Use criterion='friedman_mse' or 'squared_error' instead, as trees should use a squared error criterion in Gradient Boosting.\n",
            "  warnings.warn(\n",
            "/usr/local/lib/python3.8/dist-packages/sklearn/ensemble/_gb.py:1284: FutureWarning: criterion='mae' was deprecated in version 0.24 and will be removed in version 1.1 (renaming of 0.26). Use criterion='friedman_mse' or 'squared_error' instead, as trees should use a squared error criterion in Gradient Boosting.\n",
            "  warnings.warn(\n",
            "/usr/local/lib/python3.8/dist-packages/sklearn/ensemble/_gb.py:1284: FutureWarning: criterion='mae' was deprecated in version 0.24 and will be removed in version 1.1 (renaming of 0.26). Use criterion='friedman_mse' or 'squared_error' instead, as trees should use a squared error criterion in Gradient Boosting.\n",
            "  warnings.warn(\n",
            "/usr/local/lib/python3.8/dist-packages/sklearn/ensemble/_gb.py:1284: FutureWarning: criterion='mae' was deprecated in version 0.24 and will be removed in version 1.1 (renaming of 0.26). Use criterion='friedman_mse' or 'squared_error' instead, as trees should use a squared error criterion in Gradient Boosting.\n",
            "  warnings.warn(\n",
            "/usr/local/lib/python3.8/dist-packages/sklearn/ensemble/_gb.py:1284: FutureWarning: criterion='mae' was deprecated in version 0.24 and will be removed in version 1.1 (renaming of 0.26). Use criterion='friedman_mse' or 'squared_error' instead, as trees should use a squared error criterion in Gradient Boosting.\n",
            "  warnings.warn(\n",
            "/usr/local/lib/python3.8/dist-packages/sklearn/ensemble/_gb.py:1284: FutureWarning: criterion='mae' was deprecated in version 0.24 and will be removed in version 1.1 (renaming of 0.26). Use criterion='friedman_mse' or 'squared_error' instead, as trees should use a squared error criterion in Gradient Boosting.\n",
            "  warnings.warn(\n",
            "/usr/local/lib/python3.8/dist-packages/sklearn/ensemble/_gb.py:1284: FutureWarning: criterion='mae' was deprecated in version 0.24 and will be removed in version 1.1 (renaming of 0.26). Use criterion='friedman_mse' or 'squared_error' instead, as trees should use a squared error criterion in Gradient Boosting.\n",
            "  warnings.warn(\n",
            "/usr/local/lib/python3.8/dist-packages/sklearn/ensemble/_gb.py:1284: FutureWarning: criterion='mae' was deprecated in version 0.24 and will be removed in version 1.1 (renaming of 0.26). Use criterion='friedman_mse' or 'squared_error' instead, as trees should use a squared error criterion in Gradient Boosting.\n",
            "  warnings.warn(\n",
            "/usr/local/lib/python3.8/dist-packages/sklearn/ensemble/_gb.py:1284: FutureWarning: criterion='mae' was deprecated in version 0.24 and will be removed in version 1.1 (renaming of 0.26). Use criterion='friedman_mse' or 'squared_error' instead, as trees should use a squared error criterion in Gradient Boosting.\n",
            "  warnings.warn(\n",
            "/usr/local/lib/python3.8/dist-packages/sklearn/ensemble/_gb.py:1284: FutureWarning: criterion='mae' was deprecated in version 0.24 and will be removed in version 1.1 (renaming of 0.26). Use criterion='friedman_mse' or 'squared_error' instead, as trees should use a squared error criterion in Gradient Boosting.\n",
            "  warnings.warn(\n",
            "/usr/local/lib/python3.8/dist-packages/sklearn/ensemble/_gb.py:1284: FutureWarning: criterion='mae' was deprecated in version 0.24 and will be removed in version 1.1 (renaming of 0.26). Use criterion='friedman_mse' or 'squared_error' instead, as trees should use a squared error criterion in Gradient Boosting.\n",
            "  warnings.warn(\n",
            "/usr/local/lib/python3.8/dist-packages/sklearn/ensemble/_gb.py:1284: FutureWarning: criterion='mae' was deprecated in version 0.24 and will be removed in version 1.1 (renaming of 0.26). Use criterion='friedman_mse' or 'squared_error' instead, as trees should use a squared error criterion in Gradient Boosting.\n",
            "  warnings.warn(\n",
            "/usr/local/lib/python3.8/dist-packages/sklearn/ensemble/_gb.py:1284: FutureWarning: criterion='mae' was deprecated in version 0.24 and will be removed in version 1.1 (renaming of 0.26). Use criterion='friedman_mse' or 'squared_error' instead, as trees should use a squared error criterion in Gradient Boosting.\n",
            "  warnings.warn(\n",
            "/usr/local/lib/python3.8/dist-packages/sklearn/ensemble/_gb.py:1284: FutureWarning: criterion='mae' was deprecated in version 0.24 and will be removed in version 1.1 (renaming of 0.26). Use criterion='friedman_mse' or 'squared_error' instead, as trees should use a squared error criterion in Gradient Boosting.\n",
            "  warnings.warn(\n",
            "/usr/local/lib/python3.8/dist-packages/sklearn/ensemble/_gb.py:1284: FutureWarning: criterion='mae' was deprecated in version 0.24 and will be removed in version 1.1 (renaming of 0.26). Use criterion='friedman_mse' or 'squared_error' instead, as trees should use a squared error criterion in Gradient Boosting.\n",
            "  warnings.warn(\n",
            "/usr/local/lib/python3.8/dist-packages/sklearn/ensemble/_gb.py:1284: FutureWarning: criterion='mae' was deprecated in version 0.24 and will be removed in version 1.1 (renaming of 0.26). Use criterion='friedman_mse' or 'squared_error' instead, as trees should use a squared error criterion in Gradient Boosting.\n",
            "  warnings.warn(\n",
            "/usr/local/lib/python3.8/dist-packages/sklearn/ensemble/_gb.py:1284: FutureWarning: criterion='mae' was deprecated in version 0.24 and will be removed in version 1.1 (renaming of 0.26). Use criterion='friedman_mse' or 'squared_error' instead, as trees should use a squared error criterion in Gradient Boosting.\n",
            "  warnings.warn(\n",
            "/usr/local/lib/python3.8/dist-packages/sklearn/ensemble/_gb.py:1284: FutureWarning: criterion='mae' was deprecated in version 0.24 and will be removed in version 1.1 (renaming of 0.26). Use criterion='friedman_mse' or 'squared_error' instead, as trees should use a squared error criterion in Gradient Boosting.\n",
            "  warnings.warn(\n",
            "/usr/local/lib/python3.8/dist-packages/sklearn/ensemble/_gb.py:1284: FutureWarning: criterion='mae' was deprecated in version 0.24 and will be removed in version 1.1 (renaming of 0.26). Use criterion='friedman_mse' or 'squared_error' instead, as trees should use a squared error criterion in Gradient Boosting.\n",
            "  warnings.warn(\n",
            "/usr/local/lib/python3.8/dist-packages/sklearn/ensemble/_gb.py:1284: FutureWarning: criterion='mae' was deprecated in version 0.24 and will be removed in version 1.1 (renaming of 0.26). Use criterion='friedman_mse' or 'squared_error' instead, as trees should use a squared error criterion in Gradient Boosting.\n",
            "  warnings.warn(\n",
            "/usr/local/lib/python3.8/dist-packages/sklearn/ensemble/_gb.py:1284: FutureWarning: criterion='mae' was deprecated in version 0.24 and will be removed in version 1.1 (renaming of 0.26). Use criterion='friedman_mse' or 'squared_error' instead, as trees should use a squared error criterion in Gradient Boosting.\n",
            "  warnings.warn(\n",
            "/usr/local/lib/python3.8/dist-packages/sklearn/ensemble/_gb.py:1284: FutureWarning: criterion='mae' was deprecated in version 0.24 and will be removed in version 1.1 (renaming of 0.26). Use criterion='friedman_mse' or 'squared_error' instead, as trees should use a squared error criterion in Gradient Boosting.\n",
            "  warnings.warn(\n",
            "/usr/local/lib/python3.8/dist-packages/sklearn/ensemble/_gb.py:1284: FutureWarning: criterion='mae' was deprecated in version 0.24 and will be removed in version 1.1 (renaming of 0.26). Use criterion='friedman_mse' or 'squared_error' instead, as trees should use a squared error criterion in Gradient Boosting.\n",
            "  warnings.warn(\n",
            "/usr/local/lib/python3.8/dist-packages/sklearn/ensemble/_gb.py:1284: FutureWarning: criterion='mae' was deprecated in version 0.24 and will be removed in version 1.1 (renaming of 0.26). Use criterion='friedman_mse' or 'squared_error' instead, as trees should use a squared error criterion in Gradient Boosting.\n",
            "  warnings.warn(\n",
            "/usr/local/lib/python3.8/dist-packages/sklearn/ensemble/_gb.py:1284: FutureWarning: criterion='mae' was deprecated in version 0.24 and will be removed in version 1.1 (renaming of 0.26). Use criterion='friedman_mse' or 'squared_error' instead, as trees should use a squared error criterion in Gradient Boosting.\n",
            "  warnings.warn(\n",
            "/usr/local/lib/python3.8/dist-packages/sklearn/ensemble/_gb.py:1284: FutureWarning: criterion='mae' was deprecated in version 0.24 and will be removed in version 1.1 (renaming of 0.26). Use criterion='friedman_mse' or 'squared_error' instead, as trees should use a squared error criterion in Gradient Boosting.\n",
            "  warnings.warn(\n",
            "/usr/local/lib/python3.8/dist-packages/sklearn/ensemble/_gb.py:1284: FutureWarning: criterion='mae' was deprecated in version 0.24 and will be removed in version 1.1 (renaming of 0.26). Use criterion='friedman_mse' or 'squared_error' instead, as trees should use a squared error criterion in Gradient Boosting.\n",
            "  warnings.warn(\n",
            "/usr/local/lib/python3.8/dist-packages/sklearn/ensemble/_gb.py:1284: FutureWarning: criterion='mae' was deprecated in version 0.24 and will be removed in version 1.1 (renaming of 0.26). Use criterion='friedman_mse' or 'squared_error' instead, as trees should use a squared error criterion in Gradient Boosting.\n",
            "  warnings.warn(\n",
            "/usr/local/lib/python3.8/dist-packages/sklearn/ensemble/_gb.py:1284: FutureWarning: criterion='mae' was deprecated in version 0.24 and will be removed in version 1.1 (renaming of 0.26). Use criterion='friedman_mse' or 'squared_error' instead, as trees should use a squared error criterion in Gradient Boosting.\n",
            "  warnings.warn(\n",
            "/usr/local/lib/python3.8/dist-packages/sklearn/ensemble/_gb.py:1284: FutureWarning: criterion='mae' was deprecated in version 0.24 and will be removed in version 1.1 (renaming of 0.26). Use criterion='friedman_mse' or 'squared_error' instead, as trees should use a squared error criterion in Gradient Boosting.\n",
            "  warnings.warn(\n",
            "/usr/local/lib/python3.8/dist-packages/sklearn/ensemble/_gb.py:1284: FutureWarning: criterion='mae' was deprecated in version 0.24 and will be removed in version 1.1 (renaming of 0.26). Use criterion='friedman_mse' or 'squared_error' instead, as trees should use a squared error criterion in Gradient Boosting.\n",
            "  warnings.warn(\n",
            "/usr/local/lib/python3.8/dist-packages/sklearn/ensemble/_gb.py:1284: FutureWarning: criterion='mae' was deprecated in version 0.24 and will be removed in version 1.1 (renaming of 0.26). Use criterion='friedman_mse' or 'squared_error' instead, as trees should use a squared error criterion in Gradient Boosting.\n",
            "  warnings.warn(\n",
            "/usr/local/lib/python3.8/dist-packages/sklearn/ensemble/_gb.py:1284: FutureWarning: criterion='mae' was deprecated in version 0.24 and will be removed in version 1.1 (renaming of 0.26). Use criterion='friedman_mse' or 'squared_error' instead, as trees should use a squared error criterion in Gradient Boosting.\n",
            "  warnings.warn(\n",
            "/usr/local/lib/python3.8/dist-packages/sklearn/ensemble/_gb.py:1284: FutureWarning: criterion='mae' was deprecated in version 0.24 and will be removed in version 1.1 (renaming of 0.26). Use criterion='friedman_mse' or 'squared_error' instead, as trees should use a squared error criterion in Gradient Boosting.\n",
            "  warnings.warn(\n",
            "/usr/local/lib/python3.8/dist-packages/sklearn/ensemble/_gb.py:1284: FutureWarning: criterion='mae' was deprecated in version 0.24 and will be removed in version 1.1 (renaming of 0.26). Use criterion='friedman_mse' or 'squared_error' instead, as trees should use a squared error criterion in Gradient Boosting.\n",
            "  warnings.warn(\n",
            "/usr/local/lib/python3.8/dist-packages/sklearn/ensemble/_gb.py:1284: FutureWarning: criterion='mae' was deprecated in version 0.24 and will be removed in version 1.1 (renaming of 0.26). Use criterion='friedman_mse' or 'squared_error' instead, as trees should use a squared error criterion in Gradient Boosting.\n",
            "  warnings.warn(\n",
            "/usr/local/lib/python3.8/dist-packages/sklearn/ensemble/_gb.py:1284: FutureWarning: criterion='mae' was deprecated in version 0.24 and will be removed in version 1.1 (renaming of 0.26). Use criterion='friedman_mse' or 'squared_error' instead, as trees should use a squared error criterion in Gradient Boosting.\n",
            "  warnings.warn(\n",
            "/usr/local/lib/python3.8/dist-packages/sklearn/ensemble/_gb.py:1284: FutureWarning: criterion='mae' was deprecated in version 0.24 and will be removed in version 1.1 (renaming of 0.26). Use criterion='friedman_mse' or 'squared_error' instead, as trees should use a squared error criterion in Gradient Boosting.\n",
            "  warnings.warn(\n",
            "/usr/local/lib/python3.8/dist-packages/sklearn/ensemble/_gb.py:1284: FutureWarning: criterion='mae' was deprecated in version 0.24 and will be removed in version 1.1 (renaming of 0.26). Use criterion='friedman_mse' or 'squared_error' instead, as trees should use a squared error criterion in Gradient Boosting.\n",
            "  warnings.warn(\n",
            "/usr/local/lib/python3.8/dist-packages/sklearn/ensemble/_gb.py:1284: FutureWarning: criterion='mae' was deprecated in version 0.24 and will be removed in version 1.1 (renaming of 0.26). Use criterion='friedman_mse' or 'squared_error' instead, as trees should use a squared error criterion in Gradient Boosting.\n",
            "  warnings.warn(\n",
            "/usr/local/lib/python3.8/dist-packages/sklearn/ensemble/_gb.py:1284: FutureWarning: criterion='mae' was deprecated in version 0.24 and will be removed in version 1.1 (renaming of 0.26). Use criterion='friedman_mse' or 'squared_error' instead, as trees should use a squared error criterion in Gradient Boosting.\n",
            "  warnings.warn(\n",
            "/usr/local/lib/python3.8/dist-packages/sklearn/ensemble/_gb.py:1284: FutureWarning: criterion='mae' was deprecated in version 0.24 and will be removed in version 1.1 (renaming of 0.26). Use criterion='friedman_mse' or 'squared_error' instead, as trees should use a squared error criterion in Gradient Boosting.\n",
            "  warnings.warn(\n",
            "/usr/local/lib/python3.8/dist-packages/sklearn/ensemble/_gb.py:1284: FutureWarning: criterion='mae' was deprecated in version 0.24 and will be removed in version 1.1 (renaming of 0.26). Use criterion='friedman_mse' or 'squared_error' instead, as trees should use a squared error criterion in Gradient Boosting.\n",
            "  warnings.warn(\n",
            "/usr/local/lib/python3.8/dist-packages/sklearn/ensemble/_gb.py:1284: FutureWarning: criterion='mae' was deprecated in version 0.24 and will be removed in version 1.1 (renaming of 0.26). Use criterion='friedman_mse' or 'squared_error' instead, as trees should use a squared error criterion in Gradient Boosting.\n",
            "  warnings.warn(\n",
            "/usr/local/lib/python3.8/dist-packages/sklearn/ensemble/_gb.py:1284: FutureWarning: criterion='mae' was deprecated in version 0.24 and will be removed in version 1.1 (renaming of 0.26). Use criterion='friedman_mse' or 'squared_error' instead, as trees should use a squared error criterion in Gradient Boosting.\n",
            "  warnings.warn(\n",
            "/usr/local/lib/python3.8/dist-packages/sklearn/ensemble/_gb.py:1284: FutureWarning: criterion='mae' was deprecated in version 0.24 and will be removed in version 1.1 (renaming of 0.26). Use criterion='friedman_mse' or 'squared_error' instead, as trees should use a squared error criterion in Gradient Boosting.\n",
            "  warnings.warn(\n",
            "/usr/local/lib/python3.8/dist-packages/sklearn/ensemble/_gb.py:1284: FutureWarning: criterion='mae' was deprecated in version 0.24 and will be removed in version 1.1 (renaming of 0.26). Use criterion='friedman_mse' or 'squared_error' instead, as trees should use a squared error criterion in Gradient Boosting.\n",
            "  warnings.warn(\n",
            "/usr/local/lib/python3.8/dist-packages/sklearn/ensemble/_gb.py:1284: FutureWarning: criterion='mae' was deprecated in version 0.24 and will be removed in version 1.1 (renaming of 0.26). Use criterion='friedman_mse' or 'squared_error' instead, as trees should use a squared error criterion in Gradient Boosting.\n",
            "  warnings.warn(\n",
            "/usr/local/lib/python3.8/dist-packages/sklearn/ensemble/_gb.py:1284: FutureWarning: criterion='mae' was deprecated in version 0.24 and will be removed in version 1.1 (renaming of 0.26). Use criterion='friedman_mse' or 'squared_error' instead, as trees should use a squared error criterion in Gradient Boosting.\n",
            "  warnings.warn(\n",
            "/usr/local/lib/python3.8/dist-packages/sklearn/ensemble/_gb.py:1284: FutureWarning: criterion='mae' was deprecated in version 0.24 and will be removed in version 1.1 (renaming of 0.26). Use criterion='friedman_mse' or 'squared_error' instead, as trees should use a squared error criterion in Gradient Boosting.\n",
            "  warnings.warn(\n",
            "/usr/local/lib/python3.8/dist-packages/sklearn/ensemble/_gb.py:1284: FutureWarning: criterion='mae' was deprecated in version 0.24 and will be removed in version 1.1 (renaming of 0.26). Use criterion='friedman_mse' or 'squared_error' instead, as trees should use a squared error criterion in Gradient Boosting.\n",
            "  warnings.warn(\n",
            "/usr/local/lib/python3.8/dist-packages/sklearn/ensemble/_gb.py:1284: FutureWarning: criterion='mae' was deprecated in version 0.24 and will be removed in version 1.1 (renaming of 0.26). Use criterion='friedman_mse' or 'squared_error' instead, as trees should use a squared error criterion in Gradient Boosting.\n",
            "  warnings.warn(\n",
            "/usr/local/lib/python3.8/dist-packages/sklearn/ensemble/_gb.py:1284: FutureWarning: criterion='mae' was deprecated in version 0.24 and will be removed in version 1.1 (renaming of 0.26). Use criterion='friedman_mse' or 'squared_error' instead, as trees should use a squared error criterion in Gradient Boosting.\n",
            "  warnings.warn(\n",
            "/usr/local/lib/python3.8/dist-packages/sklearn/ensemble/_gb.py:1284: FutureWarning: criterion='mae' was deprecated in version 0.24 and will be removed in version 1.1 (renaming of 0.26). Use criterion='friedman_mse' or 'squared_error' instead, as trees should use a squared error criterion in Gradient Boosting.\n",
            "  warnings.warn(\n",
            "/usr/local/lib/python3.8/dist-packages/sklearn/ensemble/_gb.py:1284: FutureWarning: criterion='mae' was deprecated in version 0.24 and will be removed in version 1.1 (renaming of 0.26). Use criterion='friedman_mse' or 'squared_error' instead, as trees should use a squared error criterion in Gradient Boosting.\n",
            "  warnings.warn(\n",
            "/usr/local/lib/python3.8/dist-packages/sklearn/ensemble/_gb.py:1284: FutureWarning: criterion='mae' was deprecated in version 0.24 and will be removed in version 1.1 (renaming of 0.26). Use criterion='friedman_mse' or 'squared_error' instead, as trees should use a squared error criterion in Gradient Boosting.\n",
            "  warnings.warn(\n",
            "/usr/local/lib/python3.8/dist-packages/sklearn/ensemble/_gb.py:1284: FutureWarning: criterion='mae' was deprecated in version 0.24 and will be removed in version 1.1 (renaming of 0.26). Use criterion='friedman_mse' or 'squared_error' instead, as trees should use a squared error criterion in Gradient Boosting.\n",
            "  warnings.warn(\n",
            "/usr/local/lib/python3.8/dist-packages/sklearn/ensemble/_gb.py:1284: FutureWarning: criterion='mae' was deprecated in version 0.24 and will be removed in version 1.1 (renaming of 0.26). Use criterion='friedman_mse' or 'squared_error' instead, as trees should use a squared error criterion in Gradient Boosting.\n",
            "  warnings.warn(\n",
            "/usr/local/lib/python3.8/dist-packages/sklearn/ensemble/_gb.py:1284: FutureWarning: criterion='mae' was deprecated in version 0.24 and will be removed in version 1.1 (renaming of 0.26). Use criterion='friedman_mse' or 'squared_error' instead, as trees should use a squared error criterion in Gradient Boosting.\n",
            "  warnings.warn(\n",
            "/usr/local/lib/python3.8/dist-packages/sklearn/ensemble/_gb.py:1284: FutureWarning: criterion='mae' was deprecated in version 0.24 and will be removed in version 1.1 (renaming of 0.26). Use criterion='friedman_mse' or 'squared_error' instead, as trees should use a squared error criterion in Gradient Boosting.\n",
            "  warnings.warn(\n",
            "/usr/local/lib/python3.8/dist-packages/sklearn/ensemble/_gb.py:1284: FutureWarning: criterion='mae' was deprecated in version 0.24 and will be removed in version 1.1 (renaming of 0.26). Use criterion='friedman_mse' or 'squared_error' instead, as trees should use a squared error criterion in Gradient Boosting.\n",
            "  warnings.warn(\n",
            "/usr/local/lib/python3.8/dist-packages/sklearn/ensemble/_gb.py:1284: FutureWarning: criterion='mae' was deprecated in version 0.24 and will be removed in version 1.1 (renaming of 0.26). Use criterion='friedman_mse' or 'squared_error' instead, as trees should use a squared error criterion in Gradient Boosting.\n",
            "  warnings.warn(\n",
            "/usr/local/lib/python3.8/dist-packages/sklearn/ensemble/_gb.py:1284: FutureWarning: criterion='mae' was deprecated in version 0.24 and will be removed in version 1.1 (renaming of 0.26). Use criterion='friedman_mse' or 'squared_error' instead, as trees should use a squared error criterion in Gradient Boosting.\n",
            "  warnings.warn(\n",
            "/usr/local/lib/python3.8/dist-packages/sklearn/ensemble/_gb.py:1284: FutureWarning: criterion='mae' was deprecated in version 0.24 and will be removed in version 1.1 (renaming of 0.26). Use criterion='friedman_mse' or 'squared_error' instead, as trees should use a squared error criterion in Gradient Boosting.\n",
            "  warnings.warn(\n",
            "/usr/local/lib/python3.8/dist-packages/sklearn/ensemble/_gb.py:1284: FutureWarning: criterion='mae' was deprecated in version 0.24 and will be removed in version 1.1 (renaming of 0.26). Use criterion='friedman_mse' or 'squared_error' instead, as trees should use a squared error criterion in Gradient Boosting.\n",
            "  warnings.warn(\n",
            "/usr/local/lib/python3.8/dist-packages/sklearn/ensemble/_gb.py:1284: FutureWarning: criterion='mae' was deprecated in version 0.24 and will be removed in version 1.1 (renaming of 0.26). Use criterion='friedman_mse' or 'squared_error' instead, as trees should use a squared error criterion in Gradient Boosting.\n",
            "  warnings.warn(\n",
            "/usr/local/lib/python3.8/dist-packages/sklearn/ensemble/_gb.py:1284: FutureWarning: criterion='mae' was deprecated in version 0.24 and will be removed in version 1.1 (renaming of 0.26). Use criterion='friedman_mse' or 'squared_error' instead, as trees should use a squared error criterion in Gradient Boosting.\n",
            "  warnings.warn(\n",
            "/usr/local/lib/python3.8/dist-packages/sklearn/ensemble/_gb.py:1284: FutureWarning: criterion='mae' was deprecated in version 0.24 and will be removed in version 1.1 (renaming of 0.26). Use criterion='friedman_mse' or 'squared_error' instead, as trees should use a squared error criterion in Gradient Boosting.\n",
            "  warnings.warn(\n",
            "/usr/local/lib/python3.8/dist-packages/sklearn/ensemble/_gb.py:1284: FutureWarning: criterion='mae' was deprecated in version 0.24 and will be removed in version 1.1 (renaming of 0.26). Use criterion='friedman_mse' or 'squared_error' instead, as trees should use a squared error criterion in Gradient Boosting.\n",
            "  warnings.warn(\n",
            "/usr/local/lib/python3.8/dist-packages/sklearn/ensemble/_gb.py:1284: FutureWarning: criterion='mae' was deprecated in version 0.24 and will be removed in version 1.1 (renaming of 0.26). Use criterion='friedman_mse' or 'squared_error' instead, as trees should use a squared error criterion in Gradient Boosting.\n",
            "  warnings.warn(\n",
            "/usr/local/lib/python3.8/dist-packages/sklearn/ensemble/_gb.py:1284: FutureWarning: criterion='mae' was deprecated in version 0.24 and will be removed in version 1.1 (renaming of 0.26). Use criterion='friedman_mse' or 'squared_error' instead, as trees should use a squared error criterion in Gradient Boosting.\n",
            "  warnings.warn(\n",
            "/usr/local/lib/python3.8/dist-packages/sklearn/ensemble/_gb.py:1284: FutureWarning: criterion='mae' was deprecated in version 0.24 and will be removed in version 1.1 (renaming of 0.26). Use criterion='friedman_mse' or 'squared_error' instead, as trees should use a squared error criterion in Gradient Boosting.\n",
            "  warnings.warn(\n",
            "/usr/local/lib/python3.8/dist-packages/sklearn/ensemble/_gb.py:1284: FutureWarning: criterion='mae' was deprecated in version 0.24 and will be removed in version 1.1 (renaming of 0.26). Use criterion='friedman_mse' or 'squared_error' instead, as trees should use a squared error criterion in Gradient Boosting.\n",
            "  warnings.warn(\n",
            "/usr/local/lib/python3.8/dist-packages/sklearn/ensemble/_gb.py:1284: FutureWarning: criterion='mae' was deprecated in version 0.24 and will be removed in version 1.1 (renaming of 0.26). Use criterion='friedman_mse' or 'squared_error' instead, as trees should use a squared error criterion in Gradient Boosting.\n",
            "  warnings.warn(\n",
            "/usr/local/lib/python3.8/dist-packages/sklearn/ensemble/_gb.py:1284: FutureWarning: criterion='mae' was deprecated in version 0.24 and will be removed in version 1.1 (renaming of 0.26). Use criterion='friedman_mse' or 'squared_error' instead, as trees should use a squared error criterion in Gradient Boosting.\n",
            "  warnings.warn(\n",
            "/usr/local/lib/python3.8/dist-packages/sklearn/ensemble/_gb.py:1284: FutureWarning: criterion='mae' was deprecated in version 0.24 and will be removed in version 1.1 (renaming of 0.26). Use criterion='friedman_mse' or 'squared_error' instead, as trees should use a squared error criterion in Gradient Boosting.\n",
            "  warnings.warn(\n",
            "/usr/local/lib/python3.8/dist-packages/sklearn/ensemble/_gb.py:1284: FutureWarning: criterion='mae' was deprecated in version 0.24 and will be removed in version 1.1 (renaming of 0.26). Use criterion='friedman_mse' or 'squared_error' instead, as trees should use a squared error criterion in Gradient Boosting.\n",
            "  warnings.warn(\n",
            "/usr/local/lib/python3.8/dist-packages/sklearn/ensemble/_gb.py:1284: FutureWarning: criterion='mae' was deprecated in version 0.24 and will be removed in version 1.1 (renaming of 0.26). Use criterion='friedman_mse' or 'squared_error' instead, as trees should use a squared error criterion in Gradient Boosting.\n",
            "  warnings.warn(\n",
            "/usr/local/lib/python3.8/dist-packages/sklearn/ensemble/_gb.py:1284: FutureWarning: criterion='mae' was deprecated in version 0.24 and will be removed in version 1.1 (renaming of 0.26). Use criterion='friedman_mse' or 'squared_error' instead, as trees should use a squared error criterion in Gradient Boosting.\n",
            "  warnings.warn(\n",
            "/usr/local/lib/python3.8/dist-packages/sklearn/ensemble/_gb.py:1284: FutureWarning: criterion='mae' was deprecated in version 0.24 and will be removed in version 1.1 (renaming of 0.26). Use criterion='friedman_mse' or 'squared_error' instead, as trees should use a squared error criterion in Gradient Boosting.\n",
            "  warnings.warn(\n",
            "/usr/local/lib/python3.8/dist-packages/sklearn/ensemble/_gb.py:1284: FutureWarning: criterion='mae' was deprecated in version 0.24 and will be removed in version 1.1 (renaming of 0.26). Use criterion='friedman_mse' or 'squared_error' instead, as trees should use a squared error criterion in Gradient Boosting.\n",
            "  warnings.warn(\n",
            "/usr/local/lib/python3.8/dist-packages/sklearn/ensemble/_gb.py:1284: FutureWarning: criterion='mae' was deprecated in version 0.24 and will be removed in version 1.1 (renaming of 0.26). Use criterion='friedman_mse' or 'squared_error' instead, as trees should use a squared error criterion in Gradient Boosting.\n",
            "  warnings.warn(\n",
            "/usr/local/lib/python3.8/dist-packages/sklearn/ensemble/_gb.py:1284: FutureWarning: criterion='mae' was deprecated in version 0.24 and will be removed in version 1.1 (renaming of 0.26). Use criterion='friedman_mse' or 'squared_error' instead, as trees should use a squared error criterion in Gradient Boosting.\n",
            "  warnings.warn(\n",
            "/usr/local/lib/python3.8/dist-packages/sklearn/ensemble/_gb.py:1284: FutureWarning: criterion='mae' was deprecated in version 0.24 and will be removed in version 1.1 (renaming of 0.26). Use criterion='friedman_mse' or 'squared_error' instead, as trees should use a squared error criterion in Gradient Boosting.\n",
            "  warnings.warn(\n",
            "/usr/local/lib/python3.8/dist-packages/sklearn/ensemble/_gb.py:1284: FutureWarning: criterion='mae' was deprecated in version 0.24 and will be removed in version 1.1 (renaming of 0.26). Use criterion='friedman_mse' or 'squared_error' instead, as trees should use a squared error criterion in Gradient Boosting.\n",
            "  warnings.warn(\n",
            "/usr/local/lib/python3.8/dist-packages/sklearn/ensemble/_gb.py:1284: FutureWarning: criterion='mae' was deprecated in version 0.24 and will be removed in version 1.1 (renaming of 0.26). Use criterion='friedman_mse' or 'squared_error' instead, as trees should use a squared error criterion in Gradient Boosting.\n",
            "  warnings.warn(\n",
            "/usr/local/lib/python3.8/dist-packages/sklearn/ensemble/_gb.py:1284: FutureWarning: criterion='mae' was deprecated in version 0.24 and will be removed in version 1.1 (renaming of 0.26). Use criterion='friedman_mse' or 'squared_error' instead, as trees should use a squared error criterion in Gradient Boosting.\n",
            "  warnings.warn(\n",
            "/usr/local/lib/python3.8/dist-packages/sklearn/ensemble/_gb.py:1284: FutureWarning: criterion='mae' was deprecated in version 0.24 and will be removed in version 1.1 (renaming of 0.26). Use criterion='friedman_mse' or 'squared_error' instead, as trees should use a squared error criterion in Gradient Boosting.\n",
            "  warnings.warn(\n",
            "/usr/local/lib/python3.8/dist-packages/sklearn/ensemble/_gb.py:1284: FutureWarning: criterion='mae' was deprecated in version 0.24 and will be removed in version 1.1 (renaming of 0.26). Use criterion='friedman_mse' or 'squared_error' instead, as trees should use a squared error criterion in Gradient Boosting.\n",
            "  warnings.warn(\n",
            "/usr/local/lib/python3.8/dist-packages/sklearn/ensemble/_gb.py:1284: FutureWarning: criterion='mae' was deprecated in version 0.24 and will be removed in version 1.1 (renaming of 0.26). Use criterion='friedman_mse' or 'squared_error' instead, as trees should use a squared error criterion in Gradient Boosting.\n",
            "  warnings.warn(\n",
            "/usr/local/lib/python3.8/dist-packages/sklearn/ensemble/_gb.py:1284: FutureWarning: criterion='mae' was deprecated in version 0.24 and will be removed in version 1.1 (renaming of 0.26). Use criterion='friedman_mse' or 'squared_error' instead, as trees should use a squared error criterion in Gradient Boosting.\n",
            "  warnings.warn(\n",
            "/usr/local/lib/python3.8/dist-packages/sklearn/ensemble/_gb.py:1284: FutureWarning: criterion='mae' was deprecated in version 0.24 and will be removed in version 1.1 (renaming of 0.26). Use criterion='friedman_mse' or 'squared_error' instead, as trees should use a squared error criterion in Gradient Boosting.\n",
            "  warnings.warn(\n",
            "/usr/local/lib/python3.8/dist-packages/sklearn/ensemble/_gb.py:1284: FutureWarning: criterion='mae' was deprecated in version 0.24 and will be removed in version 1.1 (renaming of 0.26). Use criterion='friedman_mse' or 'squared_error' instead, as trees should use a squared error criterion in Gradient Boosting.\n",
            "  warnings.warn(\n",
            "/usr/local/lib/python3.8/dist-packages/sklearn/ensemble/_gb.py:1284: FutureWarning: criterion='mae' was deprecated in version 0.24 and will be removed in version 1.1 (renaming of 0.26). Use criterion='friedman_mse' or 'squared_error' instead, as trees should use a squared error criterion in Gradient Boosting.\n",
            "  warnings.warn(\n",
            "/usr/local/lib/python3.8/dist-packages/sklearn/ensemble/_gb.py:1284: FutureWarning: criterion='mae' was deprecated in version 0.24 and will be removed in version 1.1 (renaming of 0.26). Use criterion='friedman_mse' or 'squared_error' instead, as trees should use a squared error criterion in Gradient Boosting.\n",
            "  warnings.warn(\n"
          ]
        },
        {
          "output_type": "execute_result",
          "data": {
            "text/plain": [
              "GridSearchCV(cv=3, estimator=GradientBoostingClassifier(random_state=144),\n",
              "             param_grid={'criterion': ['friedman_mse', 'absolute_error'],\n",
              "                         'loss': ['deviance'], 'max_depth': [3, 5, 8],\n",
              "                         'max_features': ['log2', 'sqrt'],\n",
              "                         'n_estimators': [10, 100],\n",
              "                         'subsample': [0.5, 0.618, 0.8, 0.85, 0.9]},\n",
              "             scoring='recall', verbose=1)"
            ]
          },
          "metadata": {},
          "execution_count": 208
        }
      ]
    },
    {
      "cell_type": "code",
      "source": [
        "pd.DataFrame(grid_search.cv_results_)"
      ],
      "metadata": {
        "id": "0SqiL9bvmj5w",
        "colab": {
          "base_uri": "https://localhost:8080/",
          "height": 921
        },
        "outputId": "8a52e28d-45cf-47f1-aaa4-486d99c5eff0"
      },
      "execution_count": 209,
      "outputs": [
        {
          "output_type": "execute_result",
          "data": {
            "text/plain": [
              "     mean_fit_time  std_fit_time  mean_score_time  std_score_time  \\\n",
              "0         0.063083      0.015822         0.007403        0.000507   \n",
              "1         0.040198      0.000846         0.006334        0.000066   \n",
              "2         0.042561      0.002997         0.007155        0.000783   \n",
              "3         0.043105      0.001171         0.006632        0.000248   \n",
              "4         0.043037      0.002197         0.006593        0.000434   \n",
              "..             ...           ...              ...             ...   \n",
              "115       5.035935      0.093446         0.014321        0.000545   \n",
              "116       7.030841      0.092167         0.014054        0.000452   \n",
              "117      10.828320      0.058030         0.015268        0.000718   \n",
              "118      12.162441      0.063229         0.014217        0.000228   \n",
              "119      13.349013      0.121328         0.014224        0.000446   \n",
              "\n",
              "    param_criterion param_loss param_max_depth param_max_features  \\\n",
              "0      friedman_mse   deviance               3               log2   \n",
              "1      friedman_mse   deviance               3               log2   \n",
              "2      friedman_mse   deviance               3               log2   \n",
              "3      friedman_mse   deviance               3               log2   \n",
              "4      friedman_mse   deviance               3               log2   \n",
              "..              ...        ...             ...                ...   \n",
              "115  absolute_error   deviance               8               sqrt   \n",
              "116  absolute_error   deviance               8               sqrt   \n",
              "117  absolute_error   deviance               8               sqrt   \n",
              "118  absolute_error   deviance               8               sqrt   \n",
              "119  absolute_error   deviance               8               sqrt   \n",
              "\n",
              "    param_n_estimators param_subsample  \\\n",
              "0                   10             0.5   \n",
              "1                   10           0.618   \n",
              "2                   10             0.8   \n",
              "3                   10            0.85   \n",
              "4                   10             0.9   \n",
              "..                 ...             ...   \n",
              "115                100             0.5   \n",
              "116                100           0.618   \n",
              "117                100             0.8   \n",
              "118                100            0.85   \n",
              "119                100             0.9   \n",
              "\n",
              "                                                params  split0_test_score  \\\n",
              "0    {'criterion': 'friedman_mse', 'loss': 'devianc...           0.752212   \n",
              "1    {'criterion': 'friedman_mse', 'loss': 'devianc...           0.750000   \n",
              "2    {'criterion': 'friedman_mse', 'loss': 'devianc...           0.764381   \n",
              "3    {'criterion': 'friedman_mse', 'loss': 'devianc...           0.765487   \n",
              "4    {'criterion': 'friedman_mse', 'loss': 'devianc...           0.771018   \n",
              "..                                                 ...                ...   \n",
              "115  {'criterion': 'absolute_error', 'loss': 'devia...           0.823009   \n",
              "116  {'criterion': 'absolute_error', 'loss': 'devia...           0.825221   \n",
              "117  {'criterion': 'absolute_error', 'loss': 'devia...           0.829646   \n",
              "118  {'criterion': 'absolute_error', 'loss': 'devia...           0.826327   \n",
              "119  {'criterion': 'absolute_error', 'loss': 'devia...           0.824115   \n",
              "\n",
              "     split1_test_score  split2_test_score  mean_test_score  std_test_score  \\\n",
              "0             0.768549           0.818584         0.779782        0.028236   \n",
              "1             0.772979           0.810841         0.777940        0.025085   \n",
              "2             0.772979           0.807522         0.781627        0.018644   \n",
              "3             0.767442           0.807522         0.780150        0.019371   \n",
              "4             0.767442           0.799779         0.779413        0.014475   \n",
              "..                 ...                ...              ...             ...   \n",
              "115           0.838317           0.879425         0.846917        0.023821   \n",
              "116           0.844961           0.878319         0.849500        0.021913   \n",
              "117           0.836102           0.878319         0.848022        0.021584   \n",
              "118           0.840532           0.883850         0.850236        0.024465   \n",
              "119           0.834994           0.875000         0.844703        0.021879   \n",
              "\n",
              "     rank_test_score  \n",
              "0                115  \n",
              "1                117  \n",
              "2                112  \n",
              "3                114  \n",
              "4                116  \n",
              "..               ...  \n",
              "115               27  \n",
              "116               13  \n",
              "117               24  \n",
              "118               12  \n",
              "119               30  \n",
              "\n",
              "[120 rows x 17 columns]"
            ],
            "text/html": [
              "\n",
              "  <div id=\"df-8aba452b-0faa-46eb-8623-251b7d15e66b\">\n",
              "    <div class=\"colab-df-container\">\n",
              "      <div>\n",
              "<style scoped>\n",
              "    .dataframe tbody tr th:only-of-type {\n",
              "        vertical-align: middle;\n",
              "    }\n",
              "\n",
              "    .dataframe tbody tr th {\n",
              "        vertical-align: top;\n",
              "    }\n",
              "\n",
              "    .dataframe thead th {\n",
              "        text-align: right;\n",
              "    }\n",
              "</style>\n",
              "<table border=\"1\" class=\"dataframe\">\n",
              "  <thead>\n",
              "    <tr style=\"text-align: right;\">\n",
              "      <th></th>\n",
              "      <th>mean_fit_time</th>\n",
              "      <th>std_fit_time</th>\n",
              "      <th>mean_score_time</th>\n",
              "      <th>std_score_time</th>\n",
              "      <th>param_criterion</th>\n",
              "      <th>param_loss</th>\n",
              "      <th>param_max_depth</th>\n",
              "      <th>param_max_features</th>\n",
              "      <th>param_n_estimators</th>\n",
              "      <th>param_subsample</th>\n",
              "      <th>params</th>\n",
              "      <th>split0_test_score</th>\n",
              "      <th>split1_test_score</th>\n",
              "      <th>split2_test_score</th>\n",
              "      <th>mean_test_score</th>\n",
              "      <th>std_test_score</th>\n",
              "      <th>rank_test_score</th>\n",
              "    </tr>\n",
              "  </thead>\n",
              "  <tbody>\n",
              "    <tr>\n",
              "      <th>0</th>\n",
              "      <td>0.063083</td>\n",
              "      <td>0.015822</td>\n",
              "      <td>0.007403</td>\n",
              "      <td>0.000507</td>\n",
              "      <td>friedman_mse</td>\n",
              "      <td>deviance</td>\n",
              "      <td>3</td>\n",
              "      <td>log2</td>\n",
              "      <td>10</td>\n",
              "      <td>0.5</td>\n",
              "      <td>{'criterion': 'friedman_mse', 'loss': 'devianc...</td>\n",
              "      <td>0.752212</td>\n",
              "      <td>0.768549</td>\n",
              "      <td>0.818584</td>\n",
              "      <td>0.779782</td>\n",
              "      <td>0.028236</td>\n",
              "      <td>115</td>\n",
              "    </tr>\n",
              "    <tr>\n",
              "      <th>1</th>\n",
              "      <td>0.040198</td>\n",
              "      <td>0.000846</td>\n",
              "      <td>0.006334</td>\n",
              "      <td>0.000066</td>\n",
              "      <td>friedman_mse</td>\n",
              "      <td>deviance</td>\n",
              "      <td>3</td>\n",
              "      <td>log2</td>\n",
              "      <td>10</td>\n",
              "      <td>0.618</td>\n",
              "      <td>{'criterion': 'friedman_mse', 'loss': 'devianc...</td>\n",
              "      <td>0.750000</td>\n",
              "      <td>0.772979</td>\n",
              "      <td>0.810841</td>\n",
              "      <td>0.777940</td>\n",
              "      <td>0.025085</td>\n",
              "      <td>117</td>\n",
              "    </tr>\n",
              "    <tr>\n",
              "      <th>2</th>\n",
              "      <td>0.042561</td>\n",
              "      <td>0.002997</td>\n",
              "      <td>0.007155</td>\n",
              "      <td>0.000783</td>\n",
              "      <td>friedman_mse</td>\n",
              "      <td>deviance</td>\n",
              "      <td>3</td>\n",
              "      <td>log2</td>\n",
              "      <td>10</td>\n",
              "      <td>0.8</td>\n",
              "      <td>{'criterion': 'friedman_mse', 'loss': 'devianc...</td>\n",
              "      <td>0.764381</td>\n",
              "      <td>0.772979</td>\n",
              "      <td>0.807522</td>\n",
              "      <td>0.781627</td>\n",
              "      <td>0.018644</td>\n",
              "      <td>112</td>\n",
              "    </tr>\n",
              "    <tr>\n",
              "      <th>3</th>\n",
              "      <td>0.043105</td>\n",
              "      <td>0.001171</td>\n",
              "      <td>0.006632</td>\n",
              "      <td>0.000248</td>\n",
              "      <td>friedman_mse</td>\n",
              "      <td>deviance</td>\n",
              "      <td>3</td>\n",
              "      <td>log2</td>\n",
              "      <td>10</td>\n",
              "      <td>0.85</td>\n",
              "      <td>{'criterion': 'friedman_mse', 'loss': 'devianc...</td>\n",
              "      <td>0.765487</td>\n",
              "      <td>0.767442</td>\n",
              "      <td>0.807522</td>\n",
              "      <td>0.780150</td>\n",
              "      <td>0.019371</td>\n",
              "      <td>114</td>\n",
              "    </tr>\n",
              "    <tr>\n",
              "      <th>4</th>\n",
              "      <td>0.043037</td>\n",
              "      <td>0.002197</td>\n",
              "      <td>0.006593</td>\n",
              "      <td>0.000434</td>\n",
              "      <td>friedman_mse</td>\n",
              "      <td>deviance</td>\n",
              "      <td>3</td>\n",
              "      <td>log2</td>\n",
              "      <td>10</td>\n",
              "      <td>0.9</td>\n",
              "      <td>{'criterion': 'friedman_mse', 'loss': 'devianc...</td>\n",
              "      <td>0.771018</td>\n",
              "      <td>0.767442</td>\n",
              "      <td>0.799779</td>\n",
              "      <td>0.779413</td>\n",
              "      <td>0.014475</td>\n",
              "      <td>116</td>\n",
              "    </tr>\n",
              "    <tr>\n",
              "      <th>...</th>\n",
              "      <td>...</td>\n",
              "      <td>...</td>\n",
              "      <td>...</td>\n",
              "      <td>...</td>\n",
              "      <td>...</td>\n",
              "      <td>...</td>\n",
              "      <td>...</td>\n",
              "      <td>...</td>\n",
              "      <td>...</td>\n",
              "      <td>...</td>\n",
              "      <td>...</td>\n",
              "      <td>...</td>\n",
              "      <td>...</td>\n",
              "      <td>...</td>\n",
              "      <td>...</td>\n",
              "      <td>...</td>\n",
              "      <td>...</td>\n",
              "    </tr>\n",
              "    <tr>\n",
              "      <th>115</th>\n",
              "      <td>5.035935</td>\n",
              "      <td>0.093446</td>\n",
              "      <td>0.014321</td>\n",
              "      <td>0.000545</td>\n",
              "      <td>absolute_error</td>\n",
              "      <td>deviance</td>\n",
              "      <td>8</td>\n",
              "      <td>sqrt</td>\n",
              "      <td>100</td>\n",
              "      <td>0.5</td>\n",
              "      <td>{'criterion': 'absolute_error', 'loss': 'devia...</td>\n",
              "      <td>0.823009</td>\n",
              "      <td>0.838317</td>\n",
              "      <td>0.879425</td>\n",
              "      <td>0.846917</td>\n",
              "      <td>0.023821</td>\n",
              "      <td>27</td>\n",
              "    </tr>\n",
              "    <tr>\n",
              "      <th>116</th>\n",
              "      <td>7.030841</td>\n",
              "      <td>0.092167</td>\n",
              "      <td>0.014054</td>\n",
              "      <td>0.000452</td>\n",
              "      <td>absolute_error</td>\n",
              "      <td>deviance</td>\n",
              "      <td>8</td>\n",
              "      <td>sqrt</td>\n",
              "      <td>100</td>\n",
              "      <td>0.618</td>\n",
              "      <td>{'criterion': 'absolute_error', 'loss': 'devia...</td>\n",
              "      <td>0.825221</td>\n",
              "      <td>0.844961</td>\n",
              "      <td>0.878319</td>\n",
              "      <td>0.849500</td>\n",
              "      <td>0.021913</td>\n",
              "      <td>13</td>\n",
              "    </tr>\n",
              "    <tr>\n",
              "      <th>117</th>\n",
              "      <td>10.828320</td>\n",
              "      <td>0.058030</td>\n",
              "      <td>0.015268</td>\n",
              "      <td>0.000718</td>\n",
              "      <td>absolute_error</td>\n",
              "      <td>deviance</td>\n",
              "      <td>8</td>\n",
              "      <td>sqrt</td>\n",
              "      <td>100</td>\n",
              "      <td>0.8</td>\n",
              "      <td>{'criterion': 'absolute_error', 'loss': 'devia...</td>\n",
              "      <td>0.829646</td>\n",
              "      <td>0.836102</td>\n",
              "      <td>0.878319</td>\n",
              "      <td>0.848022</td>\n",
              "      <td>0.021584</td>\n",
              "      <td>24</td>\n",
              "    </tr>\n",
              "    <tr>\n",
              "      <th>118</th>\n",
              "      <td>12.162441</td>\n",
              "      <td>0.063229</td>\n",
              "      <td>0.014217</td>\n",
              "      <td>0.000228</td>\n",
              "      <td>absolute_error</td>\n",
              "      <td>deviance</td>\n",
              "      <td>8</td>\n",
              "      <td>sqrt</td>\n",
              "      <td>100</td>\n",
              "      <td>0.85</td>\n",
              "      <td>{'criterion': 'absolute_error', 'loss': 'devia...</td>\n",
              "      <td>0.826327</td>\n",
              "      <td>0.840532</td>\n",
              "      <td>0.883850</td>\n",
              "      <td>0.850236</td>\n",
              "      <td>0.024465</td>\n",
              "      <td>12</td>\n",
              "    </tr>\n",
              "    <tr>\n",
              "      <th>119</th>\n",
              "      <td>13.349013</td>\n",
              "      <td>0.121328</td>\n",
              "      <td>0.014224</td>\n",
              "      <td>0.000446</td>\n",
              "      <td>absolute_error</td>\n",
              "      <td>deviance</td>\n",
              "      <td>8</td>\n",
              "      <td>sqrt</td>\n",
              "      <td>100</td>\n",
              "      <td>0.9</td>\n",
              "      <td>{'criterion': 'absolute_error', 'loss': 'devia...</td>\n",
              "      <td>0.824115</td>\n",
              "      <td>0.834994</td>\n",
              "      <td>0.875000</td>\n",
              "      <td>0.844703</td>\n",
              "      <td>0.021879</td>\n",
              "      <td>30</td>\n",
              "    </tr>\n",
              "  </tbody>\n",
              "</table>\n",
              "<p>120 rows × 17 columns</p>\n",
              "</div>\n",
              "      <button class=\"colab-df-convert\" onclick=\"convertToInteractive('df-8aba452b-0faa-46eb-8623-251b7d15e66b')\"\n",
              "              title=\"Convert this dataframe to an interactive table.\"\n",
              "              style=\"display:none;\">\n",
              "        \n",
              "  <svg xmlns=\"http://www.w3.org/2000/svg\" height=\"24px\"viewBox=\"0 0 24 24\"\n",
              "       width=\"24px\">\n",
              "    <path d=\"M0 0h24v24H0V0z\" fill=\"none\"/>\n",
              "    <path d=\"M18.56 5.44l.94 2.06.94-2.06 2.06-.94-2.06-.94-.94-2.06-.94 2.06-2.06.94zm-11 1L8.5 8.5l.94-2.06 2.06-.94-2.06-.94L8.5 2.5l-.94 2.06-2.06.94zm10 10l.94 2.06.94-2.06 2.06-.94-2.06-.94-.94-2.06-.94 2.06-2.06.94z\"/><path d=\"M17.41 7.96l-1.37-1.37c-.4-.4-.92-.59-1.43-.59-.52 0-1.04.2-1.43.59L10.3 9.45l-7.72 7.72c-.78.78-.78 2.05 0 2.83L4 21.41c.39.39.9.59 1.41.59.51 0 1.02-.2 1.41-.59l7.78-7.78 2.81-2.81c.8-.78.8-2.07 0-2.86zM5.41 20L4 18.59l7.72-7.72 1.47 1.35L5.41 20z\"/>\n",
              "  </svg>\n",
              "      </button>\n",
              "      \n",
              "  <style>\n",
              "    .colab-df-container {\n",
              "      display:flex;\n",
              "      flex-wrap:wrap;\n",
              "      gap: 12px;\n",
              "    }\n",
              "\n",
              "    .colab-df-convert {\n",
              "      background-color: #E8F0FE;\n",
              "      border: none;\n",
              "      border-radius: 50%;\n",
              "      cursor: pointer;\n",
              "      display: none;\n",
              "      fill: #1967D2;\n",
              "      height: 32px;\n",
              "      padding: 0 0 0 0;\n",
              "      width: 32px;\n",
              "    }\n",
              "\n",
              "    .colab-df-convert:hover {\n",
              "      background-color: #E2EBFA;\n",
              "      box-shadow: 0px 1px 2px rgba(60, 64, 67, 0.3), 0px 1px 3px 1px rgba(60, 64, 67, 0.15);\n",
              "      fill: #174EA6;\n",
              "    }\n",
              "\n",
              "    [theme=dark] .colab-df-convert {\n",
              "      background-color: #3B4455;\n",
              "      fill: #D2E3FC;\n",
              "    }\n",
              "\n",
              "    [theme=dark] .colab-df-convert:hover {\n",
              "      background-color: #434B5C;\n",
              "      box-shadow: 0px 1px 3px 1px rgba(0, 0, 0, 0.15);\n",
              "      filter: drop-shadow(0px 1px 2px rgba(0, 0, 0, 0.3));\n",
              "      fill: #FFFFFF;\n",
              "    }\n",
              "  </style>\n",
              "\n",
              "      <script>\n",
              "        const buttonEl =\n",
              "          document.querySelector('#df-8aba452b-0faa-46eb-8623-251b7d15e66b button.colab-df-convert');\n",
              "        buttonEl.style.display =\n",
              "          google.colab.kernel.accessAllowed ? 'block' : 'none';\n",
              "\n",
              "        async function convertToInteractive(key) {\n",
              "          const element = document.querySelector('#df-8aba452b-0faa-46eb-8623-251b7d15e66b');\n",
              "          const dataTable =\n",
              "            await google.colab.kernel.invokeFunction('convertToInteractive',\n",
              "                                                     [key], {});\n",
              "          if (!dataTable) return;\n",
              "\n",
              "          const docLinkHtml = 'Like what you see? Visit the ' +\n",
              "            '<a target=\"_blank\" href=https://colab.research.google.com/notebooks/data_table.ipynb>data table notebook</a>'\n",
              "            + ' to learn more about interactive tables.';\n",
              "          element.innerHTML = '';\n",
              "          dataTable['output_type'] = 'display_data';\n",
              "          await google.colab.output.renderOutput(dataTable, element);\n",
              "          const docLink = document.createElement('div');\n",
              "          docLink.innerHTML = docLinkHtml;\n",
              "          element.appendChild(docLink);\n",
              "        }\n",
              "      </script>\n",
              "    </div>\n",
              "  </div>\n",
              "  "
            ]
          },
          "metadata": {},
          "execution_count": 209
        }
      ]
    },
    {
      "cell_type": "code",
      "source": [
        "previsao_grid_search = grid_search.best_estimator_\n",
        "previsao_grid = previsao_grid_search.predict(x_teste_nm)"
      ],
      "metadata": {
        "id": "KfXw57qZmj3Q"
      },
      "execution_count": 210,
      "outputs": []
    },
    {
      "cell_type": "code",
      "source": [
        "grid_search.best_estimator_"
      ],
      "metadata": {
        "id": "kifLTPWTb52G",
        "colab": {
          "base_uri": "https://localhost:8080/"
        },
        "outputId": "8e352a3a-1f35-48cb-d052-4c3c062f3f81"
      },
      "execution_count": 211,
      "outputs": [
        {
          "output_type": "execute_result",
          "data": {
            "text/plain": [
              "GradientBoostingClassifier(max_depth=5, max_features='sqrt', random_state=144,\n",
              "                           subsample=0.9)"
            ]
          },
          "metadata": {},
          "execution_count": 211
        }
      ]
    },
    {
      "cell_type": "code",
      "source": [
        "print(classification_report(y_teste_nm, previsao_grid))"
      ],
      "metadata": {
        "id": "AxxLPrygcD5E",
        "colab": {
          "base_uri": "https://localhost:8080/"
        },
        "outputId": "44c339d8-b5c1-45cf-d20d-9d2b158b8ad4"
      },
      "execution_count": 212,
      "outputs": [
        {
          "output_type": "stream",
          "name": "stdout",
          "text": [
            "              precision    recall  f1-score   support\n",
            "\n",
            "         0.0       0.90      0.97      0.93       678\n",
            "         1.0       0.97      0.89      0.93       678\n",
            "\n",
            "    accuracy                           0.93      1356\n",
            "   macro avg       0.93      0.93      0.93      1356\n",
            "weighted avg       0.93      0.93      0.93      1356\n",
            "\n"
          ]
        }
      ]
    },
    {
      "cell_type": "code",
      "source": [
        "ConfusionMatrixDisplay.from_estimator(previsao_grid_search, x_teste_nm, y_teste_nm, cmap = 'Blues')\n",
        "plt.grid(False)\n",
        "plt.show()"
      ],
      "metadata": {
        "id": "kCKW2TOFcK2U",
        "colab": {
          "base_uri": "https://localhost:8080/",
          "height": 279
        },
        "outputId": "3955e68b-a97d-43b0-b495-a56fbf7ea7e3"
      },
      "execution_count": 213,
      "outputs": [
        {
          "output_type": "display_data",
          "data": {
            "text/plain": [
              "<Figure size 432x288 with 2 Axes>"
            ],
            "image/png": "[encoded data removed]"
          },
          "metadata": {
            "needs_background": "light"
          }
        }
      ]
    },
    {
      "cell_type": "markdown",
      "source": [
        "## Exportando o modelo"
      ],
      "metadata": {
        "id": "kb_qmxDi6Ou4"
      }
    },
    {
      "cell_type": "markdown",
      "source": [
        "O modelo treinado será exportado para usos futuros ou externos a plataforma."
      ],
      "metadata": {
        "id": "pliK5L588bHt"
      }
    },
    {
      "cell_type": "code",
      "source": [
        "import pickle"
      ],
      "metadata": {
        "id": "-eFd8M9qf-nh"
      },
      "execution_count": 214,
      "outputs": []
    },
    {
      "cell_type": "markdown",
      "source": [
        "#### Modelo one hot encoder"
      ],
      "metadata": {
        "id": "2DXleSda6bNH"
      }
    },
    {
      "cell_type": "code",
      "source": [
        "with open('one_hot_encoder.pkl', 'wb') as file:\n",
        "    pickle.dump(one_hot_enc, file)"
      ],
      "metadata": {
        "id": "f1hLU8Ww6Yw-"
      },
      "execution_count": 215,
      "outputs": []
    },
    {
      "cell_type": "markdown",
      "source": [
        "#### Modelo de normalização dos dados"
      ],
      "metadata": {
        "id": "g2knWSRg6d2o"
      }
    },
    {
      "cell_type": "code",
      "source": [
        "with open('scaler.pkl', 'wb') as file:\n",
        "    pickle.dump(scaler, file)"
      ],
      "metadata": {
        "id": "N8lO2XOb64uK"
      },
      "execution_count": 216,
      "outputs": []
    },
    {
      "cell_type": "markdown",
      "source": [
        "#### Modelo do gradient boosting do grid search"
      ],
      "metadata": {
        "id": "htC_QPHG6duH"
      }
    },
    {
      "cell_type": "code",
      "source": [
        "with open('modelo_treinado.pkl', 'wb') as file:\n",
        "    pickle.dump(previsao_grid_search, file)"
      ],
      "metadata": {
        "id": "pE8i2td_6jb3"
      },
      "execution_count": 217,
      "outputs": []
    }
  ]
}